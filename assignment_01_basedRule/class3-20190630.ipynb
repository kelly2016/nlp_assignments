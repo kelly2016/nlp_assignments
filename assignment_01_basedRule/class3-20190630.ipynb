{
 "cells": [
  {
   "cell_type": "markdown",
   "metadata": {},
   "source": [
    "simple_grammar = \"\"\"\n",
    "sentence => noun_phrase verb_phrase\n",
    "noun_phrase => Article Adj* noun\n",
    "Adj* => null | Adj Adj*\n",
    "verb_phrase => verb noun_phrase\n",
    "Article => 一个 | 这个\n",
    "noun => 女人|篮球|桌子|小猫\n",
    "verb => 看着|坐着|听着|看见\n",
    "Adj => 蓝色的|好看的|小小的\n",
    "\"\"\""
   ]
  },
  {
   "cell_type": "code",
   "execution_count": 3,
   "metadata": {},
   "outputs": [],
   "source": [
    "simple_grammar2 = \"\"\"\n",
    "number = number number | single_number\n",
    "single_number = 1|2|3|4|5|6|7|8|9|0\n",
    "\n",
    "\"\"\""
   ]
  },
  {
   "cell_type": "code",
   "execution_count": 4,
   "metadata": {},
   "outputs": [],
   "source": [
    "import random"
   ]
  },
  {
   "cell_type": "code",
   "execution_count": 5,
   "metadata": {},
   "outputs": [],
   "source": [
    "def adj(): return random.choice('蓝色的|好看的|小小的'.split('|')).split()"
   ]
  },
  {
   "cell_type": "code",
   "execution_count": 6,
   "metadata": {},
   "outputs": [
    {
     "data": {
      "text/plain": [
       "['好看的']"
      ]
     },
     "execution_count": 6,
     "metadata": {},
     "output_type": "execute_result"
    }
   ],
   "source": [
    "adj()"
   ]
  },
  {
   "cell_type": "code",
   "execution_count": 7,
   "metadata": {},
   "outputs": [],
   "source": [
    "def adj_star(): return random.choice([None,adj()+adj()])"
   ]
  },
  {
   "cell_type": "code",
   "execution_count": 8,
   "metadata": {},
   "outputs": [
    {
     "data": {
      "text/plain": [
       "['小小的', '小小的']"
      ]
     },
     "execution_count": 8,
     "metadata": {},
     "output_type": "execute_result"
    }
   ],
   "source": [
    "adj_star()"
   ]
  },
  {
   "cell_type": "code",
   "execution_count": 9,
   "metadata": {},
   "outputs": [],
   "source": [
    "adj_grammar = \"\"\"\n",
    "Adj* => null | Adj Adj*\n",
    "Adj => 蓝色的 | 好看的 |小小的\n",
    "\"\"\""
   ]
  },
  {
   "cell_type": "code",
   "execution_count": null,
   "metadata": {},
   "outputs": [],
   "source": []
  },
  {
   "cell_type": "code",
   "execution_count": 10,
   "metadata": {},
   "outputs": [],
   "source": [
    "def create_grammar(grammar_str,split='=>',line_split = '\\n'):\n",
    "    grammar = {}\n",
    "    for line in grammar_str.split(line_split):\n",
    "        if not line.strip(): continue\n",
    "        #print(line)\n",
    "        exp,stmt = line.split(split)\n",
    "    \n",
    "        grammar[exp.strip()] = [s.split()  for s in stmt.split('|')]\n",
    "    return grammar"
   ]
  },
  {
   "cell_type": "code",
   "execution_count": 11,
   "metadata": {},
   "outputs": [
    {
     "ename": "NameError",
     "evalue": "name 'grammar' is not defined",
     "traceback": [
      "\u001b[0;31m---------------------------------------------------------------------------\u001b[0m",
      "\u001b[0;31mNameError\u001b[0m                                 Traceback (most recent call last)",
      "\u001b[0;32m<ipython-input-11-149a20374682>\u001b[0m in \u001b[0;36m<module>\u001b[0;34m\u001b[0m\n\u001b[0;32m----> 1\u001b[0;31m \u001b[0mgrammar\u001b[0m\u001b[0;34m\u001b[0m\u001b[0;34m\u001b[0m\u001b[0m\n\u001b[0m",
      "\u001b[0;31mNameError\u001b[0m: name 'grammar' is not defined"
     ],
     "output_type": "error"
    }
   ],
   "source": [
    "grammar"
   ]
  },
  {
   "cell_type": "code",
   "execution_count": 12,
   "metadata": {},
   "outputs": [],
   "source": [
    "choice = random.choice\n",
    "def generate(gram,target):\n",
    "    if target not in gram: return target\n",
    "    expaned = [generate(gram,t) for t in random.choice(gram[target])]\n",
    "    '''\n",
    "    tmp = []\n",
    "    for e  in expaned:\n",
    "        if e!='null':\n",
    "            if e != '/n':\n",
    "                tmp.append(e)\n",
    "                \n",
    "            else:\n",
    "                tmp.append('\\n')\n",
    "                print('e=',e)\n",
    "                print('tmp=',tmp)\n",
    "    '''\n",
    "    #print(expaned)\n",
    "    return ''.join([e if e != '/n' else '\\n' for e  in expaned if e!='null'] )\n",
    "    "
   ]
  },
  {
   "cell_type": "code",
   "execution_count": 13,
   "metadata": {},
   "outputs": [],
   "source": [
    "example_grammar = create_grammar(simple_grammar)"
   ]
  },
  {
   "cell_type": "code",
   "execution_count": 14,
   "metadata": {},
   "outputs": [
    {
     "data": {
      "text/plain": [
       "{'sentence': [['noun_phrase', 'verb_phrase']],\n",
       " 'noun_phrase': [['Article', 'Adj*', 'noun']],\n",
       " 'Adj*': [['null'], ['Adj', 'Adj*']],\n",
       " 'verb_phrase': [['verb', 'noun_phrase']],\n",
       " 'Article': [['一个'], ['这个']],\n",
       " 'noun': [['女人'], ['篮球'], ['桌子'], ['小猫']],\n",
       " 'verb': [['看着'], ['坐着'], ['听着'], ['看见']],\n",
       " 'Adj': [['蓝色的'], ['好看的'], ['小小的']]}"
      ]
     },
     "execution_count": 14,
     "metadata": {},
     "output_type": "execute_result"
    }
   ],
   "source": [
    "example_grammar"
   ]
  },
  {
   "cell_type": "code",
   "execution_count": 15,
   "metadata": {},
   "outputs": [
    {
     "data": {
      "text/plain": [
       "'一个小猫坐着这个蓝色的桌子'"
      ]
     },
     "execution_count": 15,
     "metadata": {},
     "output_type": "execute_result"
    }
   ],
   "source": [
    "generate(gram=example_grammar,target='sentence')"
   ]
  },
  {
   "cell_type": "code",
   "execution_count": 16,
   "metadata": {},
   "outputs": [],
   "source": [
    "#在西部世界里，一个”人类“的语言可以定义为：\n",
    "\n",
    "human = \"\"\"\n",
    "human = 自己 寻找 活动\n",
    "自己 = 我 | 俺 | 我们 \n",
    "寻找 = 看看 | 找找 | 想找点\n",
    "活动 = 乐子 | 玩的\n",
    "\"\"\"\n",
    "#一个“接待员”的语言可以定义为\n",
    "\n",
    "host = \"\"\"\n",
    "host = 寒暄 报数 询问 业务相关 结尾 \n",
    "报数 = 我是 数字 号 ,\n",
    "数字 = 单个数字 | 数字 单个数字 \n",
    "单个数字 = 1 | 2 | 3 | 4 | 5 | 6 | 7 | 8 | 9 \n",
    "寒暄 = 称谓 打招呼 | 打招呼\n",
    "称谓 = 人称 ,\n",
    "人称 = 先生 | 女士 | 小朋友\n",
    "打招呼 = 你好 | 您好 \n",
    "询问 = 请问你要 | 您需要\n",
    "业务相关 = 玩玩 具体业务\n",
    "玩玩 = 耍一耍 | 玩一玩\n",
    "具体业务 = 喝酒 | 打牌 | 打猎 | 赌博\n",
    "结尾 = 吗？\"\"\""
   ]
  },
  {
   "cell_type": "code",
   "execution_count": 17,
   "metadata": {},
   "outputs": [],
   "source": [
    "example_grammar =create_grammar(human,split='=')"
   ]
  },
  {
   "cell_type": "code",
   "execution_count": 18,
   "metadata": {},
   "outputs": [
    {
     "data": {
      "text/plain": [
       "{'human': [['自己', '寻找', '活动']],\n",
       " '自己': [['我'], ['俺'], ['我们']],\n",
       " '寻找': [['看看'], ['找找'], ['想找点']],\n",
       " '活动': [['乐子'], ['玩的']]}"
      ]
     },
     "execution_count": 18,
     "metadata": {},
     "output_type": "execute_result"
    }
   ],
   "source": [
    "example_grammar"
   ]
  },
  {
   "cell_type": "code",
   "execution_count": 19,
   "metadata": {},
   "outputs": [
    {
     "data": {
      "text/plain": [
       "'我们找找玩的'"
      ]
     },
     "execution_count": 19,
     "metadata": {},
     "output_type": "execute_result"
    }
   ],
   "source": [
    "generate( gram=example_grammar,target='human')"
   ]
  },
  {
   "cell_type": "code",
   "execution_count": 20,
   "metadata": {},
   "outputs": [],
   "source": [
    "programming = \"\"\"\n",
    "stmt => if_exp | while_exp |assignment\n",
    "assignment => var = var\n",
    "if_exp => if ( var )  { /n stmt }\n",
    "while_exp => while ( var )  { /n stmt  }\n",
    "var => chars number\n",
    "chars => char | char char\n",
    "char => a | b | c | d | e\n",
    "number => 1 | 2 | 3\n",
    "\"\"\""
   ]
  },
  {
   "cell_type": "code",
   "execution_count": 21,
   "metadata": {},
   "outputs": [],
   "source": [
    "programming_grammar = create_grammar(programming)"
   ]
  },
  {
   "cell_type": "code",
   "execution_count": 22,
   "metadata": {},
   "outputs": [
    {
     "data": {
      "text/plain": [
       "{'stmt': [['if_exp'], ['while_exp'], ['assignment']],\n",
       " 'assignment': [['var', '=', 'var']],\n",
       " 'if_exp': [['if', '(', 'var', ')', '{', '/n', 'stmt', '}']],\n",
       " 'while_exp': [['while', '(', 'var', ')', '{', '/n', 'stmt', '}']],\n",
       " 'var': [['chars', 'number']],\n",
       " 'chars': [['char'], ['char', 'char']],\n",
       " 'char': [['a'], ['b'], ['c'], ['d'], ['e']],\n",
       " 'number': [['1'], ['2'], ['3']]}"
      ]
     },
     "execution_count": 22,
     "metadata": {},
     "output_type": "execute_result"
    }
   ],
   "source": [
    "programming_grammar"
   ]
  },
  {
   "cell_type": "code",
   "execution_count": 23,
   "metadata": {},
   "outputs": [
    {
     "name": "stdout",
     "output_type": "stream",
     "text": [
      "ce2=e3\n"
     ]
    }
   ],
   "source": [
    "print(generate( gram=programming_grammar,target='stmt'))"
   ]
  },
  {
   "cell_type": "code",
   "execution_count": 24,
   "metadata": {},
   "outputs": [],
   "source": [
    "import random"
   ]
  },
  {
   "cell_type": "code",
   "execution_count": 25,
   "metadata": {},
   "outputs": [
    {
     "data": {
      "text/plain": [
       "93"
      ]
     },
     "execution_count": 25,
     "metadata": {},
     "output_type": "execute_result"
    }
   ],
   "source": [
    "random.choice(range(100))"
   ]
  },
  {
   "cell_type": "code",
   "execution_count": 26,
   "metadata": {},
   "outputs": [],
   "source": [
    "filename = '/Users/henry/Documents/study/学习/nlp/nlp/article_9k.txt'"
   ]
  },
  {
   "cell_type": "code",
   "execution_count": 27,
   "metadata": {},
   "outputs": [],
   "source": [
    "import re"
   ]
  },
  {
   "cell_type": "code",
   "execution_count": 28,
   "metadata": {},
   "outputs": [],
   "source": [
    "def tokenize(string):\n",
    "    return re.findall('\\w+',string)"
   ]
  },
  {
   "cell_type": "code",
   "execution_count": 29,
   "metadata": {},
   "outputs": [],
   "source": [
    "#articles_clean = open(filename, 'r').readlines()"
   ]
  },
  {
   "cell_type": "code",
   "execution_count": null,
   "metadata": {},
   "outputs": [],
   "source": []
  },
  {
   "cell_type": "code",
   "execution_count": 30,
   "metadata": {},
   "outputs": [],
   "source": [
    "#print(len(articles_clean))"
   ]
  },
  {
   "cell_type": "code",
   "execution_count": 31,
   "metadata": {},
   "outputs": [],
   "source": [
    "import jieba"
   ]
  },
  {
   "cell_type": "code",
   "execution_count": 32,
   "metadata": {},
   "outputs": [],
   "source": [
    "def cut(string): return list(jieba.cut(string))"
   ]
  },
  {
   "cell_type": "code",
   "execution_count": 33,
   "metadata": {},
   "outputs": [
    {
     "name": "stderr",
     "output_type": "stream",
     "text": [
      "Building prefix dict from the default dictionary ...\n",
      "Loading model from cache /var/folders/4q/wn42vfys16n4b3yz7rsj8hw00000gn/T/jieba.cache\n"
     ]
    },
    {
     "name": "stdout",
     "output_type": "stream",
     "text": [
      "0\n"
     ]
    },
    {
     "name": "stderr",
     "output_type": "stream",
     "text": [
      "Loading model cost 1.426 seconds.\n",
      "Prefix dict has been built succesfully.\n"
     ]
    },
    {
     "name": "stdout",
     "output_type": "stream",
     "text": [
      "100\n",
      "200\n",
      "300\n",
      "400\n",
      "500\n",
      "600\n",
      "700\n",
      "800\n",
      "900\n",
      "1000\n",
      "1100\n",
      "1200\n",
      "1300\n",
      "1400\n",
      "1500\n",
      "1600\n",
      "1700\n",
      "1800\n",
      "1900\n",
      "2000\n",
      "2100\n",
      "2200\n",
      "2300\n",
      "2400\n",
      "2500\n",
      "2600\n",
      "2700\n",
      "2800\n",
      "2900\n",
      "3000\n",
      "3100\n",
      "3200\n",
      "3300\n",
      "3400\n",
      "3500\n",
      "3600\n",
      "3700\n",
      "3800\n",
      "3900\n",
      "4000\n",
      "4100\n",
      "4200\n",
      "4300\n",
      "4400\n",
      "4500\n",
      "4600\n",
      "4700\n",
      "4800\n",
      "4900\n",
      "5000\n",
      "5100\n",
      "5200\n",
      "5300\n",
      "5400\n",
      "5500\n",
      "5600\n",
      "5700\n",
      "5800\n",
      "5900\n",
      "6000\n",
      "6100\n",
      "6200\n",
      "6300\n",
      "6400\n",
      "6500\n",
      "6600\n",
      "6700\n",
      "6800\n",
      "6900\n",
      "7000\n",
      "7100\n",
      "7200\n",
      "7300\n",
      "7400\n",
      "7500\n",
      "7600\n",
      "7700\n",
      "7800\n",
      "7900\n",
      "8000\n",
      "8100\n",
      "8200\n",
      "8300\n",
      "8400\n",
      "8500\n",
      "8600\n",
      "8700\n",
      "8800\n",
      "8900\n",
      "9000\n",
      "9100\n",
      "9200\n",
      "9300\n",
      "9400\n",
      "9500\n",
      "9600\n",
      "9700\n",
      "9800\n",
      "9900\n",
      "10000\n"
     ]
    }
   ],
   "source": [
    "TOKEN = []\n",
    "for i,line in enumerate(open(filename)):\n",
    "    if i % 100 ==0:print(i)\n",
    "    #print(line)\n",
    "    if i > 10000: break\n",
    "    TOKEN += cut(line)"
   ]
  },
  {
   "cell_type": "code",
   "execution_count": 36,
   "metadata": {},
   "outputs": [
    {
     "name": "stdout",
     "output_type": "stream",
     "text": [
      "3693856\n"
     ]
    }
   ],
   "source": [
    "print(len(TOKEN))"
   ]
  },
  {
   "cell_type": "code",
   "execution_count": 37,
   "metadata": {},
   "outputs": [],
   "source": [
    "from functools import reduce"
   ]
  },
  {
   "cell_type": "code",
   "execution_count": 38,
   "metadata": {},
   "outputs": [],
   "source": [
    "from operator import add,mul"
   ]
  },
  {
   "cell_type": "code",
   "execution_count": 39,
   "metadata": {},
   "outputs": [
    {
     "data": {
      "text/plain": [
       "36"
      ]
     },
     "execution_count": 39,
     "metadata": {},
     "output_type": "execute_result"
    }
   ],
   "source": [
    "reduce(add,[1,2,3,4,5,6,7,8])"
   ]
  },
  {
   "cell_type": "code",
   "execution_count": 40,
   "metadata": {},
   "outputs": [],
   "source": [
    "from collections import Counter"
   ]
  },
  {
   "cell_type": "code",
   "execution_count": 41,
   "metadata": {},
   "outputs": [],
   "source": [
    "words_count = Counter(TOKEN)"
   ]
  },
  {
   "cell_type": "code",
   "execution_count": 42,
   "metadata": {},
   "outputs": [
    {
     "data": {
      "text/plain": [
       "[('的', 184244),\n",
       " ('在', 47370),\n",
       " ('了', 36722),\n",
       " ('和', 30809),\n",
       " ('是', 30283),\n",
       " ('月', 18711),\n",
       " ('也', 15995),\n",
       " ('年', 15971),\n",
       " ('有', 14714),\n",
       " ('为', 14448),\n",
       " ('等', 14340),\n",
       " ('将', 14060),\n",
       " ('对', 13074),\n",
       " ('与', 12568),\n",
       " ('日', 12322),\n",
       " ('中', 11117),\n",
       " ('中国', 11036),\n",
       " ('6', 10477),\n",
       " ('上', 10192),\n",
       " ('不', 10027),\n",
       " ('\\n', 10001),\n",
       " ('他', 9530),\n",
       " ('都', 9447),\n",
       " ('发展', 8795),\n",
       " ('企业', 8584),\n",
       " ('就', 8537),\n",
       " ('到', 8338),\n",
       " ('市场', 8095),\n",
       " ('但', 7729),\n",
       " ('这', 7658),\n",
       " ('被', 7575),\n",
       " ('从', 7513),\n",
       " ('并', 7412),\n",
       " ('人', 7339),\n",
       " ('后', 7084),\n",
       " ('公司', 6915),\n",
       " ('一个', 6772),\n",
       " ('说', 6703),\n",
       " ('新', 6467),\n",
       " ('表示', 6309),\n",
       " ('要', 6276),\n",
       " ('还', 6245),\n",
       " ('会', 6179),\n",
       " ('个', 6176),\n",
       " ('我', 6141),\n",
       " ('而', 6090),\n",
       " ('进行', 5802),\n",
       " ('我们', 5742),\n",
       " ('记者', 5734),\n",
       " ('以', 5615),\n",
       " ('5', 5569),\n",
       " ('工作', 5135),\n",
       " ('没有', 5000),\n",
       " ('美国', 4840),\n",
       " ('下', 4741),\n",
       " ('更', 4739),\n",
       " ('通过', 4720),\n",
       " ('大', 4704),\n",
       " ('让', 4701),\n",
       " ('可以', 4681),\n",
       " ('经济', 4670),\n",
       " ('时', 4654),\n",
       " ('目前', 4645),\n",
       " ('国家', 4628),\n",
       " ('项目', 4538),\n",
       " ('问题', 4422),\n",
       " ('创新', 4416),\n",
       " ('多', 4410),\n",
       " ('已经', 4391),\n",
       " ('建设', 4373),\n",
       " ('其', 4224),\n",
       " ('自己', 4119),\n",
       " ('投资', 4064),\n",
       " ('已', 4026),\n",
       " ('3', 4008),\n",
       " ('城市', 3921),\n",
       " ('服务', 3842),\n",
       " ('报道', 3818),\n",
       " ('亿元', 3813),\n",
       " ('及', 3812),\n",
       " ('1', 3793),\n",
       " ('成为', 3684),\n",
       " ('相关', 3646),\n",
       " ('向', 3603),\n",
       " ('可能', 3595),\n",
       " ('他们', 3560),\n",
       " ('以及', 3475),\n",
       " ('或', 3447),\n",
       " ('今年', 3426),\n",
       " ('地', 3411),\n",
       " ('其中', 3408),\n",
       " ('于', 3371),\n",
       " ('她', 3349),\n",
       " ('能', 3343),\n",
       " ('10', 3330),\n",
       " ('着', 3327),\n",
       " ('2016', 3310),\n",
       " ('认为', 3295),\n",
       " ('20', 3282),\n",
       " ('称', 3271)]"
      ]
     },
     "execution_count": 42,
     "metadata": {},
     "output_type": "execute_result"
    }
   ],
   "source": [
    "words_count.most_common(100)"
   ]
  },
  {
   "cell_type": "code",
   "execution_count": 43,
   "metadata": {},
   "outputs": [],
   "source": [
    "frequiences = [f for w,f in words_count.most_common(100) ]"
   ]
  },
  {
   "cell_type": "code",
   "execution_count": 44,
   "metadata": {},
   "outputs": [
    {
     "data": {
      "text/plain": [
       "[184244,\n",
       " 47370,\n",
       " 36722,\n",
       " 30809,\n",
       " 30283,\n",
       " 18711,\n",
       " 15995,\n",
       " 15971,\n",
       " 14714,\n",
       " 14448,\n",
       " 14340,\n",
       " 14060,\n",
       " 13074,\n",
       " 12568,\n",
       " 12322,\n",
       " 11117,\n",
       " 11036,\n",
       " 10477,\n",
       " 10192,\n",
       " 10027,\n",
       " 10001,\n",
       " 9530,\n",
       " 9447,\n",
       " 8795,\n",
       " 8584,\n",
       " 8537,\n",
       " 8338,\n",
       " 8095,\n",
       " 7729,\n",
       " 7658,\n",
       " 7575,\n",
       " 7513,\n",
       " 7412,\n",
       " 7339,\n",
       " 7084,\n",
       " 6915,\n",
       " 6772,\n",
       " 6703,\n",
       " 6467,\n",
       " 6309,\n",
       " 6276,\n",
       " 6245,\n",
       " 6179,\n",
       " 6176,\n",
       " 6141,\n",
       " 6090,\n",
       " 5802,\n",
       " 5742,\n",
       " 5734,\n",
       " 5615,\n",
       " 5569,\n",
       " 5135,\n",
       " 5000,\n",
       " 4840,\n",
       " 4741,\n",
       " 4739,\n",
       " 4720,\n",
       " 4704,\n",
       " 4701,\n",
       " 4681,\n",
       " 4670,\n",
       " 4654,\n",
       " 4645,\n",
       " 4628,\n",
       " 4538,\n",
       " 4422,\n",
       " 4416,\n",
       " 4410,\n",
       " 4391,\n",
       " 4373,\n",
       " 4224,\n",
       " 4119,\n",
       " 4064,\n",
       " 4026,\n",
       " 4008,\n",
       " 3921,\n",
       " 3842,\n",
       " 3818,\n",
       " 3813,\n",
       " 3812,\n",
       " 3793,\n",
       " 3684,\n",
       " 3646,\n",
       " 3603,\n",
       " 3595,\n",
       " 3560,\n",
       " 3475,\n",
       " 3447,\n",
       " 3426,\n",
       " 3411,\n",
       " 3408,\n",
       " 3371,\n",
       " 3349,\n",
       " 3343,\n",
       " 3330,\n",
       " 3327,\n",
       " 3310,\n",
       " 3295,\n",
       " 3282,\n",
       " 3271]"
      ]
     },
     "execution_count": 44,
     "metadata": {},
     "output_type": "execute_result"
    }
   ],
   "source": [
    "frequiences"
   ]
  },
  {
   "cell_type": "code",
   "execution_count": 45,
   "metadata": {},
   "outputs": [],
   "source": [
    "x  = [i for i in range(100)]"
   ]
  },
  {
   "cell_type": "code",
   "execution_count": 46,
   "metadata": {},
   "outputs": [],
   "source": [
    "%matplotlib inline"
   ]
  },
  {
   "cell_type": "code",
   "execution_count": 47,
   "metadata": {},
   "outputs": [],
   "source": [
    "import matplotlib.pyplot as plt"
   ]
  },
  {
   "cell_type": "code",
   "execution_count": null,
   "metadata": {},
   "outputs": [],
   "source": []
  },
  {
   "cell_type": "code",
   "execution_count": 48,
   "metadata": {},
   "outputs": [
    {
     "data": {
      "text/plain": [
       "[<matplotlib.lines.Line2D at 0x12dd77a90>]"
      ]
     },
     "execution_count": 48,
     "metadata": {},
     "output_type": "execute_result"
    },
    {
     "data": {
      "image/png": "[encoded data removed]",
      "text/plain": [
       "<Figure size 432x288 with 1 Axes>"
      ]
     },
     "metadata": {
      "needs_background": "light"
     },
     "output_type": "display_data"
    }
   ],
   "source": [
    "plt.plot(x,frequiences)"
   ]
  },
  {
   "cell_type": "code",
   "execution_count": 49,
   "metadata": {},
   "outputs": [],
   "source": [
    "import numpy as np"
   ]
  },
  {
   "cell_type": "code",
   "execution_count": 50,
   "metadata": {},
   "outputs": [
    {
     "data": {
      "text/plain": [
       "[<matplotlib.lines.Line2D at 0x12de119e8>]"
      ]
     },
     "execution_count": 50,
     "metadata": {},
     "output_type": "execute_result"
    },
    {
     "data": {
      "image/png": "[encoded data removed]",
      "text/plain": [
       "<Figure size 432x288 with 1 Axes>"
      ]
     },
     "metadata": {
      "needs_background": "light"
     },
     "output_type": "display_data"
    }
   ],
   "source": [
    "plt.plot(x,np.log(frequiences))"
   ]
  },
  {
   "cell_type": "code",
   "execution_count": 51,
   "metadata": {},
   "outputs": [
    {
     "ename": "SyntaxError",
     "evalue": "invalid syntax (<ipython-input-51-bfdd1514d457>, line 1)",
     "traceback": [
      "\u001b[0;36m  File \u001b[0;32m\"<ipython-input-51-bfdd1514d457>\"\u001b[0;36m, line \u001b[0;32m1\u001b[0m\n\u001b[0;31m    def prob_2(w1,w2)\u001b[0m\n\u001b[0m                     ^\u001b[0m\n\u001b[0;31mSyntaxError\u001b[0m\u001b[0;31m:\u001b[0m invalid syntax\n"
     ],
     "output_type": "error"
    }
   ],
   "source": []
  },
  {
   "cell_type": "code",
   "execution_count": 52,
   "metadata": {},
   "outputs": [],
   "source": [
    "def prob_1(word):\n",
    "    return words_count[word] /len(TOKEN)"
   ]
  },
  {
   "cell_type": "code",
   "execution_count": 53,
   "metadata": {},
   "outputs": [
    {
     "data": {
      "text/plain": [
       "0.001554473157589251"
      ]
     },
     "execution_count": 53,
     "metadata": {},
     "output_type": "execute_result"
    }
   ],
   "source": [
    "prob_1('我们')"
   ]
  },
  {
   "cell_type": "code",
   "execution_count": 54,
   "metadata": {},
   "outputs": [
    {
     "data": {
      "text/plain": [
       "['此外', '自', '本周', '6', '月', '12', '日起', '除', '小米', '手机']"
      ]
     },
     "execution_count": 54,
     "metadata": {},
     "output_type": "execute_result"
    }
   ],
   "source": [
    "TOKEN[:10]"
   ]
  },
  {
   "cell_type": "code",
   "execution_count": 55,
   "metadata": {},
   "outputs": [],
   "source": [
    "TOKEN = [str(t) for t in TOKEN]"
   ]
  },
  {
   "cell_type": "code",
   "execution_count": 56,
   "metadata": {},
   "outputs": [],
   "source": [
    "TOKEN_2_GRAM = [\n",
    "    ''.join(TOKEN[i:i+2]) for i in range(len(TOKEN[:-2]))\n",
    "]"
   ]
  },
  {
   "cell_type": "code",
   "execution_count": 57,
   "metadata": {},
   "outputs": [
    {
     "data": {
      "text/plain": [
       "['此外自', '自本周', '本周6', '6月', '月12', '12日起', '日起除', '除小米', '小米手机', '手机6']"
      ]
     },
     "execution_count": 57,
     "metadata": {},
     "output_type": "execute_result"
    }
   ],
   "source": [
    "TOKEN_2_GRAM[:10]"
   ]
  },
  {
   "cell_type": "code",
   "execution_count": 58,
   "metadata": {},
   "outputs": [],
   "source": [
    "from collections import Counter"
   ]
  },
  {
   "cell_type": "code",
   "execution_count": 59,
   "metadata": {},
   "outputs": [],
   "source": [
    "words_count_2 = Counter(TOKEN_2_GRAM)"
   ]
  },
  {
   "cell_type": "code",
   "execution_count": 60,
   "metadata": {},
   "outputs": [
    {
     "data": {
      "text/plain": [
       "Counter({'此外自': 2,\n",
       "         '自本周': 2,\n",
       "         '本周6': 3,\n",
       "         '6月': 8502,\n",
       "         '月12': 402,\n",
       "         '12日起': 2,\n",
       "         '日起除': 1,\n",
       "         '除小米': 1,\n",
       "         '小米手机': 4,\n",
       "         '手机6': 1,\n",
       "         '6等': 1,\n",
       "         '等15': 18,\n",
       "         '15款': 5,\n",
       "         '款机型': 1,\n",
       "         '机型外': 1,\n",
       "         '外其余': 12,\n",
       "         '其余机型': 1,\n",
       "         '机型已': 1,\n",
       "         '已暂停': 5,\n",
       "         '暂停更新': 1,\n",
       "         '更新发布': 1,\n",
       "         '发布含': 1,\n",
       "         '含开发': 1,\n",
       "         '开发版': 1,\n",
       "         '版体验版': 1,\n",
       "         '体验版内测': 1,\n",
       "         '内测稳定版': 1,\n",
       "         '稳定版暂不受': 1,\n",
       "         '暂不受影响': 1,\n",
       "         '影响以': 8,\n",
       "         '以确保': 19,\n",
       "         '确保工程师': 1,\n",
       "         '工程师可以': 1,\n",
       "         '可以集中': 1,\n",
       "         '集中全部': 1,\n",
       "         '全部精力': 2,\n",
       "         '精力进行': 1,\n",
       "         '进行系统优化': 1,\n",
       "         '系统优化工作': 1,\n",
       "         '工作有人': 1,\n",
       "         '有人猜测': 2,\n",
       "         '猜测这': 2,\n",
       "         '这也': 528,\n",
       "         '也是': 2054,\n",
       "         '是将': 41,\n",
       "         '将精力': 5,\n",
       "         '精力主要': 1,\n",
       "         '主要用到': 1,\n",
       "         '用到MIUI9': 1,\n",
       "         'MIUI9的': 2,\n",
       "         '的研发': 152,\n",
       "         '研发之中': 1,\n",
       "         '之中MIUI8': 1,\n",
       "         'MIUI8去年': 1,\n",
       "         '去年5': 35,\n",
       "         '5月': 2111,\n",
       "         '月发布': 26,\n",
       "         '发布距今已有': 1,\n",
       "         '距今已有一年': 1,\n",
       "         '一年有余': 2,\n",
       "         '有余也': 1,\n",
       "         '是时候': 13,\n",
       "         '时候更新换代': 1,\n",
       "         '更新换代了': 1,\n",
       "         '了当然': 9,\n",
       "         '当然关于': 1,\n",
       "         '关于MIUI9': 1,\n",
       "         '的确切': 5,\n",
       "         '确切信息': 2,\n",
       "         '信息我们': 3,\n",
       "         '我们还是': 11,\n",
       "         '还是等待': 1,\n",
       "         '等待官方消息': 1,\n",
       "         '官方消息\\n': 1,\n",
       "         '\\n骁龙': 1,\n",
       "         '骁龙835': 16,\n",
       "         '835作为': 2,\n",
       "         '作为唯一': 7,\n",
       "         '唯一通过': 2,\n",
       "         '通过Windows10': 1,\n",
       "         'Windows10桌面': 2,\n",
       "         '桌面平台': 3,\n",
       "         '平台认证': 1,\n",
       "         '认证的': 22,\n",
       "         '的ARM': 1,\n",
       "         'ARM处理器': 1,\n",
       "         '处理器高通': 1,\n",
       "         '高通强调': 1,\n",
       "         '强调不会': 1,\n",
       "         '不会因为': 21,\n",
       "         '因为只': 1,\n",
       "         '只考虑': 5,\n",
       "         '考虑性能': 1,\n",
       "         '性能而': 1,\n",
       "         '而去': 13,\n",
       "         '去屏蔽掉': 1,\n",
       "         '屏蔽掉小': 1,\n",
       "         '小核心': 3,\n",
       "         '核心相反': 1,\n",
       "         '相反他们': 4,\n",
       "         '他们正': 9,\n",
       "         '正联手': 1,\n",
       "         '联手微软': 1,\n",
       "         '微软找到': 1,\n",
       "         '找到一种': 2,\n",
       "         '一种适合': 1,\n",
       "         '适合桌面': 1,\n",
       "         '平台的': 168,\n",
       "         '的兼顾': 1,\n",
       "         '兼顾性能': 1,\n",
       "         '性能和': 9,\n",
       "         '和功耗': 2,\n",
       "         '功耗的': 2,\n",
       "         '的完美': 21,\n",
       "         '完美方案': 1,\n",
       "         '方案报道': 1,\n",
       "         '报道称': 747,\n",
       "         '称微软': 2,\n",
       "         '微软已经': 2,\n",
       "         '已经拿到': 4,\n",
       "         '拿到了': 70,\n",
       "         '了一些': 185,\n",
       "         '一些新': 21,\n",
       "         '新的': 1044,\n",
       "         '的源码': 1,\n",
       "         '源码以便': 1,\n",
       "         '以便Windows10': 1,\n",
       "         'Windows10更好': 1,\n",
       "         '更好地': 209,\n",
       "         '地理解': 11,\n",
       "         '理解biglittle': 1,\n",
       "         'biglittle架构': 1,\n",
       "         '架构资料': 1,\n",
       "         '资料显示': 121,\n",
       "         '显示骁龙': 1,\n",
       "         '作为一款': 8,\n",
       "         '一款集成': 1,\n",
       "         '集成了': 3,\n",
       "         '了CPUGPU': 1,\n",
       "         'CPUGPU基带': 1,\n",
       "         '基带蓝牙': 3,\n",
       "         '蓝牙WiFi': 1,\n",
       "         'WiFi的': 4,\n",
       "         '的SoC': 2,\n",
       "         'SoC比': 1,\n",
       "         '比传统': 11,\n",
       "         '传统的': 200,\n",
       "         '的Wintel': 2,\n",
       "         'Wintel方案': 1,\n",
       "         '方案可以': 1,\n",
       "         '可以节省': 4,\n",
       "         '节省至少': 1,\n",
       "         '至少30': 5,\n",
       "         '30的': 45,\n",
       "         '的PCB': 1,\n",
       "         'PCB空间': 1,\n",
       "         '空间按计划': 1,\n",
       "         '按计划今年': 1,\n",
       "         '今年Q4': 1,\n",
       "         'Q4华硕': 1,\n",
       "         '华硕惠普': 2,\n",
       "         '惠普联想': 1,\n",
       "         '联想将': 1,\n",
       "         '将首发': 2,\n",
       "         '首发骁龙': 2,\n",
       "         '骁龙835Win10': 1,\n",
       "         '835Win10电脑': 1,\n",
       "         '电脑预计': 1,\n",
       "         '预计均': 2,\n",
       "         '均是': 54,\n",
       "         '是二合一': 1,\n",
       "         '二合一形态': 1,\n",
       "         '形态的': 11,\n",
       "         '的产品': 343,\n",
       "         '产品当然': 2,\n",
       "         '当然高通': 1,\n",
       "         '高通骁龙': 13,\n",
       "         '骁龙只是': 1,\n",
       "         '只是个': 16,\n",
       "         '个开始': 3,\n",
       "         '开始未来': 3,\n",
       "         '未来也许': 2,\n",
       "         '也许还': 4,\n",
       "         '还能': 236,\n",
       "         '能见到': 6,\n",
       "         '见到三星': 1,\n",
       "         '三星Exynos': 1,\n",
       "         'Exynos联发科': 1,\n",
       "         '联发科华为': 2,\n",
       "         '华为麒麟': 1,\n",
       "         '麒麟小米': 1,\n",
       "         '小米澎湃': 1,\n",
       "         '澎湃等': 1,\n",
       "         '等进入': 2,\n",
       "         '进入Windows10': 1,\n",
       "         '平台\\n': 7,\n",
       "         '\\n此前': 9,\n",
       "         '此前的': 72,\n",
       "         '的一加': 1,\n",
       "         '一加3T': 1,\n",
       "         '3T搭载': 1,\n",
       "         '搭载的': 21,\n",
       "         '的是': 2250,\n",
       "         '是3400mAh': 1,\n",
       "         '3400mAh电池': 1,\n",
       "         '电池DashCharge': 1,\n",
       "         'DashCharge快充': 1,\n",
       "         '快充规格': 1,\n",
       "         '规格为': 2,\n",
       "         '为5V4A': 1,\n",
       "         '5V4A至于': 1,\n",
       "         '至于电池': 1,\n",
       "         '电池缩水': 1,\n",
       "         '缩水可能': 1,\n",
       "         '可能与': 24,\n",
       "         '与刘作': 1,\n",
       "         '刘作虎': 3,\n",
       "         '虎所说': 1,\n",
       "         '所说一加': 1,\n",
       "         '一加手机': 4,\n",
       "         '手机5': 5,\n",
       "         '5要': 1,\n",
       "         '要做': 95,\n",
       "         '做市面': 1,\n",
       "         '市面最': 1,\n",
       "         '最轻薄': 2,\n",
       "         '轻薄大屏': 1,\n",
       "         '大屏旗舰': 1,\n",
       "         '旗舰的': 2,\n",
       "         '的设定': 13,\n",
       "         '设定有关': 1,\n",
       "         '有关按照': 2,\n",
       "         '按照目前': 11,\n",
       "         '目前掌握': 7,\n",
       "         '掌握的': 33,\n",
       "         '的资料': 29,\n",
       "         '资料一加': 1,\n",
       "         '5拥有': 2,\n",
       "         '拥有55': 1,\n",
       "         '55寸': 4,\n",
       "         '寸1080P': 1,\n",
       "         '1080P三星': 1,\n",
       "         '三星AMOLED': 1,\n",
       "         'AMOLED显示屏': 1,\n",
       "         '显示屏6G8GBRAM64GB128GBROM': 1,\n",
       "         '6G8GBRAM64GB128GBROM双': 1,\n",
       "         '双1600': 1,\n",
       "         '1600万': 6,\n",
       "         '万摄像头': 1,\n",
       "         '摄像头备货': 1,\n",
       "         '备货量': 1,\n",
       "         '量惊喜': 1,\n",
       "         '惊喜根据': 1,\n",
       "         '根据京东': 7,\n",
       "         '京东泄露': 1,\n",
       "         '泄露的': 4,\n",
       "         '的信息': 247,\n",
       "         '信息一加': 1,\n",
       "         '一加5': 20,\n",
       "         '5起': 6,\n",
       "         '起售价': 3,\n",
       "         '售价是': 4,\n",
       "         '是xx99': 1,\n",
       "         'xx99元': 1,\n",
       "         '元应该': 1,\n",
       "         '应该是': 182,\n",
       "         '是在': 940,\n",
       "         '在279928992999': 1,\n",
       "         '279928992999中': 1,\n",
       "         '中的': 1317,\n",
       "         '的某个': 11,\n",
       "         '某个\\n': 1,\n",
       "         '\\n这是': 12,\n",
       "         '这是6': 6,\n",
       "         '月18': 508,\n",
       "         '18日': 711,\n",
       "         '日在': 660,\n",
       "         '在葡萄牙': 3,\n",
       "         '葡萄牙中部': 2,\n",
       "         '中部大': 2,\n",
       "         '大佩德罗': 2,\n",
       "         '佩德罗冈': 2,\n",
       "         '冈地区': 2,\n",
       "         '地区拍摄': 2,\n",
       "         '拍摄的': 59,\n",
       "         '的被': 24,\n",
       "         '被森林': 2,\n",
       "         '森林大火': 2,\n",
       "         '大火烧毁': 2,\n",
       "         '烧毁的': 2,\n",
       "         '的汽车': 81,\n",
       "         '汽车新华社': 3,\n",
       "         '新华社记者': 142,\n",
       "         '记者张立': 4,\n",
       "         '张立云摄': 2,\n",
       "         '云摄\\n': 2,\n",
       "         '\\n原': 827,\n",
       "         '原标题': 889,\n",
       "         '标题44': 1,\n",
       "         '44岁': 11,\n",
       "         '岁女子': 6,\n",
       "         '女子跑': 1,\n",
       "         '跑深圳': 1,\n",
       "         '深圳约会': 3,\n",
       "         '约会网友': 3,\n",
       "         '网友被': 2,\n",
       "         '被拒': 11,\n",
       "         '拒暴雨': 1,\n",
       "         '暴雨中': 3,\n",
       "         '中裸身': 1,\n",
       "         '裸身奔走': 1,\n",
       "         '奔走深圳': 1,\n",
       "         '深圳交警': 4,\n",
       "         '交警微博称': 2,\n",
       "         '微博称昨日': 1,\n",
       "         '昨日清晨': 1,\n",
       "         '清晨交警': 2,\n",
       "         '交警发现': 2,\n",
       "         '发现有': 54,\n",
       "         '有一': 27,\n",
       "         '一女子': 13,\n",
       "         '女子赤裸': 2,\n",
       "         '赤裸上身': 3,\n",
       "         '上身行走': 2,\n",
       "         '行走在': 10,\n",
       "         '在南坪': 4,\n",
       "         '南坪快速': 6,\n",
       "         '快速上': 4,\n",
       "         '上期间': 2,\n",
       "         '期间还': 18,\n",
       "         '还起': 2,\n",
       "         '起了': 85,\n",
       "         '了轻生': 2,\n",
       "         '轻生年头': 2,\n",
       "         '年头一辅警': 2,\n",
       "         '一辅警发现': 2,\n",
       "         '发现后': 16,\n",
       "         '后赶紧': 4,\n",
       "         '赶紧为': 3,\n",
       "         '为其': 117,\n",
       "         '其披上': 2,\n",
       "         '披上黄衣': 2,\n",
       "         '黄衣并': 2,\n",
       "         '并一路': 4,\n",
       "         '一路劝说': 2,\n",
       "         '劝说她': 2,\n",
       "         '她那么': 2,\n",
       "         '那么事发': 1,\n",
       "         '事发时': 18,\n",
       "         '时到底': 1,\n",
       "         '到底都': 2,\n",
       "         '都发生': 14,\n",
       "         '发生了': 207,\n",
       "         '了些': 20,\n",
       "         '些什么': 11,\n",
       "         '什么呢': 23,\n",
       "         '呢南': 2,\n",
       "         '南都': 22,\n",
       "         '都记者': 15,\n",
       "         '记者带': 2,\n",
       "         '带您': 4,\n",
       "         '您一起': 2,\n",
       "         '一起还原': 1,\n",
       "         '还原现场': 2,\n",
       "         '现场南': 1,\n",
       "         '记者在': 205,\n",
       "         '在龙岗': 1,\n",
       "         '龙岗大队': 2,\n",
       "         '大队坂田': 2,\n",
       "         '坂田中队': 2,\n",
       "         '中队见到': 2,\n",
       "         '见到了': 38,\n",
       "         '了辅警': 2,\n",
       "         '辅警刘青': 2,\n",
       "         '刘青发现': 2,\n",
       "         '发现女生': 2,\n",
       "         '女生的': 10,\n",
       "         '的辅警': 2,\n",
       "         '辅警一位': 2,\n",
       "         '一位外表': 3,\n",
       "         '外表高大': 2,\n",
       "         '高大帅气': 2,\n",
       "         '帅气说话': 2,\n",
       "         '说话略带': 2,\n",
       "         '略带些': 2,\n",
       "         '些腼腆': 2,\n",
       "         '腼腆的': 7,\n",
       "         '的90': 30,\n",
       "         '90后': 63,\n",
       "         '后青年': 2,\n",
       "         '青年刘青': 2,\n",
       "         '刘青介绍': 2,\n",
       "         '介绍6': 5,\n",
       "         '月16': 491,\n",
       "         '16日': 541,\n",
       "         '日早上': 41,\n",
       "         '早上7': 15,\n",
       "         '7时': 40,\n",
       "         '时36': 3,\n",
       "         '36分': 4,\n",
       "         '分他': 7,\n",
       "         '他正在': 15,\n",
       "         '正在环城': 2,\n",
       "         '环城南路': 4,\n",
       "         '南路附近': 3,\n",
       "         '附近值勤': 2,\n",
       "         '值勤接到': 2,\n",
       "         '接到中队': 2,\n",
       "         '中队关于': 2,\n",
       "         '关于一位': 2,\n",
       "         '一位女子': 4,\n",
       "         '女子裸身': 2,\n",
       "         '裸身进入': 2,\n",
       "         '进入机动车': 2,\n",
       "         '机动车可能': 2,\n",
       "         '可能有': 57,\n",
       "         '有危险': 11,\n",
       "         '危险的': 52,\n",
       "         '的警情': 3,\n",
       "         '警情随后': 2,\n",
       "         '随后骑着': 2,\n",
       "         '骑着小': 2,\n",
       "         '小铁骑': 4,\n",
       "         '铁骑开始': 2,\n",
       "         '开始沿路': 2,\n",
       "         '沿路寻找': 2,\n",
       "         '寻找大概': 2,\n",
       "         '大概花': 2,\n",
       "         '花了': 77,\n",
       "         '了十多分钟': 2,\n",
       "         '十多分钟在': 2,\n",
       "         '南坪大道': 2,\n",
       "         '大道坂田': 2,\n",
       "         '坂田出口': 2,\n",
       "         '出口往': 2,\n",
       "         '往龙岗': 2,\n",
       "         '龙岗方向': 2,\n",
       "         '方向的': 42,\n",
       "         '的逆行': 2,\n",
       "         '逆行辅道': 2,\n",
       "         '辅道上': 2,\n",
       "         '上发现': 15,\n",
       "         '发现该': 30,\n",
       "         '该女子': 39,\n",
       "         '女子女子': 2,\n",
       "         '女子身上': 4,\n",
       "         '身上一丝不挂': 2,\n",
       "         '一丝不挂地逆': 2,\n",
       "         '地逆车流': 2,\n",
       "         '车流而': 2,\n",
       "         '而行时': 2,\n",
       "         '行时走时': 2,\n",
       "         '走时停时': 2,\n",
       "         '停时坐时': 2,\n",
       "         '坐时躺': 2,\n",
       "         '躺险象环生': 2,\n",
       "         '险象环生刘青停': 2,\n",
       "         '刘青停好': 2,\n",
       "         '好小': 3,\n",
       "         '铁骑和': 2,\n",
       "         '和另外': 5,\n",
       "         '另外一名': 5,\n",
       "         '一名巡防': 2,\n",
       "         '巡防员': 6,\n",
       "         '员追': 2,\n",
       "         '追了': 7,\n",
       "         '了上去': 10,\n",
       "         '上去发现': 2,\n",
       "         '发现女子': 4,\n",
       "         '女子的': 15,\n",
       "         '的情绪': 66,\n",
       "         '情绪很': 4,\n",
       "         '很低落': 2,\n",
       "         '低落话': 2,\n",
       "         '话不': 8,\n",
       "         '不多': 69,\n",
       "         '多刘青': 2,\n",
       "         '刘青尝试': 2,\n",
       "         '尝试和': 3,\n",
       "         '和女子': 4,\n",
       "         '女子交流': 2,\n",
       "         '交流劝说': 2,\n",
       "         '劝说女子': 2,\n",
       "         '女子离开': 2,\n",
       "         '离开可': 2,\n",
       "         '可女子': 2,\n",
       "         '女子并': 10,\n",
       "         '并不': 674,\n",
       "         '不愿意': 116,\n",
       "         '愿意接受': 16,\n",
       "         '接受继续': 2,\n",
       "         '继续缓慢': 2,\n",
       "         '缓慢地往': 2,\n",
       "         '地往南坪': 2,\n",
       "         '南坪快速路': 4,\n",
       "         '快速路的': 3,\n",
       "         '的主干道': 3,\n",
       "         '主干道上': 2,\n",
       "         '上走': 24,\n",
       "         '走去': 9,\n",
       "         '去此时': 2,\n",
       "         '此时路边': 2,\n",
       "         '路边上': 3,\n",
       "         '上已经': 26,\n",
       "         '已经聚集': 4,\n",
       "         '聚集了': 35,\n",
       "         '了很': 72,\n",
       "         '很市民': 2,\n",
       "         '市民围观': 2,\n",
       "         '围观为了': 2,\n",
       "         '为了不': 11,\n",
       "         '不刺激': 2,\n",
       "         '刺激女子': 2,\n",
       "         '情绪刘青': 2,\n",
       "         '刘青和': 4,\n",
       "         '和巡防': 4,\n",
       "         '员一边': 2,\n",
       "         '一边盯': 2,\n",
       "         '盯着': 33,\n",
       "         '着女子': 2,\n",
       "         '女子一边': 2,\n",
       "         '一边驱赶': 2,\n",
       "         '驱赶着': 2,\n",
       "         '着围观': 2,\n",
       "         '围观的': 12,\n",
       "         '的群众': 29,\n",
       "         '群众现场': 2,\n",
       "         '现场还原': 3,\n",
       "         '还原从': 2,\n",
       "         '从警方': 6,\n",
       "         '警方提供': 8,\n",
       "         '提供的': 219,\n",
       "         '的一份': 69,\n",
       "         '一份视频': 2,\n",
       "         '视频了解': 2,\n",
       "         '了解到': 457,\n",
       "         '到16': 13,\n",
       "         '时25': 3,\n",
       "         '25分': 5,\n",
       "         '分女子': 2,\n",
       "         '女子出现': 4,\n",
       "         '出现在': 238,\n",
       "         '在坂雪岗': 2,\n",
       "         '坂雪岗大道': 4,\n",
       "         '大道与': 5,\n",
       "         '与环城': 2,\n",
       "         '南路的': 4,\n",
       "         '的监控': 34,\n",
       "         '监控视频': 38,\n",
       "         '视频中': 96,\n",
       "         '中此时': 2,\n",
       "         '此时女子': 2,\n",
       "         '女子还': 4,\n",
       "         '还穿着': 5,\n",
       "         '穿着白色': 2,\n",
       "         '白色的': 26,\n",
       "         '的内裤': 6,\n",
       "         '内裤正': 2,\n",
       "         '正沿着': 2,\n",
       "         '沿着坂雪岗': 2,\n",
       "         '大道往': 2,\n",
       "         '往南坪': 2,\n",
       "         '快速的': 26,\n",
       "         '的方向': 144,\n",
       "         '方向缓慢': 2,\n",
       "         '缓慢地': 5,\n",
       "         '地走': 15,\n",
       "         '走着': 12,\n",
       "         '着当时': 2,\n",
       "         '当时正值': 9,\n",
       "         '正值上班': 2,\n",
       "         '上班高峰期': 3,\n",
       "         '高峰期十字路口': 2,\n",
       "         '十字路口的': 4,\n",
       "         '的车流': 5,\n",
       "         '车流已经': 2,\n",
       "         '已经排起': 2,\n",
       "         '排起了': 4,\n",
       "         '了长队': 2,\n",
       "         '长队当': 2,\n",
       "         '当女子': 6,\n",
       "         '出现时': 16,\n",
       "         '时路上': 2,\n",
       "         '路上的': 23,\n",
       "         '的市民': 76,\n",
       "         '市民纷纷': 5,\n",
       "         '纷纷驻足': 2,\n",
       "         '驻足观望': 2,\n",
       "         '观望不少': 2,\n",
       "         '不少车辆': 3,\n",
       "         '车辆也': 7,\n",
       "         '也放慢': 2,\n",
       "         '放慢了': 2,\n",
       "         '了速度': 2,\n",
       "         '速度但': 2,\n",
       "         '但女子': 4,\n",
       "         '不为': 24,\n",
       "         '为市民': 20,\n",
       "         '市民观望': 2,\n",
       "         '观望停下': 2,\n",
       "         '停下脚步': 14,\n",
       "         '脚步依然': 2,\n",
       "         '依然缓慢': 3,\n",
       "         '缓慢走': 2,\n",
       "         '着当': 4,\n",
       "         '女子行进': 2,\n",
       "         '行进到': 3,\n",
       "         '到十字路口': 2,\n",
       "         '十字路口中间': 2,\n",
       "         '中间时': 2,\n",
       "         '时一辆': 6,\n",
       "         '一辆大': 5,\n",
       "         '大货车': 24,\n",
       "         '货车挡住': 2,\n",
       "         '挡住了': 10,\n",
       "         '了镜头': 3,\n",
       "         '镜头但是': 2,\n",
       "         '但是当': 13,\n",
       "         '女子再次出现': 2,\n",
       "         '再次出现镜头': 2,\n",
       "         '镜头时': 2,\n",
       "         '时可以': 14,\n",
       "         '可以发现': 37,\n",
       "         '女子已经': 3,\n",
       "         '已经没': 8,\n",
       "         '没穿': 5,\n",
       "         '穿内裤': 2,\n",
       "         '内裤了': 2,\n",
       "         '了全身': 2,\n",
       "         '全身裸露': 2,\n",
       "         '裸露继续': 2,\n",
       "         '继续朝着': 3,\n",
       "         '朝着南坪': 2,\n",
       "         '快速方向': 2,\n",
       "         '方向走': 7,\n",
       "         '去记者': 2,\n",
       "         '记者发现': 66,\n",
       "         '发现视频': 2,\n",
       "         '中女子': 2,\n",
       "         '女子周围': 2,\n",
       "         '周围并': 2,\n",
       "         '并没有': 523,\n",
       "         '没有人': 51,\n",
       "         '人尾随': 2,\n",
       "         '尾随或者': 2,\n",
       "         '或者上前': 2,\n",
       "         '上前劝止': 2,\n",
       "         '劝止的': 2,\n",
       "         '市民一': 3,\n",
       "         '一大清早': 2,\n",
       "         '大清早路上': 2,\n",
       "         '路上看到': 6,\n",
       "         '看到这样': 10,\n",
       "         '这样的': 1015,\n",
       "         '的情况': 1105,\n",
       "         '情况恐怕': 2,\n",
       "         '恐怕大家': 2,\n",
       "         '大家都': 163,\n",
       "         '都没': 66,\n",
       "         '没办法': 44,\n",
       "         '办法淡定': 2,\n",
       "         '淡定面对': 2,\n",
       "         '面对这一': 9,\n",
       "         '这一情况': 14,\n",
       "         '情况刘青': 2,\n",
       "         '刘青表示': 2,\n",
       "         '表示一': 2,\n",
       "         '一开始': 119,\n",
       "         '开始根本': 2,\n",
       "         '根本不敢': 6,\n",
       "         '不敢看': 2,\n",
       "         '看她': 16,\n",
       "         '她心里': 4,\n",
       "         '心里挺': 6,\n",
       "         '挺别扭': 2,\n",
       "         '别扭感觉': 2,\n",
       "         '感觉很': 24,\n",
       "         '很尴尬': 9,\n",
       "         '尴尬但': 3,\n",
       "         '但当': 29,\n",
       "         '当刘青': 2,\n",
       "         '刘青跟随': 2,\n",
       "         '跟随女子': 2,\n",
       "         '女子上': 2,\n",
       "         '上了': 196,\n",
       "         '了南坪': 2,\n",
       "         '快速路主干道': 2,\n",
       "         '主干道时': 2,\n",
       "         '时女子': 2,\n",
       "         '女子作出': 2,\n",
       "         '作出了': 75,\n",
       "         '了让': 33,\n",
       "         '让人': 411,\n",
       "         '人意想不到': 4,\n",
       "         '意想不到的': 19,\n",
       "         '的举动': 46,\n",
       "         '举动她': 2,\n",
       "         '她突然': 7,\n",
       "         '突然靠近': 2,\n",
       "         '靠近护栏': 2,\n",
       "         '护栏要': 2,\n",
       "         '要从': 58,\n",
       "         '从上面': 3,\n",
       "         '上面跳下去': 2,\n",
       "         '跳下去刘青': 2,\n",
       "         '刘青赶忙': 2,\n",
       "         '赶忙冲上去': 2,\n",
       "         '冲上去拉住': 2,\n",
       "         '拉住了': 2,\n",
       "         '了女子': 4,\n",
       "         '的手': 52,\n",
       "         '手将': 2,\n",
       "         '将其': 234,\n",
       "         '其控制': 6,\n",
       "         '控制住': 14,\n",
       "         '住并': 4,\n",
       "         '并远离': 4,\n",
       "         '远离护栏': 2,\n",
       "         '护栏碍于': 2,\n",
       "         '碍于女子': 2,\n",
       "         '女子没有': 2,\n",
       "         '没有穿衣服': 2,\n",
       "         '穿衣服刘青递': 2,\n",
       "         '刘青递上': 2,\n",
       "         '上衣服': 5,\n",
       "         '衣服女子': 2,\n",
       "         '女子没': 2,\n",
       "         '没接受': 2,\n",
       "         '接受还': 2,\n",
       "         '还把': 26,\n",
       "         '把衣服': 3,\n",
       "         '衣服扔': 2,\n",
       "         '扔到': 19,\n",
       "         '到排水沟': 2,\n",
       "         '排水沟里': 2,\n",
       "         '里继续': 3,\n",
       "         '继续往前走': 3,\n",
       "         '往前走没': 2,\n",
       "         '办法刘青': 2,\n",
       "         '刘青只能': 2,\n",
       "         '只能紧紧': 2,\n",
       "         '紧紧拉': 2,\n",
       "         '拉着': 12,\n",
       "         '着她': 19,\n",
       "         '她的': 377,\n",
       "         '的一只': 9,\n",
       "         '一只手': 7,\n",
       "         '手跟': 2,\n",
       "         '跟在': 11,\n",
       "         '在后面': 25,\n",
       "         '后面刘青': 2,\n",
       "         '刘青一路上': 2,\n",
       "         '一路上耐心': 2,\n",
       "         '耐心地': 8,\n",
       "         '地开导': 2,\n",
       "         '开导安慰': 2,\n",
       "         '安慰她': 7,\n",
       "         '她但': 4,\n",
       "         '但只': 5,\n",
       "         '只听到': 5,\n",
       "         '听到她': 4,\n",
       "         '她不断': 2,\n",
       "         '不断地': 43,\n",
       "         '地重复': 2,\n",
       "         '重复着': 2,\n",
       "         '着一句': 2,\n",
       "         '一句话': 104,\n",
       "         '话要是': 2,\n",
       "         '要是你': 6,\n",
       "         '你也': 34,\n",
       "         '也遭遇': 11,\n",
       "         '遭遇我': 4,\n",
       "         '我的': 484,\n",
       "         '的事': 218,\n",
       "         '事你': 8,\n",
       "         '也会': 489,\n",
       "         '会这样': 10,\n",
       "         '的期间': 6,\n",
       "         '期间她': 6,\n",
       "         '她还': 59,\n",
       "         '还不时': 6,\n",
       "         '不时试图': 2,\n",
       "         '试图挣脱': 2,\n",
       "         '挣脱刘青': 2,\n",
       "         '刘青的': 4,\n",
       "         '的手要': 4,\n",
       "         '手要冲向': 2,\n",
       "         '冲向护栏': 2,\n",
       "         '护栏往下跳': 2,\n",
       "         '往下跳就': 2,\n",
       "         '就这样': 60,\n",
       "         '这样我': 5,\n",
       "         '我被': 15,\n",
       "         '被牵': 3,\n",
       "         '牵着': 7,\n",
       "         '着走': 9,\n",
       "         '走了': 83,\n",
       "         '了大概': 8,\n",
       "         '大概十多分钟': 2,\n",
       "         '十多分钟天': 2,\n",
       "         '天突然': 2,\n",
       "         '突然下起': 2,\n",
       "         '下起了': 2,\n",
       "         '了大暴雨': 2,\n",
       "         '大暴雨雨大': 2,\n",
       "         '雨大的': 2,\n",
       "         '的连': 8,\n",
       "         '连眼睛': 2,\n",
       "         '眼睛都': 3,\n",
       "         '都睁不开': 2,\n",
       "         '睁不开刘青': 2,\n",
       "         '刘青继续': 2,\n",
       "         '继续说': 3,\n",
       "         '说着': 22,\n",
       "         '着瞬间': 2,\n",
       "         '瞬间他们': 3,\n",
       "         '他们就': 41,\n",
       "         '就被': 113,\n",
       "         '被雨': 2,\n",
       "         '雨透': 2,\n",
       "         '透了': 3,\n",
       "         '了但': 111,\n",
       "         '女子依然': 2,\n",
       "         '依然不': 3,\n",
       "         '接受刘青': 2,\n",
       "         '的帮助': 73,\n",
       "         '帮助就': 3,\n",
       "         '就继续': 10,\n",
       "         '继续冒': 2,\n",
       "         '冒着': 28,\n",
       "         '着大雨': 5,\n",
       "         '大雨往前走': 2,\n",
       "         '往前走大概': 2,\n",
       "         '大概走': 3,\n",
       "         '了有': 57,\n",
       "         '有四十分钟': 2,\n",
       "         '四十分钟吧': 2,\n",
       "         '吧女子': 2,\n",
       "         '女子突然': 3,\n",
       "         '突然停下': 2,\n",
       "         '停下来说': 2,\n",
       "         '来说我': 6,\n",
       "         '我想': 117,\n",
       "         '想回家': 5,\n",
       "         '回家了': 6,\n",
       "         '了然后': 17,\n",
       "         '然后女子': 2,\n",
       "         '女子也': 4,\n",
       "         '也接受': 15,\n",
       "         '接受了': 81,\n",
       "         '了刘青': 2,\n",
       "         '刘青递过来': 2,\n",
       "         '递过来的': 4,\n",
       "         '的小': 230,\n",
       "         '小黄衣': 4,\n",
       "         '黄衣就': 2,\n",
       "         '就出现': 28,\n",
       "         '出现了': 403,\n",
       "         '了深圳': 19,\n",
       "         '深圳微博上': 2,\n",
       "         '微博上的': 3,\n",
       "         '的照片': 111,\n",
       "         '照片女子': 2,\n",
       "         '女子披着': 2,\n",
       "         '披着小': 2,\n",
       "         '黄衣刘青': 2,\n",
       "         '刘青小心翼翼': 2,\n",
       "         '小心翼翼地': 12,\n",
       "         '地在': 53,\n",
       "         '在旁边': 26,\n",
       "         '旁边走': 2,\n",
       "         '着的': 46,\n",
       "         '的场景': 79,\n",
       "         '场景从': 2,\n",
       "         '从南平': 2,\n",
       "         '南平快速': 2,\n",
       "         '快速下来': 2,\n",
       "         '下来后': 4,\n",
       "         '后刘青': 2,\n",
       "         '员将': 3,\n",
       "         '将女子': 9,\n",
       "         '女子带到': 2,\n",
       "         '带到了': 15,\n",
       "         '了附近': 12,\n",
       "         '附近的': 204,\n",
       "         '的坂田': 2,\n",
       "         '坂田派出所': 2,\n",
       "         '派出所那': 2,\n",
       "         '那姑娘': 2,\n",
       "         '姑娘到底': 2,\n",
       "         '到底是': 61,\n",
       "         '是遭遇': 3,\n",
       "         '遭遇了': 37,\n",
       "         '了什么样': 4,\n",
       "         '什么样的': 116,\n",
       "         '的事情': 272,\n",
       "         '事情才': 2,\n",
       "         '才会': 165,\n",
       "         '会说': 25,\n",
       "         '说要是': 3,\n",
       "         '这样据': 1,\n",
       "         '据警方': 21,\n",
       "         '警方透露': 10,\n",
       "         '透露该': 10,\n",
       "         '女子姓': 4,\n",
       "         '姓陈系': 2,\n",
       "         '陈系湖北': 2,\n",
       "         '湖北人': 7,\n",
       "         '人今年': 16,\n",
       "         '今年44': 3,\n",
       "         '岁据': 3,\n",
       "         '据家属': 2,\n",
       "         '家属反映': 2,\n",
       "         '反映其有': 2,\n",
       "         '其有精神病': 2,\n",
       "         '精神病史': 3,\n",
       "         '史三天': 2,\n",
       "         '三天前': 10,\n",
       "         '前陈某': 2,\n",
       "         '陈某从': 2,\n",
       "         '从老家': 11,\n",
       "         '老家来': 3,\n",
       "         '来深圳': 7,\n",
       "         '网友但': 2,\n",
       "         '但约会': 2,\n",
       "         '约会受挫': 2,\n",
       "         '受挫导致': 2,\n",
       "         '导致情绪': 5,\n",
       "         '情绪异常': 3,\n",
       "         '异常女子': 2,\n",
       "         '女子遂': 2,\n",
       "         '遂产生': 2,\n",
       "         '产生轻生': 3,\n",
       "         '轻生念头': 4,\n",
       "         '念头目前': 2,\n",
       "         '目前陈某': 5,\n",
       "         '陈某已经': 3,\n",
       "         '已经被': 92,\n",
       "         '被送往': 41,\n",
       "         '送往深圳': 2,\n",
       "         '深圳某': 8,\n",
       "         '某精神病': 2,\n",
       "         '精神病医院': 2,\n",
       "         '医院进行': 31,\n",
       "         '进行治疗': 12,\n",
       "         '治疗大大': 1,\n",
       "         '大大君': 1,\n",
       "         '君只': 1,\n",
       "         '只希望': 8,\n",
       "         '希望姑娘': 1,\n",
       "         '姑娘能': 1,\n",
       "         '能早点': 1,\n",
       "         '早点康复': 1,\n",
       "         '康复其实': 1,\n",
       "         '其实真爱': 1,\n",
       "         '真爱的': 2,\n",
       "         '的到来': 55,\n",
       "         '到来并': 3,\n",
       "         '不存在': 166,\n",
       "         '存在年龄': 1,\n",
       "         '年龄的': 18,\n",
       "         '的限制': 113,\n",
       "         '限制你们': 1,\n",
       "         '你们说': 7,\n",
       "         '说呢': 4,\n",
       "         '呢因': 1,\n",
       "         '因善良': 1,\n",
       "         '善良的': 8,\n",
       "         '的原因': 398,\n",
       "         '原因一众': 1,\n",
       "         '一众网友': 2,\n",
       "         '网友纷纷': 21,\n",
       "         '纷纷为': 7,\n",
       "         '为交警': 3,\n",
       "         '交警暖': 2,\n",
       "         '暖男点': 2,\n",
       "         '男点ZAN': 2,\n",
       "         'ZAN弓常': 2,\n",
       "         '弓常yan': 2,\n",
       "         'yan桦': 2,\n",
       "         '桦就': 2,\n",
       "         '就想': 35,\n",
       "         '想问': 8,\n",
       "         '问这个': 6,\n",
       "         '这个小': 12,\n",
       "         '小哥哥': 2,\n",
       "         '哥哥有': 2,\n",
       "         '有女票': 2,\n",
       "         '女票吗': 2,\n",
       "         '吗原谅': 2,\n",
       "         '原谅我': 4,\n",
       "         '我这': 22,\n",
       "         '这一辈子': 4,\n",
       "         '一辈子浪荡': 2,\n",
       "         '浪荡不羁': 2,\n",
       "         '不羁爱': 2,\n",
       "         '爱萨摩耶': 2,\n",
       "         '萨摩耶有': 2,\n",
       "         '有什么': 140,\n",
       "         '什么过不去': 2,\n",
       "         ...})"
      ]
     },
     "execution_count": 60,
     "metadata": {},
     "output_type": "execute_result"
    }
   ],
   "source": [
    "words_count_2"
   ]
  },
  {
   "cell_type": "code",
   "execution_count": 61,
   "metadata": {},
   "outputs": [],
   "source": [
    "def prob_1(word):return words_count[word] / len(TOKEN)"
   ]
  },
  {
   "cell_type": "code",
   "execution_count": 62,
   "metadata": {},
   "outputs": [],
   "source": [
    "def  prob_2(word1,word2):\n",
    "    if word1 + word2 in words_count_2:\n",
    "        return words_count_2[word1 +word2]/len(TOKEN_2_GRAM)\n",
    "    else:\n",
    "        return 1/len(TOKEN_2_GRAM)"
   ]
  },
  {
   "cell_type": "code",
   "execution_count": 63,
   "metadata": {},
   "outputs": [
    {
     "data": {
      "text/plain": [
       "4.683455274626447e-05"
      ]
     },
     "execution_count": 63,
     "metadata": {},
     "output_type": "execute_result"
    }
   ],
   "source": [
    "prob_2('我们','在')"
   ]
  },
  {
   "cell_type": "code",
   "execution_count": 64,
   "metadata": {},
   "outputs": [
    {
     "data": {
      "text/plain": [
       "2.707199580708929e-07"
      ]
     },
     "execution_count": 64,
     "metadata": {},
     "output_type": "execute_result"
    }
   ],
   "source": [
    "prob_2('在','吃饭')"
   ]
  },
  {
   "cell_type": "code",
   "execution_count": 65,
   "metadata": {},
   "outputs": [],
   "source": [
    "def get_probablity(sentence):\n",
    "    words = cut(sentence)\n",
    "    sentence_pro = 1\n",
    "    for i ,word in enumerate(words[:-1]):\n",
    "        next_ = words[i+1]\n",
    "        probability = prob_2(word,next_)\n",
    "        sentence_pro *= probability\n",
    "    return sentence_pro"
   ]
  },
  {
   "cell_type": "code",
   "execution_count": 66,
   "metadata": {},
   "outputs": [
    {
     "data": {
      "text/plain": [
       "6.298565169317442e-39"
      ]
     },
     "execution_count": 66,
     "metadata": {},
     "output_type": "execute_result"
    }
   ],
   "source": [
    "get_probablity('小明今天抽奖抽到一台苹果手机')"
   ]
  },
  {
   "cell_type": "code",
   "execution_count": 67,
   "metadata": {},
   "outputs": [
    {
     "data": {
      "text/plain": [
       "3.936603230823401e-40"
      ]
     },
     "execution_count": 67,
     "metadata": {},
     "output_type": "execute_result"
    }
   ],
   "source": [
    "get_probablity('小明今天抽奖抽到一架波音飞机')"
   ]
  },
  {
   "cell_type": "code",
   "execution_count": 68,
   "metadata": {},
   "outputs": [
    {
     "data": {
      "text/plain": [
       "1.7531991299753616e-22"
      ]
     },
     "execution_count": 68,
     "metadata": {},
     "output_type": "execute_result"
    }
   ],
   "source": [
    "get_probablity('我吃了一架飞机')"
   ]
  },
  {
   "cell_type": "code",
   "execution_count": 69,
   "metadata": {},
   "outputs": [
    {
     "data": {
      "text/plain": [
       "1.6947591589761827e-21"
      ]
     },
     "execution_count": 69,
     "metadata": {},
     "output_type": "execute_result"
    }
   ],
   "source": [
    "get_probablity('我吃了一个面包')"
   ]
  },
  {
   "cell_type": "code",
   "execution_count": 79,
   "metadata": {},
   "outputs": [],
   "source": [
    "example_grammar = create_grammar(simple_grammar)"
   ]
  },
  {
   "cell_type": "code",
   "execution_count": 81,
   "metadata": {},
   "outputs": [
    {
     "data": {
      "text/plain": [
       "{'sentence': [['noun_phrase', 'verb_phrase']],\n",
       " 'noun_phrase': [['Article', 'Adj*', 'noun']],\n",
       " 'Adj*': [['null'], ['Adj', 'Adj*']],\n",
       " 'verb_phrase': [['verb', 'noun_phrase']],\n",
       " 'Article': [['一个'], ['这个']],\n",
       " 'noun': [['女人'], ['篮球'], ['桌子'], ['小猫']],\n",
       " 'verb': [['看着'], ['坐着'], ['听着'], ['看见']],\n",
       " 'Adj': [['蓝色的'], ['好看的'], ['小小的']]}"
      ]
     },
     "execution_count": 81,
     "metadata": {},
     "output_type": "execute_result"
    }
   ],
   "source": [
    "example_grammar"
   ]
  },
  {
   "cell_type": "code",
   "execution_count": 82,
   "metadata": {},
   "outputs": [],
   "source": [
    " "
   ]
  },
  {
   "cell_type": "code",
   "execution_count": 84,
   "metadata": {},
   "outputs": [
    {
     "name": "stdout",
     "output_type": "stream",
     "text": [
      "sentence:一个篮球看着这个小小的桌子 with Prb: 2.908247518117989e-33\n",
      "sentence:这个蓝色的好看的蓝色的好看的蓝色的桌子看着这个小猫 with Prb: 6.811057174688794e-85\n",
      "sentence:这个篮球看见一个小小的好看的小小的小小的篮球 with Prb: 1.0309946177149282e-57\n",
      "sentence:这个女人看着一个小小的篮球 with Prb: 1.7449485108707933e-32\n",
      "sentence:一个女人看见这个好看的蓝色的桌子 with Prb: 4.4684564820130515e-49\n",
      "sentence:一个篮球听着一个小小的小小的小小的篮球 with Prb: 4.777740143474698e-50\n",
      "sentence:一个小猫看见一个小小的好看的小小的篮球 with Prb: 3.8083435926247585e-51\n",
      "sentence:这个桌子听着一个篮球 with Prb: 4.013381575002825e-31\n",
      "sentence:一个好看的好看的篮球看见这个好看的桌子 with Prb: 1.0131722754351388e-61\n",
      "sentence:这个小猫看着一个女人 with Prb: 2.1485283455580413e-26\n"
     ]
    }
   ],
   "source": [
    "for sen in [ generate(gram=example_grammar,target='sentence') for i in  range(10)]:\n",
    "    print('sentence:{} with Prb: {}'.format(sen,get_probablity(sen)))"
   ]
  },
  {
   "cell_type": "code",
   "execution_count": 85,
   "metadata": {},
   "outputs": [
    {
     "name": "stdout",
     "output_type": "stream",
     "text": [
      "明天晚上请你吃大餐，我们一起吃苹果 is more possible \n",
      "----今天晚上请你吃大餐，我们一起吃日料 with probility 1.7051133711305114e-62\n",
      "----明天晚上请你吃大餐，我们一起吃苹果 with probility 1.7051133711305114e-62\n",
      "真是一只好看的小猫 is more possible \n",
      "----真事一只好看的小猫 with probility 1.599536134964894e-32\n",
      "----真是一只好看的小猫 with probility 5.908452950284614e-26\n",
      "今晚我去吃火锅 is more possible \n",
      "----今晚我去吃火锅 with probility 8.333167524520602e-19\n",
      "----今晚火锅去吃我 with probility 1.933675511002237e-25\n",
      "养乐多绿来一杯 is more possible \n",
      "----洋葱奶昔来一杯 with probility 1.9840875058382383e-20\n",
      "----养乐多绿来一杯 with probility 7.3289295697906e-14\n"
     ]
    }
   ],
   "source": [
    "need_compared = [\n",
    "    '今天晚上请你吃大餐，我们一起吃日料 明天晚上请你吃大餐，我们一起吃苹果',\n",
    "    '真事一只好看的小猫 真是一只好看的小猫',\n",
    "    '今晚我去吃火锅 今晚火锅去吃我',\n",
    "    '洋葱奶昔来一杯 养乐多绿来一杯'\n",
    "]\n",
    "\n",
    "for  s in need_compared:\n",
    "    s1,s2 = s.split()\n",
    "    p1,p2 = get_probablity(s1),get_probablity(s2)\n",
    "    better = s1 if p1 >p2 else s2\n",
    "    print('{} is more possible '.format(better))\n",
    "    print('-'*4 + '{} with probility {}'.format(s1,p1))\n",
    "    print('-'*4 + '{} with probility {}'.format(s2,p2))"
   ]
  },
  {
   "cell_type": "code",
   "execution_count": null,
   "metadata": {},
   "outputs": [],
   "source": []
  }
 ],
 "metadata": {
  "kernelspec": {
   "display_name": "Python 3",
   "language": "python",
   "name": "python3"
  },
  "language_info": {
   "codemirror_mode": {
    "name": "ipython",
    "version": 3
   },
   "file_extension": ".py",
   "mimetype": "text/x-python",
   "name": "python",
   "nbconvert_exporter": "python",
   "pygments_lexer": "ipython3",
   "version": "3.7.1"
  }
 },
 "nbformat": 4,
 "nbformat_minor": 2
}
