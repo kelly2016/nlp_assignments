{
 "cells": [
  {
   "cell_type": "markdown",
   "metadata": {},
   "source": [
    "Out Pf Vocabulary(OOV)\n",
    "Pr(w_o) = constant < Pr(w_1)"
   ]
  },
  {
   "cell_type": "code",
   "execution_count": 1,
   "metadata": {},
   "outputs": [],
   "source": [
    "def adj():return random.choice('beautiful handsome strange'.split())\n",
    "def adj_star2():\n",
    "    return random.choice([lambda :  '',lambda:adj()+adj_stat()])()"
   ]
  },
  {
   "cell_type": "code",
   "execution_count": 2,
   "metadata": {},
   "outputs": [],
   "source": [
    "numbers = [1,-2,-4,1,5,6,9,-1]"
   ]
  },
  {
   "cell_type": "code",
   "execution_count": 3,
   "metadata": {},
   "outputs": [],
   "source": [
    "def absolute(number):\n",
    "    if number < 0:return -1*number\n",
    "    else: return number"
   ]
  },
  {
   "cell_type": "code",
   "execution_count": 4,
   "metadata": {},
   "outputs": [
    {
     "data": {
      "text/plain": [
       "1"
      ]
     },
     "execution_count": 4,
     "metadata": {},
     "output_type": "execute_result"
    }
   ],
   "source": [
    "absolute(-1)"
   ]
  },
  {
   "cell_type": "code",
   "execution_count": 5,
   "metadata": {},
   "outputs": [],
   "source": [
    "def mod_5(number):\n",
    "    return number % 5"
   ]
  },
  {
   "cell_type": "raw",
   "metadata": {},
   "source": [
    "ret = mod_5(6)\n",
    "ret"
   ]
  },
  {
   "cell_type": "code",
   "execution_count": 6,
   "metadata": {},
   "outputs": [
    {
     "data": {
      "text/plain": [
       "[5, 1, -4, 1, 6, -2, 9, -1]"
      ]
     },
     "execution_count": 6,
     "metadata": {},
     "output_type": "execute_result"
    }
   ],
   "source": [
    "sorted(numbers,key=lambda x: x%5)"
   ]
  },
  {
   "cell_type": "code",
   "execution_count": 7,
   "metadata": {},
   "outputs": [],
   "source": [
    "mod_5_lambda = lambda x:x%5"
   ]
  },
  {
   "cell_type": "code",
   "execution_count": 8,
   "metadata": {},
   "outputs": [
    {
     "data": {
      "text/plain": [
       "<function __main__.mod_5(number)>"
      ]
     },
     "execution_count": 8,
     "metadata": {},
     "output_type": "execute_result"
    }
   ],
   "source": [
    "mod_5"
   ]
  },
  {
   "cell_type": "code",
   "execution_count": 9,
   "metadata": {},
   "outputs": [
    {
     "data": {
      "text/plain": [
       "1"
      ]
     },
     "execution_count": 9,
     "metadata": {},
     "output_type": "execute_result"
    }
   ],
   "source": [
    "mod_5_lambda(6)"
   ]
  },
  {
   "cell_type": "markdown",
   "metadata": {},
   "source": [
    "Search Policy"
   ]
  },
  {
   "cell_type": "code",
   "execution_count": 46,
   "metadata": {},
   "outputs": [],
   "source": [
    "coordination_source = \"\"\"\n",
    "{name:'兰州', geoCoord:[103.73, 36.03]},\n",
    "{name:'嘉峪关', geoCoord:[98.17, 39.47]},\n",
    "{name:'西宁', geoCoord:[101.74, 36.56]},\n",
    "{name:'成都', geoCoord:[104.06, 30.67]},\n",
    "{name:'石家庄', geoCoord:[114.48, 38.03]},\n",
    "{name:'拉萨', geoCoord:[102.73, 25.04]},\n",
    "{name:'贵阳', geoCoord:[106.71, 26.57]},\n",
    "{name:'武汉', geoCoord:[114.31, 30.52]},\n",
    "{name:'郑州', geoCoord:[113.65, 34.76]},\n",
    "{name:'济南', geoCoord:[117, 36.65]},\n",
    "{name:'南京', geoCoord:[118.78, 32.04]},\n",
    "{name:'合肥', geoCoord:[117.27, 31.86]},\n",
    "{name:'杭州', geoCoord:[120.19, 30.26]},\n",
    "{name:'南昌', geoCoord:[115.89, 28.68]},\n",
    "{name:'福州', geoCoord:[119.3, 26.08]},\n",
    "{name:'广州', geoCoord:[113.23, 23.16]},\n",
    "{name:'长沙', geoCoord:[113, 28.21]},\n",
    "//{name:'海口', geoCoord:[110.35, 20.02]},\n",
    "{name:'沈阳', geoCoord:[123.38, 41.8]},\n",
    "{name:'长春', geoCoord:[125.35, 43.88]},\n",
    "{name:'哈尔滨', geoCoord:[126.63, 45.75]},\n",
    "{name:'太原', geoCoord:[112.53, 37.87]},\n",
    "{name:'西安', geoCoord:[108.95, 34.27]},\n",
    "//{name:'台湾', geoCoord:[121.30, 25.03]},\n",
    "{name:'北京', geoCoord:[116.46, 39.92]},\n",
    "{name:'上海', geoCoord:[121.48, 31.22]},\n",
    "{name:'重庆', geoCoord:[106.54, 29.59]},\n",
    "{name:'天津', geoCoord:[117.2, 39.13]},\n",
    "{name:'呼和浩特', geoCoord:[111.65, 40.82]},\n",
    "{name:'南宁', geoCoord:[108.33, 22.84]},\n",
    "//{name:'西藏', geoCoord:[91.11, 29.97]},\n",
    "{name:'银川', geoCoord:[106.27, 38.47]},\n",
    "{name:'乌鲁木齐', geoCoord:[87.68, 43.77]},\n",
    "{name:'香港', geoCoord:[114.17, 22.28]},\n",
    "{name:'澳门', geoCoord:[113.54, 22.19]}\n",
    "\"\"\""
   ]
  },
  {
   "cell_type": "code",
   "execution_count": 47,
   "metadata": {},
   "outputs": [],
   "source": [
    "city_location = {\n",
    "    '香港':(114.17, 22.28)\n",
    "}"
   ]
  },
  {
   "cell_type": "code",
   "execution_count": 48,
   "metadata": {},
   "outputs": [
    {
     "data": {
      "text/plain": [
       "{'香港': (114.17, 22.28)}"
      ]
     },
     "execution_count": 48,
     "metadata": {},
     "output_type": "execute_result"
    }
   ],
   "source": [
    "city_location "
   ]
  },
  {
   "cell_type": "raw",
   "metadata": {},
   "source": [
    "# Input:String->dict"
   ]
  },
  {
   "cell_type": "code",
   "execution_count": 49,
   "metadata": {},
   "outputs": [],
   "source": [
    "test_string = \"{name:'银川', geoCoord:[106.27, 38.47]},\""
   ]
  },
  {
   "cell_type": "code",
   "execution_count": 50,
   "metadata": {},
   "outputs": [],
   "source": [
    "import re"
   ]
  },
  {
   "cell_type": "code",
   "execution_count": 51,
   "metadata": {},
   "outputs": [],
   "source": [
    "pattern = re.compile(r\"name:'(\\w+)',\\s*geoCoord:\\[(\\d+.\\d+),\\s*(\\d+.\\d+)\\]\")"
   ]
  },
  {
   "cell_type": "code",
   "execution_count": 52,
   "metadata": {},
   "outputs": [],
   "source": [
    "for line in coordination_source.split('\\n'):\n",
    "    coty_info = pattern.findall(line)\n",
    "    if not coty_info:continue\n",
    "    city,long,lat = coty_info[0]\n",
    "    long ,lat = float(long),float(lat)\n",
    "    city_location[city] = (long ,lat)"
   ]
  },
  {
   "cell_type": "code",
   "execution_count": 53,
   "metadata": {},
   "outputs": [
    {
     "data": {
      "text/plain": [
       "{'香港': (114.17, 22.28),\n",
       " '兰州': (103.73, 36.03),\n",
       " '嘉峪关': (98.17, 39.47),\n",
       " '西宁': (101.74, 36.56),\n",
       " '成都': (104.06, 30.67),\n",
       " '石家庄': (114.48, 38.03),\n",
       " '拉萨': (102.73, 25.04),\n",
       " '贵阳': (106.71, 26.57),\n",
       " '武汉': (114.31, 30.52),\n",
       " '郑州': (113.65, 34.76),\n",
       " '济南': (117.0, 36.65),\n",
       " '南京': (118.78, 32.04),\n",
       " '合肥': (117.27, 31.86),\n",
       " '杭州': (120.19, 30.26),\n",
       " '南昌': (115.89, 28.68),\n",
       " '福州': (119.3, 26.08),\n",
       " '广州': (113.23, 23.16),\n",
       " '长沙': (113.0, 28.21),\n",
       " '海口': (110.35, 20.02),\n",
       " '沈阳': (123.38, 41.8),\n",
       " '长春': (125.35, 43.88),\n",
       " '哈尔滨': (126.63, 45.75),\n",
       " '太原': (112.53, 37.87),\n",
       " '西安': (108.95, 34.27),\n",
       " '台湾': (121.3, 25.03),\n",
       " '北京': (116.46, 39.92),\n",
       " '上海': (121.48, 31.22),\n",
       " '重庆': (106.54, 29.59),\n",
       " '天津': (117.2, 39.13),\n",
       " '呼和浩特': (111.65, 40.82),\n",
       " '南宁': (108.33, 22.84),\n",
       " '西藏': (91.11, 29.97),\n",
       " '银川': (106.27, 38.47),\n",
       " '乌鲁木齐': (87.68, 43.77),\n",
       " '澳门': (113.54, 22.19)}"
      ]
     },
     "execution_count": 53,
     "metadata": {},
     "output_type": "execute_result"
    }
   ],
   "source": [
    "city_location"
   ]
  },
  {
   "cell_type": "code",
   "execution_count": 54,
   "metadata": {},
   "outputs": [
    {
     "data": {
      "text/plain": [
       "3.141592653589793"
      ]
     },
     "execution_count": 54,
     "metadata": {},
     "output_type": "execute_result"
    }
   ],
   "source": [
    "import math\n",
    "math.radians(180)"
   ]
  },
  {
   "cell_type": "code",
   "execution_count": 55,
   "metadata": {},
   "outputs": [],
   "source": [
    "def geo_distance(origin, destination):\n",
    "    \"\"\"\n",
    "    Calculate the Haversine distance.\n",
    "\n",
    "    Parameters\n",
    "    ----------\n",
    "    origin : tuple of float\n",
    "        (lat, long)\n",
    "    destination : tuple of float\n",
    "        (lat, long)\n",
    "\n",
    "    Returns\n",
    "    -------\n",
    "    distance_in_km : float\n",
    "\n",
    "    Examples\n",
    "    --------\n",
    "    >>> origin = (48.1372, 11.5756)  # Munich\n",
    "    >>> destination = (52.5186, 13.4083)  # Berlin\n",
    "    >>> round(distance(origin, destination), 1)\n",
    "    504.2\n",
    "    \"\"\"\n",
    "    lat1, lon1 = origin\n",
    "    lat2, lon2 = destination\n",
    "    radius = 6371  # km\n",
    "\n",
    "    dlat = math.radians(lat2 - lat1)\n",
    "    dlon = math.radians(lon2 - lon1)\n",
    "    a = (math.sin(dlat / 2) * math.sin(dlat / 2) +\n",
    "         math.cos(math.radians(lat1)) * math.cos(math.radians(lat2)) *\n",
    "         math.sin(dlon / 2) * math.sin(dlon / 2))\n",
    "    c = 2 * math.atan2(math.sqrt(a), math.sqrt(1 - a))\n",
    "    d = radius * c\n",
    "\n",
    "    return d"
   ]
  },
  {
   "cell_type": "code",
   "execution_count": 56,
   "metadata": {},
   "outputs": [],
   "source": [
    "def get_geo_distance(city1,city2):\n",
    "    return geo_distance(city_location[city1], city_location[city2])"
   ]
  },
  {
   "cell_type": "code",
   "execution_count": 57,
   "metadata": {},
   "outputs": [
    {
     "data": {
      "text/plain": [
       "111.67564318004042"
      ]
     },
     "execution_count": 57,
     "metadata": {},
     "output_type": "execute_result"
    }
   ],
   "source": [
    "get_geo_distance('香港','广州')"
   ]
  },
  {
   "cell_type": "code",
   "execution_count": 58,
   "metadata": {},
   "outputs": [],
   "source": [
    "import networkx as nx"
   ]
  },
  {
   "cell_type": "code",
   "execution_count": 59,
   "metadata": {},
   "outputs": [],
   "source": [
    "city_graph = nx.Graph()"
   ]
  },
  {
   "cell_type": "code",
   "execution_count": 60,
   "metadata": {},
   "outputs": [],
   "source": [
    "city_graph.add_nodes_from(city_location.keys())"
   ]
  },
  {
   "cell_type": "code",
   "execution_count": 61,
   "metadata": {},
   "outputs": [],
   "source": [
    "%matplotlib inline\n",
    "import matplotlib.pyplot as plt\n",
    "#乱码解决方案\n",
    "plt.rcParams['font.sans-serif'] = ['SimHei']\n",
    "plt.rcParams['axes.unicode_minus'] = False\n"
   ]
  },
  {
   "cell_type": "code",
   "execution_count": null,
   "metadata": {},
   "outputs": [],
   "source": []
  },
  {
   "cell_type": "code",
   "execution_count": 62,
   "metadata": {},
   "outputs": [
    {
     "data": {
      "image/png": "[encoded data removed]",
      "text/plain": [
       "<Figure size 432x288 with 1 Axes>"
      ]
     },
     "metadata": {},
     "output_type": "display_data"
    }
   ],
   "source": [
    "nx.draw(city_graph,city_location,with_labels = True,node_size=30)"
   ]
  },
  {
   "cell_type": "code",
   "execution_count": 63,
   "metadata": {},
   "outputs": [],
   "source": [
    "from collections import defaultdict"
   ]
  },
  {
   "cell_type": "code",
   "execution_count": null,
   "metadata": {},
   "outputs": [],
   "source": []
  },
  {
   "cell_type": "code",
   "execution_count": 64,
   "metadata": {},
   "outputs": [],
   "source": [
    "simple_connetion_info_src = {\n",
    "    '北京':['太原'],\n",
    "    '太原':[ '北京','西安','郑州'],\n",
    "    '郑州':[ '太原'],\n",
    "    '兰州':['西安'],\n",
    "    '西安':['兰州','长沙'],\n",
    "    '长沙':['南宁','福州'],\n",
    "    '沈阳':['北京']\n",
    "    \n",
    "}\n",
    "nx.draw?\n",
    "nx.Graph?"
   ]
  },
  {
   "cell_type": "code",
   "execution_count": 65,
   "metadata": {},
   "outputs": [],
   "source": [
    "simple_connetion_info = defaultdict(list)"
   ]
  },
  {
   "cell_type": "code",
   "execution_count": 66,
   "metadata": {},
   "outputs": [],
   "source": [
    "simple_connetion_info.update(simple_connetion_info_src)#函数把字典dict2的键/值对更新到dict里。"
   ]
  },
  {
   "cell_type": "code",
   "execution_count": 67,
   "metadata": {},
   "outputs": [
    {
     "data": {
      "text/plain": [
       "[]"
      ]
     },
     "execution_count": 67,
     "metadata": {},
     "output_type": "execute_result"
    }
   ],
   "source": [
    "simple_connetion_info['澳门']"
   ]
  },
  {
   "cell_type": "code",
   "execution_count": 68,
   "metadata": {},
   "outputs": [],
   "source": [
    "def bfs(graph,start):\n",
    "    #breath first search\n",
    "    visited = [start]\n",
    "    seen = []\n",
    "    print('visited=',visited)\n",
    "    while visited:\n",
    "        froninter = visited.pop()#pop（0）是指出第一个。pop（是指出最后一个）\n",
    "        if froninter in seen :continue\n",
    "        print('froninter=',froninter)    \n",
    "        for successor in graph[froninter]:\n",
    "            if successor in seen:continue\n",
    "            print(successor)\n",
    "            #visited = [successor] +visited #广度优先\n",
    "            visited =  visited +[successor] #深度优先\n",
    "        seen.append(froninter)#出栈的才是被访问的路径,老师写的有点问题\n",
    "        \n",
    "    return seen\n",
    "        "
   ]
  },
  {
   "cell_type": "code",
   "execution_count": 69,
   "metadata": {},
   "outputs": [],
   "source": [
    "number_graph = defaultdict(list)\n",
    "number_graph.update({\n",
    "    1:[2,3],\n",
    "    2:[1,4],\n",
    "    3:[1,5],\n",
    "    4:[2,6],\n",
    "    5:[3,7],\n",
    "    7:[5,8]\n",
    "})"
   ]
  },
  {
   "cell_type": "code",
   "execution_count": 70,
   "metadata": {},
   "outputs": [
    {
     "name": "stdout",
     "output_type": "stream",
     "text": [
      "visited= [1]\n",
      "froninter= 1\n",
      "2\n",
      "3\n",
      "froninter= 3\n",
      "5\n",
      "froninter= 5\n",
      "7\n",
      "froninter= 7\n",
      "8\n",
      "froninter= 8\n",
      "froninter= 2\n",
      "4\n",
      "froninter= 4\n",
      "6\n",
      "froninter= 6\n"
     ]
    }
   ],
   "source": [
    "seen=bfs(number_graph,1)"
   ]
  },
  {
   "cell_type": "code",
   "execution_count": 71,
   "metadata": {},
   "outputs": [
    {
     "name": "stdout",
     "output_type": "stream",
     "text": [
      "[1, 3, 5, 7, 8, 2, 4, 6]\n"
     ]
    }
   ],
   "source": [
    "print(seen)"
   ]
  },
  {
   "cell_type": "code",
   "execution_count": 72,
   "metadata": {},
   "outputs": [
    {
     "name": "stdout",
     "output_type": "stream",
     "text": [
      "visited= ['北京']\n",
      "froninter= 北京\n",
      "太原\n",
      "froninter= 太原\n",
      "西安\n",
      "郑州\n",
      "froninter= 郑州\n",
      "froninter= 西安\n",
      "兰州\n",
      "长沙\n",
      "froninter= 长沙\n",
      "南宁\n",
      "福州\n",
      "froninter= 福州\n",
      "froninter= 南宁\n",
      "froninter= 兰州\n"
     ]
    },
    {
     "data": {
      "text/plain": [
       "['北京', '太原', '郑州', '西安', '长沙', '福州', '南宁', '兰州']"
      ]
     },
     "execution_count": 72,
     "metadata": {},
     "output_type": "execute_result"
    }
   ],
   "source": [
    "bfs(simple_connetion_info,'北京')"
   ]
  },
  {
   "cell_type": "code",
   "execution_count": 73,
   "metadata": {},
   "outputs": [
    {
     "data": {
      "image/png": "[encoded data removed]",
      "text/plain": [
       "<Figure size 432x288 with 1 Axes>"
      ]
     },
     "metadata": {},
     "output_type": "display_data"
    }
   ],
   "source": [
    "nx.draw(  nx.Graph(simple_connetion_info),city_location,with_labels = True,node_size=10)"
   ]
  },
  {
   "cell_type": "code",
   "execution_count": 119,
   "metadata": {},
   "outputs": [],
   "source": [
    "def search(start,desitionation,connection_graph,sort_condition):\n",
    "    \n",
    "    \n",
    " \n",
    "    pathes = [[start]]\n",
    "    \n",
    "    visited = set()\n",
    "    while pathes:\n",
    "       \n",
    "        path = pathes.pop(0)#转战最少\n",
    "        #print('path=',path)\n",
    "        froninter = path[-1]\n",
    "        #print('froninter=',froninter)\n",
    "        if froninter in visited:continue\n",
    "        #print('froninter=',froninter)\n",
    "        if froninter in connection_graph:\n",
    "            succesors = connection_graph[froninter]\n",
    "            for city in succesors:\n",
    "                if city in path : continue\n",
    "                new_path = path+[city]\n",
    "                #print('new_path=',new_path)\n",
    "                pathes.append(new_path)\n",
    "                #print(pathes)\n",
    "                if city == desitionation: return new_path\n",
    "        visited.add(froninter)\n",
    "        pathes = sort_condition(pathes)#可以加我们自己的排序函数\n",
    "    print(pathes)"
   ]
  },
  {
   "cell_type": "code",
   "execution_count": 120,
   "metadata": {},
   "outputs": [],
   "source": [
    "def transfer_station_first(paths):#最小换乘优先\n",
    "    return sorted(paths,key=len)\n",
    "    "
   ]
  },
  {
   "cell_type": "code",
   "execution_count": 139,
   "metadata": {},
   "outputs": [],
   "source": [
    "def trnsfer_as_much_possible(pathes):\n",
    "    return sorted(pathes,key=len,reverse=True)"
   ]
  },
  {
   "cell_type": "code",
   "execution_count": 137,
   "metadata": {},
   "outputs": [],
   "source": [
    "def shortest_path_first(pathes):#最短距离优先\n",
    "    if len(pathes) < 1:return pathes\n",
    "    def get_path_distance(path):\n",
    "        distance = 0\n",
    "        for station in path[:-1]:\n",
    "            print(station,':',path[-1])\n",
    "            distance += get_geo_distance(station,path[-1])\n",
    "            return distance\n",
    "    return sorted(pathes,key=get_path_distance) "
   ]
  },
  {
   "cell_type": "code",
   "execution_count": 129,
   "metadata": {},
   "outputs": [
    {
     "name": "stdout",
     "output_type": "stream",
     "text": [
      "兰州 : 西安\n",
      "兰州 : 长沙\n"
     ]
    },
    {
     "data": {
      "text/plain": [
       "['兰州', '西安', '长沙', '福州']"
      ]
     },
     "execution_count": 129,
     "metadata": {},
     "output_type": "execute_result"
    }
   ],
   "source": [
    "search('兰州','福州',simple_connetion_info,sort_condition=shortest_path_first)"
   ]
  },
  {
   "cell_type": "code",
   "execution_count": 130,
   "metadata": {},
   "outputs": [
    {
     "ename": "TypeError",
     "evalue": "search() missing 1 required positional argument: 'sort_condition'",
     "traceback": [
      "\u001b[0;31m---------------------------------------------------------------------------\u001b[0m",
      "\u001b[0;31mTypeError\u001b[0m                                 Traceback (most recent call last)",
      "\u001b[0;32m<ipython-input-130-e7b8649ae7b4>\u001b[0m in \u001b[0;36m<module>\u001b[0;34m\u001b[0m\n\u001b[0;32m----> 1\u001b[0;31m \u001b[0msearch\u001b[0m\u001b[0;34m(\u001b[0m\u001b[0;34m'北京'\u001b[0m\u001b[0;34m,\u001b[0m\u001b[0;34m'福州'\u001b[0m\u001b[0;34m,\u001b[0m\u001b[0msimple_connetion_info\u001b[0m\u001b[0;34m)\u001b[0m\u001b[0;34m\u001b[0m\u001b[0;34m\u001b[0m\u001b[0m\n\u001b[0m",
      "\u001b[0;31mTypeError\u001b[0m: search() missing 1 required positional argument: 'sort_condition'"
     ],
     "output_type": "error"
    }
   ],
   "source": [
    "search('北京','福州',simple_connetion_info)"
   ]
  },
  {
   "cell_type": "code",
   "execution_count": 77,
   "metadata": {},
   "outputs": [],
   "source": [
    "def pretty_print(cities):\n",
    "    print('cccc->'.join(cities))"
   ]
  },
  {
   "cell_type": "code",
   "execution_count": 78,
   "metadata": {},
   "outputs": [
    {
     "name": "stdout",
     "output_type": "stream",
     "text": [
      "[['北京', '太原']]\n",
      "[['北京', '太原', '西安']]\n",
      "[['北京', '太原', '西安'], ['北京', '太原', '郑州']]\n",
      "[['北京', '太原', '郑州'], ['北京', '太原', '西安', '兰州']]\n",
      "[['北京', '太原', '郑州'], ['北京', '太原', '西安', '兰州'], ['北京', '太原', '西安', '长沙']]\n",
      "[['北京', '太原', '西安', '长沙', '南宁']]\n",
      "[['北京', '太原', '西安', '长沙', '南宁'], ['北京', '太原', '西安', '长沙', '福州']]\n",
      "北京cccc->太原cccc->西安cccc->长沙cccc->福州\n"
     ]
    }
   ],
   "source": [
    "pretty_print(search('北京','福州',simple_connetion_info))"
   ]
  },
  {
   "cell_type": "code",
   "execution_count": 89,
   "metadata": {},
   "outputs": [
    {
     "data": {
      "text/plain": [
       "{'香港': (114.17, 22.28),\n",
       " '兰州': (103.73, 36.03),\n",
       " '嘉峪关': (98.17, 39.47),\n",
       " '西宁': (101.74, 36.56),\n",
       " '成都': (104.06, 30.67),\n",
       " '石家庄': (114.48, 38.03),\n",
       " '拉萨': (102.73, 25.04),\n",
       " '贵阳': (106.71, 26.57),\n",
       " '武汉': (114.31, 30.52),\n",
       " '郑州': (113.65, 34.76),\n",
       " '济南': (117.0, 36.65),\n",
       " '南京': (118.78, 32.04),\n",
       " '合肥': (117.27, 31.86),\n",
       " '杭州': (120.19, 30.26),\n",
       " '南昌': (115.89, 28.68),\n",
       " '福州': (119.3, 26.08),\n",
       " '广州': (113.23, 23.16),\n",
       " '长沙': (113.0, 28.21),\n",
       " '海口': (110.35, 20.02),\n",
       " '沈阳': (123.38, 41.8),\n",
       " '长春': (125.35, 43.88),\n",
       " '哈尔滨': (126.63, 45.75),\n",
       " '太原': (112.53, 37.87),\n",
       " '西安': (108.95, 34.27),\n",
       " '台湾': (121.3, 25.03),\n",
       " '北京': (116.46, 39.92),\n",
       " '上海': (121.48, 31.22),\n",
       " '重庆': (106.54, 29.59),\n",
       " '天津': (117.2, 39.13),\n",
       " '呼和浩特': (111.65, 40.82),\n",
       " '南宁': (108.33, 22.84),\n",
       " '西藏': (91.11, 29.97),\n",
       " '银川': (106.27, 38.47),\n",
       " '乌鲁木齐': (87.68, 43.77),\n",
       " '澳门': (113.54, 22.19)}"
      ]
     },
     "execution_count": 89,
     "metadata": {},
     "output_type": "execute_result"
    }
   ],
   "source": [
    "city_location"
   ]
  },
  {
   "cell_type": "code",
   "execution_count": 87,
   "metadata": {},
   "outputs": [],
   "source": [
    "threshold = 300\n",
    "city_connection = defaultdict(list)\n",
    "for c1 in city_location:\n",
    "    for c2 in city_location:\n",
    "        if c1 == c2: continue\n",
    "        \n",
    "        distance = get_geo_distance(c1, c2)\n",
    "        \n",
    "        if distance < threshold:\n",
    "            city_connection[c1].append(c2)\n",
    "            city_connection[c2].append(c1)"
   ]
  },
  {
   "cell_type": "code",
   "execution_count": 88,
   "metadata": {},
   "outputs": [
    {
     "data": {
      "text/plain": [
       "defaultdict(list,\n",
       "            {'香港': ['广州', '长沙', '澳门', '广州', '长沙', '澳门'],\n",
       "             '广州': ['香港', '香港', '长沙', '澳门', '长沙', '澳门'],\n",
       "             '长沙': ['香港',\n",
       "              '武汉',\n",
       "              '郑州',\n",
       "              '广州',\n",
       "              '香港',\n",
       "              '武汉',\n",
       "              '郑州',\n",
       "              '广州',\n",
       "              '澳门',\n",
       "              '澳门'],\n",
       "             '澳门': ['香港', '广州', '长沙', '香港', '广州', '长沙'],\n",
       "             '兰州': ['西宁', '成都', '银川', '西宁', '成都', '银川'],\n",
       "             '西宁': ['兰州', '兰州', '成都', '拉萨', '成都', '拉萨'],\n",
       "             '成都': ['兰州', '西宁', '兰州', '西宁', '拉萨', '重庆', '拉萨', '重庆'],\n",
       "             '银川': ['兰州', '重庆', '兰州', '重庆'],\n",
       "             '拉萨': ['西宁', '成都', '西宁', '成都'],\n",
       "             '重庆': ['成都', '贵阳', '成都', '贵阳', '银川', '银川'],\n",
       "             '石家庄': ['郑州', '济南', '太原', '北京', '郑州', '济南', '太原', '北京'],\n",
       "             '郑州': ['石家庄', '武汉', '石家庄', '武汉', '长沙', '太原', '长沙', '太原'],\n",
       "             '济南': ['石家庄', '石家庄', '合肥', '北京', '天津', '合肥', '北京', '天津'],\n",
       "             '太原': ['石家庄', '郑州', '石家庄', '郑州', '呼和浩特', '呼和浩特'],\n",
       "             '北京': ['石家庄', '济南', '石家庄', '济南', '天津', '天津'],\n",
       "             '贵阳': ['重庆', '南宁', '重庆', '南宁'],\n",
       "             '南宁': ['贵阳', '海口', '贵阳', '海口'],\n",
       "             '武汉': ['郑州', '南昌', '长沙', '郑州', '南昌', '长沙'],\n",
       "             '南昌': ['武汉', '合肥', '武汉', '合肥'],\n",
       "             '合肥': ['济南', '南京', '济南', '南京', '南昌', '南昌'],\n",
       "             '天津': ['济南', '北京', '济南', '北京'],\n",
       "             '南京': ['合肥', '杭州', '合肥', '杭州'],\n",
       "             '杭州': ['南京', '南京', '福州', '上海', '福州', '上海'],\n",
       "             '福州': ['杭州', '杭州', '台湾', '台湾'],\n",
       "             '上海': ['杭州', '杭州'],\n",
       "             '台湾': ['福州', '福州'],\n",
       "             '海口': ['南宁', '南宁'],\n",
       "             '沈阳': ['长春', '长春'],\n",
       "             '长春': ['沈阳', '沈阳', '哈尔滨', '哈尔滨'],\n",
       "             '哈尔滨': ['长春', '长春'],\n",
       "             '呼和浩特': ['太原', '太原']})"
      ]
     },
     "execution_count": 88,
     "metadata": {},
     "output_type": "execute_result"
    }
   ],
   "source": [
    "city_connection"
   ]
  },
  {
   "cell_type": "code",
   "execution_count": 91,
   "metadata": {},
   "outputs": [],
   "source": [
    "city_with_road = nx.Graph(city_connection)"
   ]
  },
  {
   "cell_type": "code",
   "execution_count": 92,
   "metadata": {},
   "outputs": [
    {
     "data": {
      "image/png": "[encoded data removed]",
      "text/plain": [
       "<Figure size 432x288 with 1 Axes>"
      ]
     },
     "metadata": {},
     "output_type": "display_data"
    }
   ],
   "source": [
    "nx.draw(city_with_road,city_location,with_labels = True,node_size=30)"
   ]
  },
  {
   "cell_type": "code",
   "execution_count": 97,
   "metadata": {},
   "outputs": [
    {
     "name": "stdout",
     "output_type": "stream",
     "text": [
      "[['北京', '石家庄']]\n",
      "[['北京', '石家庄'], ['北京', '济南']]\n",
      "[['北京', '石家庄'], ['北京', '济南'], ['北京', '石家庄']]\n",
      "[['北京', '石家庄'], ['北京', '济南'], ['北京', '石家庄'], ['北京', '济南']]\n",
      "[['北京', '石家庄'], ['北京', '济南'], ['北京', '石家庄'], ['北京', '济南'], ['北京', '天津']]\n",
      "[['北京', '石家庄'], ['北京', '济南'], ['北京', '石家庄'], ['北京', '济南'], ['北京', '天津'], ['北京', '天津']]\n",
      "[['北京', '济南'], ['北京', '石家庄'], ['北京', '济南'], ['北京', '天津'], ['北京', '天津'], ['北京', '石家庄', '郑州']]\n",
      "[['北京', '济南'], ['北京', '石家庄'], ['北京', '济南'], ['北京', '天津'], ['北京', '天津'], ['北京', '石家庄', '郑州'], ['北京', '石家庄', '济南']]\n",
      "[['北京', '济南'], ['北京', '石家庄'], ['北京', '济南'], ['北京', '天津'], ['北京', '天津'], ['北京', '石家庄', '郑州'], ['北京', '石家庄', '济南'], ['北京', '石家庄', '太原']]\n",
      "[['北京', '济南'], ['北京', '石家庄'], ['北京', '济南'], ['北京', '天津'], ['北京', '天津'], ['北京', '石家庄', '郑州'], ['北京', '石家庄', '济南'], ['北京', '石家庄', '太原'], ['北京', '石家庄', '郑州']]\n",
      "[['北京', '济南'], ['北京', '石家庄'], ['北京', '济南'], ['北京', '天津'], ['北京', '天津'], ['北京', '石家庄', '郑州'], ['北京', '石家庄', '济南'], ['北京', '石家庄', '太原'], ['北京', '石家庄', '郑州'], ['北京', '石家庄', '济南']]\n",
      "[['北京', '济南'], ['北京', '石家庄'], ['北京', '济南'], ['北京', '天津'], ['北京', '天津'], ['北京', '石家庄', '郑州'], ['北京', '石家庄', '济南'], ['北京', '石家庄', '太原'], ['北京', '石家庄', '郑州'], ['北京', '石家庄', '济南'], ['北京', '石家庄', '太原']]\n",
      "[['北京', '石家庄'], ['北京', '济南'], ['北京', '天津'], ['北京', '天津'], ['北京', '石家庄', '郑州'], ['北京', '石家庄', '济南'], ['北京', '石家庄', '太原'], ['北京', '石家庄', '郑州'], ['北京', '石家庄', '济南'], ['北京', '石家庄', '太原'], ['北京', '济南', '石家庄']]\n",
      "[['北京', '石家庄'], ['北京', '济南'], ['北京', '天津'], ['北京', '天津'], ['北京', '石家庄', '郑州'], ['北京', '石家庄', '济南'], ['北京', '石家庄', '太原'], ['北京', '石家庄', '郑州'], ['北京', '石家庄', '济南'], ['北京', '石家庄', '太原'], ['北京', '济南', '石家庄'], ['北京', '济南', '石家庄']]\n",
      "[['北京', '石家庄'], ['北京', '济南'], ['北京', '天津'], ['北京', '天津'], ['北京', '石家庄', '郑州'], ['北京', '石家庄', '济南'], ['北京', '石家庄', '太原'], ['北京', '石家庄', '郑州'], ['北京', '石家庄', '济南'], ['北京', '石家庄', '太原'], ['北京', '济南', '石家庄'], ['北京', '济南', '石家庄'], ['北京', '济南', '合肥']]\n",
      "[['北京', '石家庄'], ['北京', '济南'], ['北京', '天津'], ['北京', '天津'], ['北京', '石家庄', '郑州'], ['北京', '石家庄', '济南'], ['北京', '石家庄', '太原'], ['北京', '石家庄', '郑州'], ['北京', '石家庄', '济南'], ['北京', '石家庄', '太原'], ['北京', '济南', '石家庄'], ['北京', '济南', '石家庄'], ['北京', '济南', '合肥'], ['北京', '济南', '天津']]\n",
      "[['北京', '石家庄'], ['北京', '济南'], ['北京', '天津'], ['北京', '天津'], ['北京', '石家庄', '郑州'], ['北京', '石家庄', '济南'], ['北京', '石家庄', '太原'], ['北京', '石家庄', '郑州'], ['北京', '石家庄', '济南'], ['北京', '石家庄', '太原'], ['北京', '济南', '石家庄'], ['北京', '济南', '石家庄'], ['北京', '济南', '合肥'], ['北京', '济南', '天津'], ['北京', '济南', '合肥']]\n",
      "[['北京', '石家庄'], ['北京', '济南'], ['北京', '天津'], ['北京', '天津'], ['北京', '石家庄', '郑州'], ['北京', '石家庄', '济南'], ['北京', '石家庄', '太原'], ['北京', '石家庄', '郑州'], ['北京', '石家庄', '济南'], ['北京', '石家庄', '太原'], ['北京', '济南', '石家庄'], ['北京', '济南', '石家庄'], ['北京', '济南', '合肥'], ['北京', '济南', '天津'], ['北京', '济南', '合肥'], ['北京', '济南', '天津']]\n",
      "[['北京', '天津'], ['北京', '石家庄', '郑州'], ['北京', '石家庄', '济南'], ['北京', '石家庄', '太原'], ['北京', '石家庄', '郑州'], ['北京', '石家庄', '济南'], ['北京', '石家庄', '太原'], ['北京', '济南', '石家庄'], ['北京', '济南', '石家庄'], ['北京', '济南', '合肥'], ['北京', '济南', '天津'], ['北京', '济南', '合肥'], ['北京', '济南', '天津'], ['北京', '天津', '济南']]\n",
      "[['北京', '天津'], ['北京', '石家庄', '郑州'], ['北京', '石家庄', '济南'], ['北京', '石家庄', '太原'], ['北京', '石家庄', '郑州'], ['北京', '石家庄', '济南'], ['北京', '石家庄', '太原'], ['北京', '济南', '石家庄'], ['北京', '济南', '石家庄'], ['北京', '济南', '合肥'], ['北京', '济南', '天津'], ['北京', '济南', '合肥'], ['北京', '济南', '天津'], ['北京', '天津', '济南'], ['北京', '天津', '济南']]\n",
      "[['北京', '石家庄', '济南'], ['北京', '石家庄', '太原'], ['北京', '石家庄', '郑州'], ['北京', '石家庄', '济南'], ['北京', '石家庄', '太原'], ['北京', '济南', '石家庄'], ['北京', '济南', '石家庄'], ['北京', '济南', '合肥'], ['北京', '济南', '天津'], ['北京', '济南', '合肥'], ['北京', '济南', '天津'], ['北京', '天津', '济南'], ['北京', '天津', '济南'], ['北京', '石家庄', '郑州', '武汉']]\n",
      "[['北京', '石家庄', '济南'], ['北京', '石家庄', '太原'], ['北京', '石家庄', '郑州'], ['北京', '石家庄', '济南'], ['北京', '石家庄', '太原'], ['北京', '济南', '石家庄'], ['北京', '济南', '石家庄'], ['北京', '济南', '合肥'], ['北京', '济南', '天津'], ['北京', '济南', '合肥'], ['北京', '济南', '天津'], ['北京', '天津', '济南'], ['北京', '天津', '济南'], ['北京', '石家庄', '郑州', '武汉'], ['北京', '石家庄', '郑州', '武汉']]\n",
      "[['北京', '石家庄', '济南'], ['北京', '石家庄', '太原'], ['北京', '石家庄', '郑州'], ['北京', '石家庄', '济南'], ['北京', '石家庄', '太原'], ['北京', '济南', '石家庄'], ['北京', '济南', '石家庄'], ['北京', '济南', '合肥'], ['北京', '济南', '天津'], ['北京', '济南', '合肥'], ['北京', '济南', '天津'], ['北京', '天津', '济南'], ['北京', '天津', '济南'], ['北京', '石家庄', '郑州', '武汉'], ['北京', '石家庄', '郑州', '武汉'], ['北京', '石家庄', '郑州', '长沙']]\n",
      "[['北京', '石家庄', '济南'], ['北京', '石家庄', '太原'], ['北京', '石家庄', '郑州'], ['北京', '石家庄', '济南'], ['北京', '石家庄', '太原'], ['北京', '济南', '石家庄'], ['北京', '济南', '石家庄'], ['北京', '济南', '合肥'], ['北京', '济南', '天津'], ['北京', '济南', '合肥'], ['北京', '济南', '天津'], ['北京', '天津', '济南'], ['北京', '天津', '济南'], ['北京', '石家庄', '郑州', '武汉'], ['北京', '石家庄', '郑州', '武汉'], ['北京', '石家庄', '郑州', '长沙'], ['北京', '石家庄', '郑州', '太原']]\n",
      "[['北京', '石家庄', '济南'], ['北京', '石家庄', '太原'], ['北京', '石家庄', '郑州'], ['北京', '石家庄', '济南'], ['北京', '石家庄', '太原'], ['北京', '济南', '石家庄'], ['北京', '济南', '石家庄'], ['北京', '济南', '合肥'], ['北京', '济南', '天津'], ['北京', '济南', '合肥'], ['北京', '济南', '天津'], ['北京', '天津', '济南'], ['北京', '天津', '济南'], ['北京', '石家庄', '郑州', '武汉'], ['北京', '石家庄', '郑州', '武汉'], ['北京', '石家庄', '郑州', '长沙'], ['北京', '石家庄', '郑州', '太原'], ['北京', '石家庄', '郑州', '长沙']]\n",
      "[['北京', '石家庄', '济南'], ['北京', '石家庄', '太原'], ['北京', '石家庄', '郑州'], ['北京', '石家庄', '济南'], ['北京', '石家庄', '太原'], ['北京', '济南', '石家庄'], ['北京', '济南', '石家庄'], ['北京', '济南', '合肥'], ['北京', '济南', '天津'], ['北京', '济南', '合肥'], ['北京', '济南', '天津'], ['北京', '天津', '济南'], ['北京', '天津', '济南'], ['北京', '石家庄', '郑州', '武汉'], ['北京', '石家庄', '郑州', '武汉'], ['北京', '石家庄', '郑州', '长沙'], ['北京', '石家庄', '郑州', '太原'], ['北京', '石家庄', '郑州', '长沙'], ['北京', '石家庄', '郑州', '太原']]\n",
      "[['北京', '石家庄', '郑州'], ['北京', '石家庄', '济南'], ['北京', '石家庄', '太原'], ['北京', '济南', '石家庄'], ['北京', '济南', '石家庄'], ['北京', '济南', '合肥'], ['北京', '济南', '天津'], ['北京', '济南', '合肥'], ['北京', '济南', '天津'], ['北京', '天津', '济南'], ['北京', '天津', '济南'], ['北京', '石家庄', '郑州', '武汉'], ['北京', '石家庄', '郑州', '武汉'], ['北京', '石家庄', '郑州', '长沙'], ['北京', '石家庄', '郑州', '太原'], ['北京', '石家庄', '郑州', '长沙'], ['北京', '石家庄', '郑州', '太原'], ['北京', '石家庄', '太原', '郑州']]\n",
      "[['北京', '石家庄', '郑州'], ['北京', '石家庄', '济南'], ['北京', '石家庄', '太原'], ['北京', '济南', '石家庄'], ['北京', '济南', '石家庄'], ['北京', '济南', '合肥'], ['北京', '济南', '天津'], ['北京', '济南', '合肥'], ['北京', '济南', '天津'], ['北京', '天津', '济南'], ['北京', '天津', '济南'], ['北京', '石家庄', '郑州', '武汉'], ['北京', '石家庄', '郑州', '武汉'], ['北京', '石家庄', '郑州', '长沙'], ['北京', '石家庄', '郑州', '太原'], ['北京', '石家庄', '郑州', '长沙'], ['北京', '石家庄', '郑州', '太原'], ['北京', '石家庄', '太原', '郑州'], ['北京', '石家庄', '太原', '郑州']]\n",
      "[['北京', '石家庄', '郑州'], ['北京', '石家庄', '济南'], ['北京', '石家庄', '太原'], ['北京', '济南', '石家庄'], ['北京', '济南', '石家庄'], ['北京', '济南', '合肥'], ['北京', '济南', '天津'], ['北京', '济南', '合肥'], ['北京', '济南', '天津'], ['北京', '天津', '济南'], ['北京', '天津', '济南'], ['北京', '石家庄', '郑州', '武汉'], ['北京', '石家庄', '郑州', '武汉'], ['北京', '石家庄', '郑州', '长沙'], ['北京', '石家庄', '郑州', '太原'], ['北京', '石家庄', '郑州', '长沙'], ['北京', '石家庄', '郑州', '太原'], ['北京', '石家庄', '太原', '郑州'], ['北京', '石家庄', '太原', '郑州'], ['北京', '石家庄', '太原', '呼和浩特']]\n",
      "[['北京', '石家庄', '郑州'], ['北京', '石家庄', '济南'], ['北京', '石家庄', '太原'], ['北京', '济南', '石家庄'], ['北京', '济南', '石家庄'], ['北京', '济南', '合肥'], ['北京', '济南', '天津'], ['北京', '济南', '合肥'], ['北京', '济南', '天津'], ['北京', '天津', '济南'], ['北京', '天津', '济南'], ['北京', '石家庄', '郑州', '武汉'], ['北京', '石家庄', '郑州', '武汉'], ['北京', '石家庄', '郑州', '长沙'], ['北京', '石家庄', '郑州', '太原'], ['北京', '石家庄', '郑州', '长沙'], ['北京', '石家庄', '郑州', '太原'], ['北京', '石家庄', '太原', '郑州'], ['北京', '石家庄', '太原', '郑州'], ['北京', '石家庄', '太原', '呼和浩特'], ['北京', '石家庄', '太原', '呼和浩特']]\n",
      "[['北京', '济南', '天津'], ['北京', '济南', '合肥'], ['北京', '济南', '天津'], ['北京', '天津', '济南'], ['北京', '天津', '济南'], ['北京', '石家庄', '郑州', '武汉'], ['北京', '石家庄', '郑州', '武汉'], ['北京', '石家庄', '郑州', '长沙'], ['北京', '石家庄', '郑州', '太原'], ['北京', '石家庄', '郑州', '长沙'], ['北京', '石家庄', '郑州', '太原'], ['北京', '石家庄', '太原', '郑州'], ['北京', '石家庄', '太原', '郑州'], ['北京', '石家庄', '太原', '呼和浩特'], ['北京', '石家庄', '太原', '呼和浩特'], ['北京', '济南', '合肥', '南京']]\n",
      "北京cccc->济南cccc->合肥cccc->南京\n"
     ]
    }
   ],
   "source": [
    " pretty_print(search('北京','南京',city_connection))"
   ]
  },
  {
   "cell_type": "code",
   "execution_count": 140,
   "metadata": {},
   "outputs": [
    {
     "name": "stdout",
     "output_type": "stream",
     "text": [
      "北京cccc->石家庄cccc->郑州cccc->武汉cccc->长沙cccc->广州\n"
     ]
    }
   ],
   "source": [
    "pretty_print(search('北京','广州',city_connection,sort_condition=trnsfer_as_much_possible))"
   ]
  },
  {
   "cell_type": "code",
   "execution_count": 141,
   "metadata": {},
   "outputs": [
    {
     "name": "stdout",
     "output_type": "stream",
     "text": [
      "北京 : 石家庄\n",
      "北京 : 济南\n",
      "北京 : 石家庄\n",
      "北京 : 济南\n",
      "北京 : 天津\n",
      "北京 : 天津\n",
      "北京 : 天津\n",
      "北京 : 济南\n",
      "北京 : 济南\n",
      "北京 : 石家庄\n",
      "北京 : 石家庄\n",
      "北京 : 济南\n",
      "北京 : 济南\n",
      "北京 : 济南\n",
      "北京 : 济南\n",
      "北京 : 济南\n",
      "北京 : 石家庄\n",
      "北京 : 石家庄\n",
      "北京 : 石家庄\n",
      "北京 : 石家庄\n",
      "北京 : 合肥\n",
      "北京 : 天津\n",
      "北京 : 合肥\n",
      "北京 : 天津\n",
      "北京 : 石家庄\n",
      "北京 : 石家庄\n",
      "北京 : 石家庄\n",
      "北京 : 合肥\n",
      "北京 : 合肥\n",
      "北京 : 郑州\n",
      "北京 : 济南\n",
      "北京 : 太原\n",
      "北京 : 郑州\n",
      "北京 : 济南\n",
      "北京 : 太原\n",
      "北京 : 郑州\n",
      "北京 : 合肥\n",
      "北京 : 合肥\n",
      "北京 : 太原\n",
      "北京 : 太原\n",
      "北京 : 武汉\n",
      "北京 : 武汉\n",
      "北京 : 长沙\n",
      "北京 : 太原\n",
      "北京 : 长沙\n",
      "北京 : 太原\n",
      "北京 : 合肥\n",
      "北京 : 太原\n",
      "北京 : 太原\n",
      "北京 : 太原\n",
      "北京 : 太原\n",
      "北京 : 武汉\n",
      "北京 : 武汉\n",
      "北京 : 长沙\n",
      "北京 : 长沙\n",
      "北京 : 南京\n",
      "北京 : 南京\n",
      "北京 : 南昌\n",
      "北京 : 南昌\n",
      "北京 : 太原\n",
      "北京 : 太原\n",
      "北京 : 太原\n",
      "北京 : 南京\n",
      "北京 : 南京\n",
      "北京 : 武汉\n",
      "北京 : 武汉\n",
      "北京 : 南昌\n",
      "北京 : 南昌\n",
      "北京 : 长沙\n",
      "北京 : 长沙\n",
      "北京 : 郑州\n",
      "北京 : 郑州\n",
      "北京 : 呼和浩特\n",
      "北京 : 呼和浩特\n",
      "北京 : 南京\n",
      "北京 : 武汉\n",
      "北京 : 武汉\n",
      "北京 : 呼和浩特\n",
      "北京 : 呼和浩特\n",
      "北京 : 南昌\n",
      "北京 : 南昌\n",
      "北京 : 长沙\n",
      "北京 : 长沙\n",
      "北京 : 杭州\n",
      "北京 : 杭州\n",
      "北京 : 武汉\n",
      "北京 : 呼和浩特\n",
      "北京 : 呼和浩特\n",
      "北京 : 南昌\n",
      "北京 : 南昌\n",
      "北京 : 杭州\n",
      "北京 : 杭州\n",
      "北京 : 长沙\n",
      "北京 : 长沙\n",
      "北京 : 南昌\n",
      "北京 : 长沙\n",
      "北京 : 南昌\n",
      "北京 : 长沙\n",
      "北京 : 呼和浩特\n",
      "北京 : 南昌\n",
      "北京 : 南昌\n",
      "北京 : 南昌\n",
      "北京 : 南昌\n",
      "北京 : 杭州\n",
      "北京 : 杭州\n",
      "北京 : 长沙\n",
      "北京 : 长沙\n",
      "北京 : 长沙\n",
      "北京 : 长沙\n",
      "北京 : 南昌\n",
      "北京 : 南昌\n",
      "北京 : 南昌\n",
      "北京 : 杭州\n",
      "北京 : 杭州\n",
      "北京 : 长沙\n",
      "北京 : 长沙\n",
      "北京 : 长沙\n",
      "北京 : 长沙\n",
      "北京 : 武汉\n",
      "北京 : 武汉\n",
      "北京 : 杭州\n",
      "北京 : 长沙\n",
      "北京 : 长沙\n",
      "北京 : 长沙\n",
      "北京 : 长沙\n",
      "北京 : 福州\n",
      "北京 : 上海\n",
      "北京 : 福州\n",
      "北京 : 上海\n",
      "北京cccc->石家庄cccc->郑州cccc->长沙cccc->广州\n"
     ]
    }
   ],
   "source": [
    "pretty_print(search('北京','广州',city_connection,sort_condition=shortest_path_first))"
   ]
  },
  {
   "cell_type": "code",
   "execution_count": 14,
   "metadata": {},
   "outputs": [],
   "source": [
    "import requests\n",
    "import re"
   ]
  },
  {
   "cell_type": "code",
   "execution_count": 16,
   "metadata": {},
   "outputs": [],
   "source": [
    "url = 'https://movie.douban.com/subject/26931786/?from=showing'"
   ]
  },
  {
   "cell_type": "code",
   "execution_count": 17,
   "metadata": {},
   "outputs": [],
   "source": [
    "response = requests.get(url)"
   ]
  },
  {
   "cell_type": "code",
   "execution_count": 24,
   "metadata": {},
   "outputs": [],
   "source": [
    "what_we_want = r'<a href=\"https://(movie\\.douban\\.com/subject/\\d+/\\?from=subject-page)\" class=\"\" '"
   ]
  },
  {
   "cell_type": "code",
   "execution_count": 25,
   "metadata": {},
   "outputs": [],
   "source": [
    "pattern = re.compile(what_we_want)"
   ]
  },
  {
   "cell_type": "code",
   "execution_count": 21,
   "metadata": {},
   "outputs": [],
   "source": [
    "likes = pattern.findall(response.text)"
   ]
  },
  {
   "cell_type": "code",
   "execution_count": 23,
   "metadata": {},
   "outputs": [
    {
     "name": "stdout",
     "output_type": "stream",
     "text": [
      "movie.douban.com/subject/24753477/?from=subject-page\n",
      "movie.douban.com/subject/26100958/?from=subject-page\n",
      "movie.douban.com/subject/25820460/?from=subject-page\n",
      "movie.douban.com/subject/1432146/?from=subject-page\n",
      "movie.douban.com/subject/25937854/?from=subject-page\n",
      "movie.douban.com/subject/1866473/?from=subject-page\n",
      "movie.douban.com/subject/25821634/?from=subject-page\n",
      "movie.douban.com/subject/26213252/?from=subject-page\n",
      "movie.douban.com/subject/25828589/?from=subject-page\n",
      "movie.douban.com/subject/4920389/?from=subject-page\n"
     ]
    }
   ],
   "source": [
    "for like in likes:\n",
    "    print(like)"
   ]
  },
  {
   "cell_type": "markdown",
   "metadata": {},
   "source": [
    "# Machine learning"
   ]
  },
  {
   "cell_type": "code",
   "execution_count": 26,
   "metadata": {},
   "outputs": [],
   "source": [
    "from sklearn.datasets import load_boston"
   ]
  },
  {
   "cell_type": "code",
   "execution_count": 27,
   "metadata": {},
   "outputs": [],
   "source": [
    "data = load_boston()"
   ]
  },
  {
   "cell_type": "code",
   "execution_count": 29,
   "metadata": {},
   "outputs": [],
   "source": [
    "X,y = data['data'],data['target']#target（即价格）data（即属性）"
   ]
  },
  {
   "cell_type": "code",
   "execution_count": 30,
   "metadata": {},
   "outputs": [
    {
     "data": {
      "text/plain": [
       "array([6.320e-03, 1.800e+01, 2.310e+00, 0.000e+00, 5.380e-01, 6.575e+00,\n",
       "       6.520e+01, 4.090e+00, 1.000e+00, 2.960e+02, 1.530e+01, 3.969e+02,\n",
       "       4.980e+00])"
      ]
     },
     "execution_count": 30,
     "metadata": {},
     "output_type": "execute_result"
    }
   ],
   "source": [
    "X[0]"
   ]
  },
  {
   "cell_type": "code",
   "execution_count": 37,
   "metadata": {},
   "outputs": [
    {
     "data": {
      "text/plain": [
       "21.6"
      ]
     },
     "execution_count": 37,
     "metadata": {},
     "output_type": "execute_result"
    }
   ],
   "source": [
    "y[1]"
   ]
  },
  {
   "cell_type": "code",
   "execution_count": 38,
   "metadata": {},
   "outputs": [
    {
     "data": {
      "text/plain": [
       "506"
      ]
     },
     "execution_count": 38,
     "metadata": {},
     "output_type": "execute_result"
    }
   ],
   "source": [
    "len(y)"
   ]
  },
  {
   "cell_type": "code",
   "execution_count": 43,
   "metadata": {},
   "outputs": [],
   "source": [
    "%matplotlib inline\n",
    "import matplotlib.pyplot as plt"
   ]
  },
  {
   "cell_type": "code",
   "execution_count": 51,
   "metadata": {},
   "outputs": [],
   "source": [
    "def draw_rm_and_price():\n",
    "    plt.scatter(X[:,5],y)#X第0列"
   ]
  },
  {
   "cell_type": "markdown",
   "metadata": {},
   "source": [
    "draw_rm_and_price()"
   ]
  },
  {
   "cell_type": "code",
   "execution_count": 55,
   "metadata": {},
   "outputs": [],
   "source": [
    "import random"
   ]
  },
  {
   "cell_type": "code",
   "execution_count": 61,
   "metadata": {},
   "outputs": [],
   "source": [
    "def price(rm,k,b):\n",
    "    \"\"\"\n",
    "    f(x) = k * x + b\n",
    "    \"\"\"\n",
    "    return k*rm+b"
   ]
  },
  {
   "cell_type": "code",
   "execution_count": null,
   "metadata": {},
   "outputs": [],
   "source": [
    "y"
   ]
  },
  {
   "cell_type": "markdown",
   "metadata": {},
   "source": [
    "# loss"
   ]
  },
  {
   "cell_type": "code",
   "execution_count": 80,
   "metadata": {},
   "outputs": [],
   "source": [
    "def loss(y,y_hat):#损失函数\n",
    "    return sum((y_i - y_hat_i)**2 for y_i,y_hat_i in zip (list(y),list(y_hat)))/len(list(y))\n"
   ]
  },
  {
   "cell_type": "code",
   "execution_count": 79,
   "metadata": {},
   "outputs": [
    {
     "data": {
      "text/plain": [
       "6"
      ]
     },
     "execution_count": 79,
     "metadata": {},
     "output_type": "execute_result"
    }
   ],
   "source": [
    "loss([1,1,1],[2,2,3])\n"
   ]
  },
  {
   "cell_type": "code",
   "execution_count": 124,
   "metadata": {},
   "outputs": [],
   "source": [
    "def loss_2(y,y_hat):#损失函数2  1/n*sum(|y-y_hat|)\n",
    "    return sum(abs(y_i - y_hat_i) for y_i,y_hat_i in zip (list(y),list(y_hat)))/len(list(y))\n"
   ]
  },
  {
   "cell_type": "markdown",
   "metadata": {},
   "source": [
    "## 2nd-Method:Direction Adjusting"
   ]
  },
  {
   "cell_type": "code",
   "execution_count": 130,
   "metadata": {},
   "outputs": [
    {
     "name": "stdout",
     "output_type": "stream",
     "text": [
      "When time is : 0 ,get best_k :-66.11830793577246 best_b:-88.62533749385733 ,and the loss is 280231.08488944615\n",
      "When time is : 1 ,get best_k :-65.71830793577246 best_b:-89.02533749385734 ,and the loss is 277979.3026575081\n",
      "When time is : 2 ,get best_k :-65.31830793577245 best_b:-89.42533749385734 ,and the loss is 275736.61484343355\n",
      "When time is : 3 ,get best_k :-64.91830793577245 best_b:-89.82533749385735 ,and the loss is 273503.02144722274\n",
      "When time is : 4 ,get best_k :-64.51830793577244 best_b:-90.22533749385735 ,and the loss is 271278.52246887557\n",
      "When time is : 5 ,get best_k :-64.11830793577244 best_b:-90.62533749385736 ,and the loss is 269063.117908392\n",
      "When time is : 6 ,get best_k :-63.71830793577244 best_b:-91.02533749385736 ,and the loss is 266856.8077657724\n",
      "When time is : 7 ,get best_k :-63.31830793577244 best_b:-91.42533749385737 ,and the loss is 264659.59204101644\n",
      "When time is : 8 ,get best_k :-62.91830793577244 best_b:-91.82533749385738 ,and the loss is 262471.4707341243\n",
      "When time is : 9 ,get best_k :-62.51830793577244 best_b:-92.22533749385738 ,and the loss is 260292.44384509564\n",
      "When time is : 10 ,get best_k :-62.11830793577244 best_b:-92.62533749385739 ,and the loss is 258122.51137393087\n",
      "When time is : 11 ,get best_k :-61.718307935772444 best_b:-93.02533749385739 ,and the loss is 255961.67332063\n",
      "When time is : 12 ,get best_k :-61.318307935772445 best_b:-93.4253374938574 ,and the loss is 253809.9296851926\n",
      "When time is : 13 ,get best_k :-60.91830793577245 best_b:-93.8253374938574 ,and the loss is 251667.2804676188\n",
      "When time is : 14 ,get best_k :-60.51830793577245 best_b:-94.22533749385741 ,and the loss is 249533.72566790873\n",
      "When time is : 15 ,get best_k :-60.11830793577245 best_b:-94.62533749385742 ,and the loss is 247409.2652860627\n",
      "When time is : 16 ,get best_k :-59.71830793577245 best_b:-95.02533749385742 ,and the loss is 245293.89932208028\n",
      "When time is : 17 ,get best_k :-59.31830793577245 best_b:-95.42533749385743 ,and the loss is 243187.62777596115\n",
      "When time is : 18 ,get best_k :-58.918307935772454 best_b:-95.82533749385743 ,and the loss is 241090.45064770646\n",
      "When time is : 19 ,get best_k :-58.518307935772455 best_b:-96.22533749385744 ,and the loss is 239002.3679373146\n",
      "When time is : 20 ,get best_k :-58.11830793577246 best_b:-96.62533749385744 ,and the loss is 236923.37964478723\n",
      "When time is : 21 ,get best_k :-57.71830793577246 best_b:-97.02533749385745 ,and the loss is 234853.4857701234\n",
      "When time is : 22 ,get best_k :-57.31830793577246 best_b:-97.42533749385746 ,and the loss is 232792.68631332356\n",
      "When time is : 23 ,get best_k :-56.91830793577246 best_b:-97.82533749385746 ,and the loss is 230740.98127438672\n",
      "When time is : 24 ,get best_k :-56.51830793577246 best_b:-98.22533749385747 ,and the loss is 228698.3706533139\n",
      "When time is : 25 ,get best_k :-56.118307935772464 best_b:-98.62533749385747 ,and the loss is 226664.8544501046\n",
      "When time is : 26 ,get best_k :-55.718307935772465 best_b:-99.02533749385748 ,and the loss is 224640.43266475943\n",
      "When time is : 27 ,get best_k :-55.31830793577247 best_b:-99.42533749385748 ,and the loss is 222625.10529727777\n",
      "When time is : 28 ,get best_k :-54.91830793577247 best_b:-99.82533749385749 ,and the loss is 220618.87234765998\n",
      "When time is : 29 ,get best_k :-54.51830793577247 best_b:-100.2253374938575 ,and the loss is 218621.73381590578\n",
      "When time is : 30 ,get best_k :-54.11830793577247 best_b:-100.6253374938575 ,and the loss is 216633.68970201522\n",
      "When time is : 31 ,get best_k :-53.71830793577247 best_b:-101.0253374938575 ,and the loss is 214654.74000598845\n",
      "When time is : 32 ,get best_k :-53.318307935772474 best_b:-101.42533749385751 ,and the loss is 212684.8847278255\n",
      "When time is : 33 ,get best_k :-52.918307935772475 best_b:-101.82533749385752 ,and the loss is 210724.12386752584\n",
      "When time is : 34 ,get best_k :-52.51830793577248 best_b:-102.22533749385752 ,and the loss is 208772.45742509043\n",
      "When time is : 35 ,get best_k :-52.11830793577248 best_b:-102.62533749385753 ,and the loss is 206829.88540051843\n",
      "When time is : 36 ,get best_k :-51.71830793577248 best_b:-103.02533749385753 ,and the loss is 204896.40779381007\n",
      "When time is : 37 ,get best_k :-51.31830793577248 best_b:-103.42533749385754 ,and the loss is 202972.02460496567\n",
      "When time is : 38 ,get best_k :-50.91830793577248 best_b:-103.82533749385755 ,and the loss is 201056.7358339851\n",
      "When time is : 39 ,get best_k :-50.518307935772484 best_b:-104.22533749385755 ,and the loss is 199150.5414808677\n",
      "When time is : 40 ,get best_k :-50.118307935772485 best_b:-104.62533749385756 ,and the loss is 197253.44154561448\n",
      "When time is : 41 ,get best_k :-49.718307935772486 best_b:-105.02533749385756 ,and the loss is 195365.43602822494\n",
      "When time is : 42 ,get best_k :-49.31830793577249 best_b:-105.42533749385757 ,and the loss is 193486.52492869887\n",
      "When time is : 43 ,get best_k :-48.91830793577249 best_b:-105.82533749385757 ,and the loss is 191616.70824703688\n",
      "When time is : 44 ,get best_k :-48.51830793577249 best_b:-106.22533749385758 ,and the loss is 189755.98598323835\n",
      "When time is : 45 ,get best_k :-48.11830793577249 best_b:-106.62533749385759 ,and the loss is 187904.3581373036\n",
      "When time is : 46 ,get best_k :-47.71830793577249 best_b:-107.02533749385759 ,and the loss is 186061.82470923255\n",
      "When time is : 47 ,get best_k :-47.318307935772495 best_b:-107.4253374938576 ,and the loss is 184228.38569902524\n",
      "When time is : 48 ,get best_k :-46.918307935772496 best_b:-107.8253374938576 ,and the loss is 182404.0411066817\n",
      "When time is : 49 ,get best_k :-46.5183079357725 best_b:-108.22533749385761 ,and the loss is 180588.7909322019\n",
      "When time is : 50 ,get best_k :-46.1183079357725 best_b:-108.62533749385761 ,and the loss is 178782.63517558554\n",
      "When time is : 51 ,get best_k :-45.7183079357725 best_b:-109.02533749385762 ,and the loss is 176985.57383683303\n",
      "When time is : 52 ,get best_k :-45.3183079357725 best_b:-109.42533749385763 ,and the loss is 175197.60691594428\n",
      "When time is : 53 ,get best_k :-44.9183079357725 best_b:-109.82533749385763 ,and the loss is 173418.7344129193\n",
      "When time is : 54 ,get best_k :-44.518307935772505 best_b:-110.22533749385764 ,and the loss is 171648.9563277578\n",
      "When time is : 55 ,get best_k :-44.118307935772506 best_b:-110.62533749385764 ,and the loss is 169888.27266046038\n",
      "When time is : 56 ,get best_k :-43.71830793577251 best_b:-111.02533749385765 ,and the loss is 168136.6834110265\n",
      "When time is : 57 ,get best_k :-43.31830793577251 best_b:-111.42533749385765 ,and the loss is 166394.1885794563\n",
      "When time is : 58 ,get best_k :-42.91830793577251 best_b:-111.82533749385766 ,and the loss is 164660.7881657497\n",
      "When time is : 59 ,get best_k :-42.51830793577251 best_b:-112.22533749385767 ,and the loss is 162936.4821699071\n",
      "When time is : 60 ,get best_k :-42.11830793577251 best_b:-112.62533749385767 ,and the loss is 161221.27059192793\n",
      "When time is : 61 ,get best_k :-41.718307935772515 best_b:-113.02533749385768 ,and the loss is 159515.15343181265\n",
      "When time is : 62 ,get best_k :-41.318307935772516 best_b:-113.42533749385768 ,and the loss is 157818.130689561\n",
      "When time is : 63 ,get best_k :-40.91830793577252 best_b:-113.82533749385769 ,and the loss is 156130.20236517303\n",
      "When time is : 64 ,get best_k :-40.51830793577252 best_b:-114.2253374938577 ,and the loss is 154451.36845864926\n",
      "When time is : 65 ,get best_k :-40.11830793577252 best_b:-114.6253374938577 ,and the loss is 152781.62896998844\n",
      "When time is : 66 ,get best_k :-39.71830793577252 best_b:-115.0253374938577 ,and the loss is 151120.9838991917\n",
      "When time is : 67 ,get best_k :-39.31830793577252 best_b:-115.42533749385771 ,and the loss is 149469.4332462588\n",
      "When time is : 68 ,get best_k :-38.918307935772525 best_b:-115.82533749385772 ,and the loss is 147826.97701118962\n",
      "When time is : 69 ,get best_k :-38.518307935772526 best_b:-116.22533749385772 ,and the loss is 146193.6151939839\n",
      "When time is : 70 ,get best_k :-38.11830793577253 best_b:-116.62533749385773 ,and the loss is 144569.34779464186\n",
      "When time is : 71 ,get best_k :-37.71830793577253 best_b:-117.02533749385773 ,and the loss is 142954.1748131639\n",
      "When time is : 72 ,get best_k :-37.31830793577253 best_b:-117.42533749385774 ,and the loss is 141348.09624954945\n",
      "When time is : 73 ,get best_k :-36.91830793577253 best_b:-117.82533749385775 ,and the loss is 139751.11210379866\n",
      "When time is : 74 ,get best_k :-36.51830793577253 best_b:-118.22533749385775 ,and the loss is 138163.22237591166\n",
      "When time is : 75 ,get best_k :-36.118307935772535 best_b:-118.62533749385776 ,and the loss is 136584.42706588827\n",
      "When time is : 76 ,get best_k :-35.718307935772536 best_b:-119.02533749385776 ,and the loss is 135014.72617372868\n",
      "When time is : 77 ,get best_k :-35.31830793577254 best_b:-119.42533749385777 ,and the loss is 133454.11969943283\n",
      "When time is : 78 ,get best_k :-34.91830793577254 best_b:-119.82533749385777 ,and the loss is 131902.60764300058\n",
      "When time is : 79 ,get best_k :-34.51830793577254 best_b:-120.22533749385778 ,and the loss is 130360.19000443221\n",
      "When time is : 80 ,get best_k :-34.11830793577254 best_b:-120.62533749385778 ,and the loss is 128826.8667837276\n",
      "When time is : 81 ,get best_k :-33.71830793577254 best_b:-121.02533749385779 ,and the loss is 127302.63798088657\n",
      "When time is : 82 ,get best_k :-33.318307935772545 best_b:-121.4253374938578 ,and the loss is 125787.50359590931\n",
      "When time is : 83 ,get best_k :-32.918307935772546 best_b:-121.8253374938578 ,and the loss is 124281.46362879565\n",
      "When time is : 84 ,get best_k :-32.51830793577255 best_b:-122.22533749385781 ,and the loss is 122784.51807954583\n",
      "When time is : 85 ,get best_k :-32.11830793577255 best_b:-122.62533749385781 ,and the loss is 121296.66694815956\n",
      "When time is : 86 ,get best_k :-31.71830793577255 best_b:-123.02533749385782 ,and the loss is 119817.91023463712\n",
      "When time is : 87 ,get best_k :-31.318307935772552 best_b:-123.42533749385782 ,and the loss is 118348.24793897847\n",
      "When time is : 88 ,get best_k :-30.918307935772553 best_b:-123.82533749385783 ,and the loss is 116887.68006118352\n",
      "When time is : 89 ,get best_k :-30.518307935772555 best_b:-124.22533749385784 ,and the loss is 115436.20660125223\n",
      "When time is : 90 ,get best_k :-30.118307935772556 best_b:-124.62533749385784 ,and the loss is 113993.82755918466\n",
      "When time is : 91 ,get best_k :-29.718307935772557 best_b:-125.02533749385785 ,and the loss is 112560.54293498075\n",
      "When time is : 92 ,get best_k :-29.31830793577256 best_b:-125.42533749385785 ,and the loss is 111136.35272864056\n",
      "When time is : 93 ,get best_k :-28.91830793577256 best_b:-125.82533749385786 ,and the loss is 109721.25694016412\n",
      "When time is : 94 ,get best_k :-28.51830793577256 best_b:-126.22533749385786 ,and the loss is 108315.25556955139\n",
      "When time is : 95 ,get best_k :-28.118307935772563 best_b:-126.62533749385787 ,and the loss is 106918.3486168025\n",
      "When time is : 96 ,get best_k :-27.718307935772565 best_b:-127.02533749385788 ,and the loss is 105530.5360819171\n",
      "When time is : 97 ,get best_k :-27.318307935772566 best_b:-127.42533749385788 ,and the loss is 104151.81796489563\n",
      "When time is : 98 ,get best_k :-26.918307935772567 best_b:-127.82533749385789 ,and the loss is 102782.19426573768\n",
      "When time is : 99 ,get best_k :-26.51830793577257 best_b:-128.2253374938579 ,and the loss is 101421.66498444359\n",
      "When time is : 100 ,get best_k :-26.11830793577257 best_b:-128.6253374938579 ,and the loss is 100070.23012101323\n",
      "When time is : 101 ,get best_k :-25.71830793577257 best_b:-129.0253374938579 ,and the loss is 98727.88967544655\n",
      "When time is : 102 ,get best_k :-25.318307935772573 best_b:-129.4253374938579 ,and the loss is 97394.64364774349\n",
      "When time is : 103 ,get best_k :-24.918307935772575 best_b:-129.82533749385792 ,and the loss is 96070.4920379043\n",
      "When time is : 104 ,get best_k :-24.518307935772576 best_b:-130.22533749385792 ,and the loss is 94755.43484592855\n",
      "When time is : 105 ,get best_k :-24.118307935772577 best_b:-130.62533749385793 ,and the loss is 93449.47207181685\n",
      "When time is : 106 ,get best_k :-23.71830793577258 best_b:-131.02533749385793 ,and the loss is 92152.60371556855\n",
      "When time is : 107 ,get best_k :-23.31830793577258 best_b:-131.42533749385794 ,and the loss is 90864.82977718426\n",
      "When time is : 108 ,get best_k :-22.91830793577258 best_b:-131.82533749385794 ,and the loss is 89586.15025666355\n",
      "When time is : 109 ,get best_k :-22.518307935772583 best_b:-132.22533749385795 ,and the loss is 88316.56515400656\n",
      "When time is : 110 ,get best_k :-22.118307935772584 best_b:-132.62533749385796 ,and the loss is 87056.07446921324\n",
      "When time is : 111 ,get best_k :-21.718307935772586 best_b:-133.02533749385796 ,and the loss is 85804.67820228376\n",
      "When time is : 112 ,get best_k :-21.318307935772587 best_b:-133.42533749385797 ,and the loss is 84562.37635321793\n",
      "When time is : 113 ,get best_k :-20.91830793577259 best_b:-133.82533749385797 ,and the loss is 83329.16892201576\n",
      "When time is : 114 ,get best_k :-20.51830793577259 best_b:-134.22533749385798 ,and the loss is 82105.05590867749\n",
      "When time is : 115 ,get best_k :-20.11830793577259 best_b:-134.62533749385798 ,and the loss is 80890.03731320263\n",
      "When time is : 116 ,get best_k :-19.718307935772593 best_b:-135.025337493858 ,and the loss is 79684.11313559163\n",
      "When time is : 117 ,get best_k :-19.318307935772594 best_b:-135.425337493858 ,and the loss is 78487.28337584433\n",
      "When time is : 118 ,get best_k :-18.918307935772596 best_b:-135.825337493858 ,and the loss is 77299.5480339609\n",
      "When time is : 119 ,get best_k :-18.518307935772597 best_b:-136.225337493858 ,and the loss is 76120.907109941\n",
      "When time is : 120 ,get best_k :-18.1183079357726 best_b:-136.625337493858 ,and the loss is 74951.36060378494\n",
      "When time is : 121 ,get best_k :-17.7183079357726 best_b:-137.02533749385802 ,and the loss is 73790.90851549251\n",
      "When time is : 122 ,get best_k :-17.3183079357726 best_b:-137.42533749385802 ,and the loss is 72639.55084506382\n",
      "When time is : 123 ,get best_k :-16.918307935772603 best_b:-137.82533749385803 ,and the loss is 71497.28759249889\n",
      "When time is : 124 ,get best_k :-16.518307935772604 best_b:-138.22533749385804 ,and the loss is 70364.11875779758\n",
      "When time is : 125 ,get best_k :-16.118307935772606 best_b:-138.62533749385804 ,and the loss is 69240.04434096003\n",
      "When time is : 126 ,get best_k :-15.718307935772605 best_b:-139.02533749385805 ,and the loss is 68125.06434198623\n",
      "When time is : 127 ,get best_k :-15.318307935772605 best_b:-139.42533749385805 ,and the loss is 67019.17876087606\n",
      "When time is : 128 ,get best_k :-14.918307935772605 best_b:-139.82533749385806 ,and the loss is 65922.38759762967\n",
      "When time is : 129 ,get best_k :-14.518307935772604 best_b:-140.22533749385806 ,and the loss is 64834.690852247\n",
      "When time is : 130 ,get best_k :-14.118307935772604 best_b:-140.62533749385807 ,and the loss is 63756.08852472809\n",
      "When time is : 131 ,get best_k :-13.718307935772604 best_b:-141.02533749385807 ,and the loss is 62686.58061507283\n",
      "When time is : 132 ,get best_k :-13.318307935772603 best_b:-141.42533749385808 ,and the loss is 61626.167123281266\n",
      "When time is : 133 ,get best_k :-12.918307935772603 best_b:-141.8253374938581 ,and the loss is 60574.84804935347\n",
      "When time is : 134 ,get best_k :-12.518307935772603 best_b:-142.2253374938581 ,and the loss is 59532.623393289345\n",
      "When time is : 135 ,get best_k :-12.118307935772602 best_b:-142.6253374938581 ,and the loss is 58499.49315508901\n",
      "When time is : 136 ,get best_k :-11.718307935772602 best_b:-143.0253374938581 ,and the loss is 57475.45733475228\n",
      "When time is : 137 ,get best_k :-11.318307935772602 best_b:-143.4253374938581 ,and the loss is 56460.51593227937\n",
      "When time is : 138 ,get best_k :-10.918307935772601 best_b:-143.82533749385811 ,and the loss is 55454.66894767004\n",
      "When time is : 139 ,get best_k :-10.5183079357726 best_b:-144.22533749385812 ,and the loss is 54457.91638092458\n",
      "When time is : 140 ,get best_k :-10.1183079357726 best_b:-144.62533749385813 ,and the loss is 53470.258232042725\n",
      "When time is : 141 ,get best_k :-9.7183079357726 best_b:-145.02533749385813 ,and the loss is 52491.69450102451\n",
      "When time is : 142 ,get best_k :-9.3183079357726 best_b:-145.42533749385814 ,and the loss is 51522.22518787021\n",
      "When time is : 143 ,get best_k :-8.9183079357726 best_b:-145.82533749385814 ,and the loss is 50561.85029257965\n",
      "When time is : 144 ,get best_k :-8.518307935772599 best_b:-146.22533749385815 ,and the loss is 49610.569815152696\n",
      "When time is : 145 ,get best_k :-8.118307935772599 best_b:-146.62533749385815 ,and the loss is 48668.383755589326\n",
      "When time is : 146 ,get best_k :-7.718307935772598 best_b:-147.02533749385816 ,and the loss is 47735.292113889875\n",
      "When time is : 147 ,get best_k :-7.318307935772598 best_b:-147.42533749385817 ,and the loss is 46811.29489005405\n",
      "When time is : 148 ,get best_k :-6.918307935772598 best_b:-147.82533749385817 ,and the loss is 45896.39208408196\n",
      "When time is : 149 ,get best_k :-6.518307935772597 best_b:-148.22533749385818 ,and the loss is 44990.58369597358\n",
      "When time is : 150 ,get best_k :-6.118307935772597 best_b:-148.62533749385818 ,and the loss is 44093.86972572896\n",
      "When time is : 151 ,get best_k :-5.7183079357725966 best_b:-149.0253374938582 ,and the loss is 43206.25017334802\n",
      "When time is : 152 ,get best_k :-5.318307935772596 best_b:-149.4253374938582 ,and the loss is 42327.72503883079\n",
      "When time is : 153 ,get best_k :-4.918307935772596 best_b:-149.8253374938582 ,and the loss is 41458.29432217724\n",
      "When time is : 154 ,get best_k :-4.5183079357725955 best_b:-150.2253374938582 ,and the loss is 40597.958023387444\n",
      "When time is : 155 ,get best_k :-4.118307935772595 best_b:-150.6253374938582 ,and the loss is 39746.716142461315\n",
      "When time is : 156 ,get best_k :-3.718307935772595 best_b:-151.02533749385822 ,and the loss is 38904.56867939898\n",
      "When time is : 157 ,get best_k :-3.3183079357725953 best_b:-151.42533749385822 ,and the loss is 38071.515634200325\n",
      "When time is : 158 ,get best_k :-2.9183079357725954 best_b:-151.82533749385823 ,and the loss is 37247.557006865376\n",
      "When time is : 159 ,get best_k :-2.5183079357725955 best_b:-152.22533749385823 ,and the loss is 36432.69279739417\n",
      "When time is : 160 ,get best_k :-2.1183079357725956 best_b:-152.62533749385824 ,and the loss is 35626.92300578669\n",
      "When time is : 161 ,get best_k :-1.7183079357725957 best_b:-153.02533749385825 ,and the loss is 34830.247632042876\n",
      "When time is : 162 ,get best_k :-1.3183079357725958 best_b:-153.42533749385825 ,and the loss is 34042.66667616279\n",
      "When time is : 163 ,get best_k :-0.9183079357725957 best_b:-153.82533749385826 ,and the loss is 33264.180138146425\n",
      "When time is : 164 ,get best_k :-0.5183079357725957 best_b:-154.22533749385826 ,and the loss is 32494.788017993775\n",
      "When time is : 165 ,get best_k :-0.11830793577259568 best_b:-154.62533749385827 ,and the loss is 31734.49031570487\n",
      "When time is : 166 ,get best_k :0.28169206422740434 best_b:-155.02533749385827 ,and the loss is 30983.287031279622\n",
      "When time is : 167 ,get best_k :0.6816920642274044 best_b:-155.42533749385828 ,and the loss is 30241.178164718163\n",
      "When time is : 168 ,get best_k :1.0816920642274044 best_b:-155.82533749385829 ,and the loss is 29508.163716020346\n",
      "When time is : 169 ,get best_k :1.4816920642274045 best_b:-156.2253374938583 ,and the loss is 28784.243685186273\n",
      "When time is : 170 ,get best_k :1.8816920642274044 best_b:-156.6253374938583 ,and the loss is 28069.418072215914\n",
      "When time is : 171 ,get best_k :2.2816920642274043 best_b:-157.0253374938583 ,and the loss is 27363.686877109285\n",
      "When time is : 172 ,get best_k :2.6816920642274042 best_b:-157.4253374938583 ,and the loss is 26667.050099866367\n",
      "When time is : 173 ,get best_k :3.081692064227404 best_b:-157.8253374938583 ,and the loss is 25979.507740487177\n",
      "When time is : 174 ,get best_k :3.481692064227404 best_b:-158.22533749385832 ,and the loss is 25301.059798971713\n",
      "When time is : 175 ,get best_k :3.881692064227404 best_b:-158.62533749385832 ,and the loss is 24631.706275319902\n",
      "When time is : 176 ,get best_k :4.281692064227404 best_b:-159.02533749385833 ,and the loss is 23971.447169531868\n",
      "When time is : 177 ,get best_k :4.681692064227405 best_b:-159.42533749385834 ,and the loss is 23320.28248160748\n",
      "When time is : 178 ,get best_k :5.081692064227405 best_b:-159.82533749385834 ,and the loss is 22678.212211546866\n",
      "When time is : 179 ,get best_k :5.481692064227405 best_b:-160.22533749385835 ,and the loss is 22045.236359349947\n",
      "When time is : 180 ,get best_k :5.881692064227406 best_b:-160.62533749385835 ,and the loss is 21421.354925016767\n",
      "When time is : 181 ,get best_k :6.281692064227406 best_b:-161.02533749385836 ,and the loss is 20806.567908547247\n",
      "When time is : 182 ,get best_k :6.6816920642274065 best_b:-161.42533749385836 ,and the loss is 20200.875309941493\n",
      "When time is : 183 ,get best_k :7.081692064227407 best_b:-161.82533749385837 ,and the loss is 19604.27712919944\n",
      "When time is : 184 ,get best_k :7.481692064227407 best_b:-162.22533749385838 ,and the loss is 19016.773366321126\n",
      "When time is : 185 ,get best_k :7.8816920642274075 best_b:-162.62533749385838 ,and the loss is 18438.3640213065\n",
      "When time is : 186 ,get best_k :8.281692064227407 best_b:-163.0253374938584 ,and the loss is 17869.049094155584\n",
      "When time is : 187 ,get best_k :8.681692064227407 best_b:-163.4253374938584 ,and the loss is 17308.828584868384\n",
      "When time is : 188 ,get best_k :9.081692064227408 best_b:-163.8253374938584 ,and the loss is 16757.702493444915\n",
      "When time is : 189 ,get best_k :9.481692064227408 best_b:-164.2253374938584 ,and the loss is 16215.670819885152\n",
      "When time is : 190 ,get best_k :9.881692064227408 best_b:-164.6253374938584 ,and the loss is 15682.733564189097\n",
      "When time is : 191 ,get best_k :10.281692064227409 best_b:-165.02533749385842 ,and the loss is 15158.89072635676\n",
      "When time is : 192 ,get best_k :10.68169206422741 best_b:-165.42533749385842 ,and the loss is 14644.142306388163\n",
      "When time is : 193 ,get best_k :11.08169206422741 best_b:-165.82533749385843 ,and the loss is 14138.488304283243\n",
      "When time is : 194 ,get best_k :11.48169206422741 best_b:-166.22533749385843 ,and the loss is 13641.928720042064\n",
      "When time is : 195 ,get best_k :11.88169206422741 best_b:-166.62533749385844 ,and the loss is 13154.463553664602\n",
      "When time is : 196 ,get best_k :12.28169206422741 best_b:-167.02533749385844 ,and the loss is 12676.09280515085\n",
      "When time is : 197 ,get best_k :12.681692064227411 best_b:-167.42533749385845 ,and the loss is 12206.816474500809\n",
      "When time is : 198 ,get best_k :13.081692064227411 best_b:-167.82533749385846 ,and the loss is 11746.63456171448\n",
      "When time is : 199 ,get best_k :13.481692064227412 best_b:-168.22533749385846 ,and the loss is 11295.547066791885\n",
      "When time is : 200 ,get best_k :13.881692064227412 best_b:-168.62533749385847 ,and the loss is 10853.553989732976\n",
      "When time is : 201 ,get best_k :14.281692064227412 best_b:-169.02533749385847 ,and the loss is 10420.655330537818\n",
      "When time is : 202 ,get best_k :14.681692064227413 best_b:-169.42533749385848 ,and the loss is 9996.85108920635\n",
      "When time is : 203 ,get best_k :15.081692064227413 best_b:-169.82533749385848 ,and the loss is 9582.141265738599\n",
      "When time is : 204 ,get best_k :15.481692064227413 best_b:-170.2253374938585 ,and the loss is 9176.525860134576\n",
      "When time is : 205 ,get best_k :15.881692064227414 best_b:-170.6253374938585 ,and the loss is 8780.004872394253\n",
      "When time is : 206 ,get best_k :16.281692064227414 best_b:-171.0253374938585 ,and the loss is 8392.578302517653\n",
      "When time is : 207 ,get best_k :16.681692064227413 best_b:-171.4253374938585 ,and the loss is 8014.246150504773\n",
      "When time is : 208 ,get best_k :17.08169206422741 best_b:-171.8253374938585 ,and the loss is 7645.008416355608\n",
      "When time is : 209 ,get best_k :17.48169206422741 best_b:-172.22533749385852 ,and the loss is 7284.865100070151\n",
      "When time is : 210 ,get best_k :17.88169206422741 best_b:-172.62533749385852 ,and the loss is 6933.816201648413\n",
      "When time is : 211 ,get best_k :18.281692064227407 best_b:-173.02533749385853 ,and the loss is 6591.861721090399\n",
      "When time is : 212 ,get best_k :18.681692064227406 best_b:-173.42533749385854 ,and the loss is 6259.00165839609\n",
      "When time is : 213 ,get best_k :19.081692064227404 best_b:-173.82533749385854 ,and the loss is 5935.236013565495\n",
      "When time is : 214 ,get best_k :19.481692064227403 best_b:-174.22533749385855 ,and the loss is 5620.564786598621\n",
      "When time is : 215 ,get best_k :19.8816920642274 best_b:-174.62533749385855 ,and the loss is 5314.98797749546\n",
      "When time is : 216 ,get best_k :20.2816920642274 best_b:-175.02533749385856 ,and the loss is 5018.5055862560175\n",
      "When time is : 217 ,get best_k :20.6816920642274 best_b:-175.42533749385856 ,and the loss is 4731.117612880284\n",
      "When time is : 218 ,get best_k :21.081692064227397 best_b:-175.82533749385857 ,and the loss is 4452.824057368274\n",
      "When time is : 219 ,get best_k :21.481692064227396 best_b:-176.22533749385858 ,and the loss is 4183.624919719978\n",
      "When time is : 220 ,get best_k :21.881692064227394 best_b:-176.62533749385858 ,and the loss is 3923.5201999353844\n",
      "When time is : 221 ,get best_k :22.281692064227393 best_b:-177.0253374938586 ,and the loss is 3672.5098980145212\n",
      "When time is : 222 ,get best_k :22.68169206422739 best_b:-177.4253374938586 ,and the loss is 3430.594013957362\n",
      "When time is : 223 ,get best_k :23.08169206422739 best_b:-177.8253374938586 ,and the loss is 3197.7725477639287\n",
      "When time is : 224 ,get best_k :23.48169206422739 best_b:-178.2253374938586 ,and the loss is 2974.0454994342062\n",
      "When time is : 225 ,get best_k :23.881692064227387 best_b:-178.6253374938586 ,and the loss is 2759.412868968198\n",
      "When time is : 226 ,get best_k :24.281692064227386 best_b:-179.02533749385861 ,and the loss is 2553.8746563659065\n",
      "When time is : 227 ,get best_k :24.681692064227384 best_b:-179.42533749385862 ,and the loss is 2357.4308616273274\n",
      "When time is : 228 ,get best_k :25.081692064227383 best_b:-179.82533749385863 ,and the loss is 2170.081484752467\n",
      "When time is : 229 ,get best_k :25.48169206422738 best_b:-180.22533749385863 ,and the loss is 1991.826525741322\n",
      "When time is : 230 ,get best_k :25.88169206422738 best_b:-180.62533749385864 ,and the loss is 1822.6659845938889\n",
      "When time is : 231 ,get best_k :26.28169206422738 best_b:-181.02533749385864 ,and the loss is 1662.599861310176\n",
      "When time is : 232 ,get best_k :26.681692064227377 best_b:-181.42533749385865 ,and the loss is 1511.6281558901746\n",
      "When time is : 233 ,get best_k :27.081692064227376 best_b:-181.82533749385865 ,and the loss is 1369.7508683338888\n",
      "When time is : 234 ,get best_k :27.481692064227374 best_b:-182.22533749385866 ,and the loss is 1236.9679986413205\n",
      "When time is : 235 ,get best_k :27.881692064227373 best_b:-182.62533749385867 ,and the loss is 1113.2795468124646\n",
      "When time is : 236 ,get best_k :28.28169206422737 best_b:-183.02533749385867 ,and the loss is 998.6855128473256\n",
      "When time is : 237 ,get best_k :28.68169206422737 best_b:-183.42533749385868 ,and the loss is 893.185896745901\n",
      "When time is : 238 ,get best_k :29.08169206422737 best_b:-183.82533749385868 ,and the loss is 796.7806985081919\n",
      "When time is : 239 ,get best_k :29.481692064227367 best_b:-184.2253374938587 ,and the loss is 709.4699181341998\n",
      "When time is : 240 ,get best_k :29.881692064227366 best_b:-184.6253374938587 ,and the loss is 631.253555623921\n",
      "When time is : 241 ,get best_k :30.281692064227364 best_b:-185.0253374938587 ,and the loss is 562.1316109773588\n",
      "When time is : 242 ,get best_k :30.681692064227363 best_b:-185.4253374938587 ,and the loss is 502.10408419451124\n",
      "When time is : 243 ,get best_k :31.08169206422736 best_b:-185.8253374938587 ,and the loss is 451.17097527537845\n",
      "When time is : 244 ,get best_k :31.48169206422736 best_b:-186.22533749385872 ,and the loss is 409.332284219962\n",
      "When time is : 245 ,get best_k :31.88169206422736 best_b:-186.62533749385872 ,and the loss is 376.5880110282603\n",
      "When time is : 246 ,get best_k :32.28169206422736 best_b:-187.02533749385873 ,and the loss is 352.9381557002738\n",
      "When time is : 247 ,get best_k :32.681692064227356 best_b:-187.42533749385873 ,and the loss is 338.3827182360028\n",
      "When time is : 248 ,get best_k :33.081692064227354 best_b:-187.82533749385874 ,and the loss is 332.92169863544734\n"
     ]
    },
    {
     "data": {
      "text/plain": [
       "<matplotlib.collections.PathCollection at 0x1a211954e0>"
      ]
     },
     "execution_count": 130,
     "metadata": {},
     "output_type": "execute_result"
    },
    {
     "data": {
      "image/png": "[encoded data removed]",
      "text/plain": [
       "<Figure size 432x288 with 1 Axes>"
      ]
     },
     "metadata": {
      "needs_background": "light"
     },
     "output_type": "display_data"
    }
   ],
   "source": [
    "X_rm = X[:,5]\n",
    "trying_times = 2000\n",
    "min_loss = float('inf')\n",
    "\n",
    "best_price_by_random_k_and_b = None\n",
    "best_k = random.random()*200-100#random.randint(0,1) #\n",
    "best_b = random.random()*200-100#random.randint(0,1) #r\n",
    "\n",
    "direction = [\n",
    "        (+1,-1),#k,b\n",
    "        (+1,+1),\n",
    "        (-1,-1),\n",
    "        (-1,+1)\n",
    "    ]\n",
    "next_direction = random.choice(direction)\n",
    "scalar = 0.1 # 0.4  学习率 当变得约好的时候可以更大，当越小的时候可以越小\n",
    "for i in range(trying_times):\n",
    "    k_direction,b_direction = next_direction\n",
    "    current_k,current_b = best_k+k_direction*scalar,best_b+b_direction*scalar\n",
    "   \n",
    "    price_by_k_and_b = [price(r,current_k,current_b) for r in X_rm]\n",
    "    \n",
    "    current_loss = loss_2(y,price_by_k_and_b)# loss\n",
    "    if current_loss < min_loss:\n",
    "        min_loss = current_loss\n",
    "        best_k,best_b = current_k,current_b\n",
    "        best_price_by_random_k_and_b = price_by_k_and_b\n",
    "        next_direction =next_direction\n",
    "        print('When time is : {} ,get best_k :{} best_b:{} ,and the loss is {}'.format(i,best_k,best_b,min_loss))\n",
    "    else:\n",
    "        next_direction = random.choice(direction)\n",
    "    \n",
    "    #print(current_loss)\n",
    "    \n",
    "\n",
    "\n",
    "draw_rm_and_price()\n",
    "plt.scatter(X_rm,best_price_by_random_k_and_b)"
   ]
  },
  {
   "cell_type": "code",
   "execution_count": 93,
   "metadata": {},
   "outputs": [
    {
     "data": {
      "text/plain": [
       "array(['CRIM', 'ZN', 'INDUS', 'CHAS', 'NOX', 'RM', 'AGE', 'DIS', 'RAD',\n",
       "       'TAX', 'PTRATIO', 'B', 'LSTAT'], dtype='<U7')"
      ]
     },
     "execution_count": 93,
     "metadata": {},
     "output_type": "execute_result"
    }
   ],
   "source": [
    "data['feature_names']"
   ]
  },
  {
   "cell_type": "code",
   "execution_count": null,
   "metadata": {},
   "outputs": [],
   "source": []
  },
  {
   "cell_type": "code",
   "execution_count": 35,
   "metadata": {},
   "outputs": [
    {
     "data": {
      "text/plain": [
       "13"
      ]
     },
     "execution_count": 35,
     "metadata": {},
     "output_type": "execute_result"
    }
   ],
   "source": [
    "len(X[0])"
   ]
  },
  {
   "cell_type": "code",
   "execution_count": 36,
   "metadata": {},
   "outputs": [
    {
     "data": {
      "text/plain": [
       "5"
      ]
     },
     "execution_count": 36,
     "metadata": {},
     "output_type": "execute_result"
    }
   ],
   "source": [
    "len(data)"
   ]
  },
  {
   "cell_type": "code",
   "execution_count": 32,
   "metadata": {},
   "outputs": [
    {
     "data": {
      "text/plain": [
       "\".. _boston_dataset:\\n\\nBoston house prices dataset\\n---------------------------\\n\\n**Data Set Characteristics:**  \\n\\n    :Number of Instances: 506 \\n\\n    :Number of Attributes: 13 numeric/categorical predictive. Median Value (attribute 14) is usually the target.\\n\\n    :Attribute Information (in order):\\n        - CRIM     per capita crime rate by town\\n        - ZN       proportion of residential land zoned for lots over 25,000 sq.ft.\\n        - INDUS    proportion of non-retail business acres per town\\n        - CHAS     Charles River dummy variable (= 1 if tract bounds river; 0 otherwise)\\n        - NOX      nitric oxides concentration (parts per 10 million)\\n        - RM       average number of rooms per dwelling\\n        - AGE      proportion of owner-occupied units built prior to 1940\\n        - DIS      weighted distances to five Boston employment centres\\n        - RAD      index of accessibility to radial highways\\n        - TAX      full-value property-tax rate per $10,000\\n        - PTRATIO  pupil-teacher ratio by town\\n        - B        1000(Bk - 0.63)^2 where Bk is the proportion of blacks by town\\n        - LSTAT    % lower status of the population\\n        - MEDV     Median value of owner-occupied homes in $1000's\\n\\n    :Missing Attribute Values: None\\n\\n    :Creator: Harrison, D. and Rubinfeld, D.L.\\n\\nThis is a copy of UCI ML housing dataset.\\nhttps://archive.ics.uci.edu/ml/machine-learning-databases/housing/\\n\\n\\nThis dataset was taken from the StatLib library which is maintained at Carnegie Mellon University.\\n\\nThe Boston house-price data of Harrison, D. and Rubinfeld, D.L. 'Hedonic\\nprices and the demand for clean air', J. Environ. Economics & Management,\\nvol.5, 81-102, 1978.   Used in Belsley, Kuh & Welsch, 'Regression diagnostics\\n...', Wiley, 1980.   N.B. Various transformations are used in the table on\\npages 244-261 of the latter.\\n\\nThe Boston house-price data has been used in many machine learning papers that address regression\\nproblems.   \\n     \\n.. topic:: References\\n\\n   - Belsley, Kuh & Welsch, 'Regression diagnostics: Identifying Influential Data and Sources of Collinearity', Wiley, 1980. 244-261.\\n   - Quinlan,R. (1993). Combining Instance-Based and Model-Based Learning. In Proceedings on the Tenth International Conference of Machine Learning, 236-243, University of Massachusetts, Amherst. Morgan Kaufmann.\\n\""
      ]
     },
     "execution_count": 32,
     "metadata": {},
     "output_type": "execute_result"
    }
   ],
   "source": [
    "data['DESCR']"
   ]
  },
  {
   "cell_type": "code",
   "execution_count": null,
   "metadata": {},
   "outputs": [],
   "source": []
  }
 ],
 "metadata": {
  "kernelspec": {
   "display_name": "Python 3",
   "language": "python",
   "name": "python3"
  },
  "language_info": {
   "codemirror_mode": {
    "name": "ipython",
    "version": 3
   },
   "file_extension": ".py",
   "mimetype": "text/x-python",
   "name": "python",
   "nbconvert_exporter": "python",
   "pygments_lexer": "ipython3",
   "version": "3.7.1"
  }
 },
 "nbformat": 4,
 "nbformat_minor": 2
}
