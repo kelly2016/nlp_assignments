{
 "cells": [
  {
   "cell_type": "code",
   "execution_count": 1,
   "metadata": {},
   "outputs": [],
   "source": [
    "def hint(string): return print(''.join(map(chr, map(lambda x: int(x, 16), string.split('.')))))"
   ]
  },
  {
   "cell_type": "markdown",
   "metadata": {},
   "source": [
    "## Background Knowledge"
   ]
  },
  {
   "cell_type": "markdown",
   "metadata": {},
   "source": [
    "#### Q1. 简述自动摘要技术的三个应用场景？"
   ]
  },
  {
   "cell_type": "code",
   "execution_count": 5,
   "metadata": {},
   "outputs": [
    {
     "data": {
      "text/plain": [
       "'\\n1、主题提取\\n'"
      ]
     },
     "execution_count": 5,
     "metadata": {},
     "output_type": "execute_result"
    }
   ],
   "source": [
    "\"\"\"\n",
    "1、主题提取\n",
    "\"\"\""
   ]
  },
  {
   "cell_type": "markdown",
   "metadata": {},
   "source": [
    "#### Q2. 目前的摘要技术分为哪两类？ "
   ]
  },
  {
   "cell_type": "code",
   "execution_count": null,
   "metadata": {},
   "outputs": [],
   "source": [
    "\"\"\"\n",
    "1、abstractive  生成式摘要\n",
    "2、extractive   扩展式摘要\n",
    "\"\"\""
   ]
  },
  {
   "cell_type": "markdown",
   "metadata": {},
   "source": [
    "#### Q3. 目前实现自动摘要的难点在哪里？列出三点。"
   ]
  },
  {
   "cell_type": "code",
   "execution_count": 8,
   "metadata": {},
   "outputs": [
    {
     "data": {
      "text/plain": [
       "'\\n1、语句通顺,接近人对文本的理解比较困难\\n2、缺少标注好的数据\\n3、\\n'"
      ]
     },
     "execution_count": 8,
     "metadata": {},
     "output_type": "execute_result"
    }
   ],
   "source": [
    "\"\"\"\n",
    "1、语句通顺,接近人对文本的理解比较困难\n",
    "2、缺少标注好的数据\n",
    "3、\n",
    "\"\"\""
   ]
  },
  {
   "cell_type": "markdown",
   "metadata": {},
   "source": [
    "#### Q4. 什么是PageRank？ PageRank 用在什么地方？用 $Latex$ 写出其方程"
   ]
  },
  {
   "cell_type": "code",
   "execution_count": null,
   "metadata": {},
   "outputs": [],
   "source": [
    "\"\"\"\n",
    "1、PageRank是通过构建Page之间的引用关系图，将被引用次数多的页面，就是相对高质量的内容。\n",
    "2、PageRank直接的使用场景是对搜索引擎的搜索结果进行过滤\n",
    "\"\"\""
   ]
  },
  {
   "cell_type": "markdown",
   "metadata": {},
   "source": [
    "#### Q5. PageRank和TextRank的关系是什么，TextRank的背景原理是什么？"
   ]
  },
  {
   "cell_type": "code",
   "execution_count": 9,
   "metadata": {},
   "outputs": [
    {
     "data": {
      "text/plain": [
       "'\\n1、PageRank是通过引用关系来构造一个图，TextRank是构造类似的图，通过不同词之间的出现次数，来分析重要的词。\\n    - 如果一个单词出现在很多单词后面的话，那么说明这个单词比较重要\\n    - 一个TextRank值很高的单词后面跟着的一个单词，那么这个单词的TextRank值会相应地因此而提高\\n'"
      ]
     },
     "execution_count": 9,
     "metadata": {},
     "output_type": "execute_result"
    }
   ],
   "source": [
    "\"\"\"\n",
    "1、PageRank是通过引用关系来构造一个图，TextRank是构造类似的图，通过不同词之间的出现次数，来分析重要的词。\n",
    "    - 如果一个单词出现在很多单词后面的话，那么说明这个单词比较重要\n",
    "    - 一个TextRank值很高的单词后面跟着的一个单词，那么这个单词的TextRank值会相应地因此而提高\n",
    "\"\"\""
   ]
  },
  {
   "cell_type": "markdown",
   "metadata": {},
   "source": [
    "#### Q6. 在存在大量原始文本以及该文本对应的摘要内容时，我们是否可以使用 Seq2Seq 进行生成？ Sequence2Sequence的原理是什么？ Attention的机制原理是什么？"
   ]
  },
  {
   "cell_type": "code",
   "execution_count": 10,
   "metadata": {},
   "outputs": [],
   "source": [
    "# TODO, 这里还不太清楚"
   ]
  },
  {
   "cell_type": "code",
   "execution_count": null,
   "metadata": {},
   "outputs": [],
   "source": []
  },
  {
   "cell_type": "markdown",
   "metadata": {},
   "source": [
    "## 进行摘要提取的试验代码"
   ]
  },
  {
   "cell_type": "code",
   "execution_count": 2,
   "metadata": {},
   "outputs": [],
   "source": [
    "import pandas as pd\n",
    "import numpy as np\n",
    "import jieba\n",
    "import os\n",
    "\n",
    "def cut(string): return ' '.join(jieba.cut(string))\n",
    "path_root = '../data'\n",
    "news_file = os.path.join(path_root, 'sqlResult_1558435.csv') "
   ]
  },
  {
   "cell_type": "code",
   "execution_count": 3,
   "metadata": {},
   "outputs": [
    {
     "data": {
      "text/plain": [
       "'../data/sqlResult_1558435.csv'"
      ]
     },
     "execution_count": 3,
     "metadata": {},
     "output_type": "execute_result"
    }
   ],
   "source": [
    "news_file"
   ]
  },
  {
   "cell_type": "code",
   "execution_count": 4,
   "metadata": {
    "scrolled": true
   },
   "outputs": [],
   "source": [
    "news_content = pd.read_csv(news_file, encoding='gb18030')"
   ]
  },
  {
   "cell_type": "code",
   "execution_count": 5,
   "metadata": {},
   "outputs": [
    {
     "data": {
      "text/plain": [
       "0    此外，自本周（6月12日）起，除小米手机6等15款机型外，其余机型已暂停更新发布（含开发版/...\n",
       "1    骁龙835作为唯一通过Windows 10桌面平台认证的ARM处理器，高通强调，不会因为只考...\n",
       "2    此前的一加3T搭载的是3400mAh电池，DashCharge快充规格为5V/4A。\\r\\n...\n",
       "3      这是6月18日在葡萄牙中部大佩德罗冈地区拍摄的被森林大火烧毁的汽车。新华社记者张立云摄\\r\\n\n",
       "4    （原标题：44岁女子跑深圳约会网友被拒，暴雨中裸身奔走……）\\r\\n@深圳交警微博称：昨日清...\n",
       "Name: content, dtype: object"
      ]
     },
     "execution_count": 5,
     "metadata": {},
     "output_type": "execute_result"
    }
   ],
   "source": [
    "news_content.head()['content']"
   ]
  },
  {
   "cell_type": "code",
   "execution_count": 6,
   "metadata": {},
   "outputs": [],
   "source": [
    "pure_content = pd.DataFrame()"
   ]
  },
  {
   "cell_type": "code",
   "execution_count": 7,
   "metadata": {},
   "outputs": [],
   "source": [
    "pure_content['content'] = news_content['content']"
   ]
  },
  {
   "cell_type": "code",
   "execution_count": 8,
   "metadata": {},
   "outputs": [],
   "source": [
    "pure_content = pure_content.fillna('')"
   ]
  },
  {
   "cell_type": "code",
   "execution_count": 9,
   "metadata": {},
   "outputs": [],
   "source": [
    "# stop_words_filename = '/data/zz/nlp/data/stop_words.txt'\n",
    "# def load_stop_words():\n",
    "#     \"\"\"\n",
    "#     加载停用词\n",
    "#     :return:\n",
    "#     \"\"\"\n",
    "#     words = set()\n",
    "#     file = open(stop_words_filename, 'r', encoding=\"utf-8\")\n",
    "#     for word in file.readlines():\n",
    "#         words.add(word.strip())\n",
    "#     file.close()\n",
    "#     return words"
   ]
  },
  {
   "cell_type": "code",
   "execution_count": 10,
   "metadata": {},
   "outputs": [],
   "source": [
    "# from stanfordcorenlp import StanfordCoreNLP\n",
    "# zh_model = StanfordCoreNLP(r'../data/stanford-corenlp-full-2018-10-05', lang='zh')\n",
    "LTP_DATA_DIR = '/data/zz/nlp/data/ltp_data_v3.4.0/'  # ltp模型目录的路径\n",
    "from pyltp import Segmentor\n",
    "import os\n",
    "\n",
    "# 加载分词模型\n",
    "cws_model_path = os.path.join(LTP_DATA_DIR, 'cws.model') "
   ]
  },
  {
   "cell_type": "code",
   "execution_count": 11,
   "metadata": {},
   "outputs": [],
   "source": [
    "# STOP_WORDS = load_stop_words()"
   ]
  },
  {
   "cell_type": "code",
   "execution_count": 12,
   "metadata": {},
   "outputs": [],
   "source": [
    "# zh_sentence = '我爱自然语言处理技术！'\n",
    "# print ('Tokenize:', zh_model.word_tokenize(zh_sentence))\n",
    "segmentor = Segmentor()  # 初始化实例\n",
    "segmentor.load(cws_model_path)  # 加载模型\n",
    "# segmentor.release()  # 释放模型\n",
    "def cut(string): \n",
    "    words = segmentor.segment(string)  # 分词\n",
    "#     words_not_stop = [w for w in words if w not in STOP_WORDS]\n",
    "#     print('\\t'.join(words))\n",
    "#     return ' '.join(jieba.cut(string))\n",
    "    return ' '.join(words)\n",
    "#     return ' '.join(words_not_stop)"
   ]
  },
  {
   "cell_type": "code",
   "execution_count": 14,
   "metadata": {},
   "outputs": [],
   "source": [
    "# 对内容进行分词，并保存在 tokenized_content 列中，这里有点费时间，需要有心理预期\n",
    "pure_content['tokenized_content'] = pure_content['content'].apply(cut)"
   ]
  },
  {
   "cell_type": "code",
   "execution_count": 15,
   "metadata": {
    "scrolled": true
   },
   "outputs": [
    {
     "data": {
      "text/html": [
       "<div>\n",
       "<style scoped>\n",
       "    .dataframe tbody tr th:only-of-type {\n",
       "        vertical-align: middle;\n",
       "    }\n",
       "\n",
       "    .dataframe tbody tr th {\n",
       "        vertical-align: top;\n",
       "    }\n",
       "\n",
       "    .dataframe thead th {\n",
       "        text-align: right;\n",
       "    }\n",
       "</style>\n",
       "<table border=\"1\" class=\"dataframe\">\n",
       "  <thead>\n",
       "    <tr style=\"text-align: right;\">\n",
       "      <th></th>\n",
       "      <th>content</th>\n",
       "      <th>tokenized_content</th>\n",
       "    </tr>\n",
       "  </thead>\n",
       "  <tbody>\n",
       "    <tr>\n",
       "      <th>0</th>\n",
       "      <td>此外，自本周（6月12日）起，除小米手机6等15款机型外，其余机型已暂停更新发布（含开发版/...</td>\n",
       "      <td>此外 ， 自 本周 （ 6月 12日 ） 起 ， 除 小米 手机 6 等 15 款 机型 外...</td>\n",
       "    </tr>\n",
       "    <tr>\n",
       "      <th>1</th>\n",
       "      <td>骁龙835作为唯一通过Windows 10桌面平台认证的ARM处理器，高通强调，不会因为只考...</td>\n",
       "      <td>骁龙 835 作为 唯一 通过 Windows 10 桌面 平台 认证 的 ARM 处理器 ...</td>\n",
       "    </tr>\n",
       "    <tr>\n",
       "      <th>2</th>\n",
       "      <td>此前的一加3T搭载的是3400mAh电池，DashCharge快充规格为5V/4A。\\r\\n...</td>\n",
       "      <td>此前 的 一 加 3T 搭载 的 是 3400mAh 电池 ， DashCharge 快充 ...</td>\n",
       "    </tr>\n",
       "    <tr>\n",
       "      <th>3</th>\n",
       "      <td>这是6月18日在葡萄牙中部大佩德罗冈地区拍摄的被森林大火烧毁的汽车。新华社记者张立云摄\\r\\n</td>\n",
       "      <td>这 是 6月 18日 在 葡萄牙 中部 大佩德罗冈 地区 拍摄 的 被 森林 大火 烧毁 的...</td>\n",
       "    </tr>\n",
       "    <tr>\n",
       "      <th>4</th>\n",
       "      <td>（原标题：44岁女子跑深圳约会网友被拒，暴雨中裸身奔走……）\\r\\n@深圳交警微博称：昨日清...</td>\n",
       "      <td>（ 原 标题 ： 44 岁 女子 跑 深圳 约会 网友 被 拒 ， 暴雨 中 裸身 奔走 …...</td>\n",
       "    </tr>\n",
       "  </tbody>\n",
       "</table>\n",
       "</div>"
      ],
      "text/plain": [
       "                                             content  \\\n",
       "0  此外，自本周（6月12日）起，除小米手机6等15款机型外，其余机型已暂停更新发布（含开发版/...   \n",
       "1  骁龙835作为唯一通过Windows 10桌面平台认证的ARM处理器，高通强调，不会因为只考...   \n",
       "2  此前的一加3T搭载的是3400mAh电池，DashCharge快充规格为5V/4A。\\r\\n...   \n",
       "3    这是6月18日在葡萄牙中部大佩德罗冈地区拍摄的被森林大火烧毁的汽车。新华社记者张立云摄\\r\\n   \n",
       "4  （原标题：44岁女子跑深圳约会网友被拒，暴雨中裸身奔走……）\\r\\n@深圳交警微博称：昨日清...   \n",
       "\n",
       "                                   tokenized_content  \n",
       "0  此外 ， 自 本周 （ 6月 12日 ） 起 ， 除 小米 手机 6 等 15 款 机型 外...  \n",
       "1  骁龙 835 作为 唯一 通过 Windows 10 桌面 平台 认证 的 ARM 处理器 ...  \n",
       "2  此前 的 一 加 3T 搭载 的 是 3400mAh 电池 ， DashCharge 快充 ...  \n",
       "3  这 是 6月 18日 在 葡萄牙 中部 大佩德罗冈 地区 拍摄 的 被 森林 大火 烧毁 的...  \n",
       "4  （ 原 标题 ： 44 岁 女子 跑 深圳 约会 网友 被 拒 ， 暴雨 中 裸身 奔走 …...  "
      ]
     },
     "execution_count": 15,
     "metadata": {},
     "output_type": "execute_result"
    }
   ],
   "source": [
    "pure_content.head()"
   ]
  },
  {
   "cell_type": "code",
   "execution_count": 16,
   "metadata": {},
   "outputs": [],
   "source": [
    "from gensim.models import FastText"
   ]
  },
  {
   "cell_type": "code",
   "execution_count": 17,
   "metadata": {},
   "outputs": [],
   "source": [
    "with open('all_corpus.txt', 'w', encoding='utf-8') as f:\n",
    "    f.write(' '.join(pure_content['tokenized_content'].tolist()))"
   ]
  },
  {
   "cell_type": "code",
   "execution_count": 18,
   "metadata": {},
   "outputs": [],
   "source": [
    "from gensim.models.word2vec import LineSentence\n",
    "import os "
   ]
  },
  {
   "cell_type": "code",
   "execution_count": 19,
   "metadata": {},
   "outputs": [],
   "source": [
    "model_file = './res/fastText.model'\n",
    "if os.path.exists(model_file):\n",
    "    model = FastText.load(model_file)\n",
    "else:\n",
    "    model = FastText(LineSentence('all_corpus.txt'), window=5, size=35, iter=10, min_count=2)\n",
    "    model.save('./res/fastText.model')    "
   ]
  },
  {
   "cell_type": "code",
   "execution_count": 20,
   "metadata": {},
   "outputs": [],
   "source": [
    "from functools import reduce"
   ]
  },
  {
   "cell_type": "code",
   "execution_count": 21,
   "metadata": {},
   "outputs": [
    {
     "data": {
      "text/plain": [
       "['此外',\n",
       " '，',\n",
       " '自',\n",
       " '本周',\n",
       " '（',\n",
       " '6月',\n",
       " '12日',\n",
       " '）',\n",
       " '起',\n",
       " '，',\n",
       " '除',\n",
       " '小米',\n",
       " '手机',\n",
       " '6',\n",
       " '等',\n",
       " '15',\n",
       " '款',\n",
       " '机型',\n",
       " '外',\n",
       " '，',\n",
       " '其余',\n",
       " '机型',\n",
       " '已',\n",
       " '暂停',\n",
       " '更新',\n",
       " '发布',\n",
       " '（',\n",
       " '含',\n",
       " '开发版',\n",
       " '/',\n",
       " '体验版',\n",
       " '内测',\n",
       " '，',\n",
       " '稳定',\n",
       " '版',\n",
       " '暂',\n",
       " '不',\n",
       " '受',\n",
       " '影响',\n",
       " '）',\n",
       " '，',\n",
       " '以',\n",
       " '确保',\n",
       " '工程师',\n",
       " '可以',\n",
       " '集中',\n",
       " '全部',\n",
       " '精力',\n",
       " '进行',\n",
       " '系统',\n",
       " '优化',\n",
       " '工作',\n",
       " '。',\n",
       " '有人',\n",
       " '猜测',\n",
       " '这',\n",
       " '也',\n",
       " '是',\n",
       " '将',\n",
       " '精力',\n",
       " '主要',\n",
       " '用',\n",
       " '到',\n",
       " 'MIUI',\n",
       " '9',\n",
       " '的',\n",
       " '研发',\n",
       " '之中',\n",
       " '。',\n",
       " 'MIUI',\n",
       " '8',\n",
       " '去年',\n",
       " '5月',\n",
       " '发布',\n",
       " '，',\n",
       " '距',\n",
       " '今',\n",
       " '已',\n",
       " '有',\n",
       " '一',\n",
       " '年',\n",
       " '有余',\n",
       " '，',\n",
       " '也',\n",
       " '是',\n",
       " '时候',\n",
       " '更新换代',\n",
       " '了',\n",
       " '。',\n",
       " '当然',\n",
       " '，',\n",
       " '关于',\n",
       " 'MIUI',\n",
       " '9',\n",
       " '的',\n",
       " '确切',\n",
       " '信息',\n",
       " '，',\n",
       " '我们',\n",
       " '还是',\n",
       " '等待',\n",
       " '官方',\n",
       " '消息',\n",
       " '。骁龙',\n",
       " '835',\n",
       " '作为',\n",
       " '唯一',\n",
       " '通过',\n",
       " 'Windows',\n",
       " '10',\n",
       " '桌面',\n",
       " '平台',\n",
       " '认证',\n",
       " '的',\n",
       " 'ARM',\n",
       " '处理器',\n",
       " '，',\n",
       " '高通',\n",
       " '强调',\n",
       " '，',\n",
       " '不',\n",
       " '会',\n",
       " '因为',\n",
       " '只',\n",
       " '考虑',\n",
       " '性能',\n",
       " '而',\n",
       " '去',\n",
       " '屏蔽',\n",
       " '掉',\n",
       " '小',\n",
       " '核心',\n",
       " '。',\n",
       " '相反',\n",
       " '，',\n",
       " '他们',\n",
       " '正',\n",
       " '联手',\n",
       " '微软',\n",
       " '，',\n",
       " '找到',\n",
       " '一',\n",
       " '种',\n",
       " '适合',\n",
       " '桌面',\n",
       " '平台',\n",
       " '的',\n",
       " '、',\n",
       " '兼顾',\n",
       " '性能',\n",
       " '和',\n",
       " '功耗',\n",
       " '的',\n",
       " '完美',\n",
       " '方案',\n",
       " '。',\n",
       " '报道',\n",
       " '称',\n",
       " '，',\n",
       " '微软',\n",
       " '已经',\n",
       " '拿',\n",
       " '到',\n",
       " '了',\n",
       " '一些',\n",
       " '新',\n",
       " '的',\n",
       " '源码',\n",
       " '，',\n",
       " '以便',\n",
       " 'Windows',\n",
       " '10',\n",
       " '更',\n",
       " '好',\n",
       " '地',\n",
       " '理解',\n",
       " 'big.little',\n",
       " '架构',\n",
       " '。',\n",
       " '资料',\n",
       " '显示',\n",
       " '，',\n",
       " '骁龙',\n",
       " '835',\n",
       " '作为',\n",
       " '一',\n",
       " '款',\n",
       " '集成',\n",
       " '了',\n",
       " 'CPU',\n",
       " '、',\n",
       " 'GPU',\n",
       " '、',\n",
       " '基带',\n",
       " '、',\n",
       " '蓝牙/',\n",
       " 'Wi-Fi',\n",
       " '的',\n",
       " 'SoC',\n",
       " '，',\n",
       " '比',\n",
       " '传统',\n",
       " '的',\n",
       " 'Wintel',\n",
       " '方案',\n",
       " '可以',\n",
       " '节省',\n",
       " '至少',\n",
       " '30%',\n",
       " '的',\n",
       " 'PCB',\n",
       " '空间',\n",
       " '。',\n",
       " '按',\n",
       " '计划',\n",
       " '，',\n",
       " '今年',\n",
       " 'Q4',\n",
       " '，',\n",
       " '华硕',\n",
       " '、',\n",
       " '惠普',\n",
       " '、',\n",
       " '联想',\n",
       " '将',\n",
       " '首发',\n",
       " '骁龙',\n",
       " '835',\n",
       " 'Win10',\n",
       " '电脑',\n",
       " '，',\n",
       " '预计',\n",
       " '均',\n",
       " '是',\n",
       " '二',\n",
       " '合',\n",
       " '一',\n",
       " '形态',\n",
       " '的',\n",
       " '产品',\n",
       " '。',\n",
       " '当然',\n",
       " '，',\n",
       " '高通',\n",
       " '骁龙',\n",
       " '只',\n",
       " '是',\n",
       " '个',\n",
       " '开始',\n",
       " '，',\n",
       " '未来',\n",
       " '也许',\n",
       " '还',\n",
       " '能',\n",
       " '见到',\n",
       " '三星',\n",
       " 'Exynos',\n",
       " '、',\n",
       " '联发科',\n",
       " '、',\n",
       " '华为',\n",
       " '麒麟',\n",
       " '、',\n",
       " '小米',\n",
       " '澎湃',\n",
       " '等',\n",
       " '进入',\n",
       " 'Windows',\n",
       " '10',\n",
       " '桌面',\n",
       " '平台',\n",
       " '。此前',\n",
       " '的',\n",
       " '一',\n",
       " '加',\n",
       " '3T',\n",
       " '搭载',\n",
       " '的',\n",
       " '是',\n",
       " '3400mAh',\n",
       " '电池',\n",
       " '，',\n",
       " 'DashCharge',\n",
       " '快充',\n",
       " '规格',\n",
       " '为',\n",
       " '5V',\n",
       " '/',\n",
       " '4A',\n",
       " '。',\n",
       " '至于',\n",
       " '电池',\n",
       " '缩水',\n",
       " '，',\n",
       " '可能',\n",
       " '与',\n",
       " '刘作虎',\n",
       " '所',\n",
       " '说',\n",
       " '，',\n",
       " '一',\n",
       " '加',\n",
       " '手机',\n",
       " '5',\n",
       " '要',\n",
       " '做',\n",
       " '市面',\n",
       " '最',\n",
       " '轻薄',\n",
       " '大屏',\n",
       " '旗舰',\n",
       " '的',\n",
       " '设定',\n",
       " '有关',\n",
       " '。',\n",
       " '按照',\n",
       " '目前',\n",
       " '掌握',\n",
       " '的',\n",
       " '资料',\n",
       " '，',\n",
       " '一',\n",
       " '加',\n",
       " '手机',\n",
       " '5',\n",
       " '拥有',\n",
       " '5.5',\n",
       " '寸',\n",
       " '1080P',\n",
       " '三星',\n",
       " 'AMOLED',\n",
       " '显示屏',\n",
       " '、',\n",
       " '6G',\n",
       " '/',\n",
       " '8GB',\n",
       " 'RAM',\n",
       " '，',\n",
       " '64GB',\n",
       " '/',\n",
       " '128GB',\n",
       " 'ROM',\n",
       " '，',\n",
       " '双',\n",
       " '1600万',\n",
       " '摄像头',\n",
       " '，',\n",
       " '备货量',\n",
       " '“',\n",
       " '惊喜',\n",
       " '”',\n",
       " '。',\n",
       " '根据',\n",
       " '京东',\n",
       " '泄露',\n",
       " '的',\n",
       " '信息',\n",
       " '，',\n",
       " '一',\n",
       " '加',\n",
       " '5',\n",
       " '起',\n",
       " '售价',\n",
       " '是',\n",
       " 'xx99',\n",
       " '元',\n",
       " '，',\n",
       " '应该',\n",
       " '是',\n",
       " '在',\n",
       " '2799/2899/2999',\n",
       " '中',\n",
       " '的',\n",
       " '某个',\n",
       " '。这',\n",
       " '是',\n",
       " '6月',\n",
       " '18日',\n",
       " '在',\n",
       " '葡萄牙',\n",
       " '中部',\n",
       " '大佩德罗冈',\n",
       " '地区',\n",
       " '拍摄',\n",
       " '的',\n",
       " '被',\n",
       " '森林',\n",
       " '大火',\n",
       " '烧毁',\n",
       " '的',\n",
       " '汽车',\n",
       " '。',\n",
       " '新华社',\n",
       " '记者',\n",
       " '张立云',\n",
       " '摄（',\n",
       " '原',\n",
       " '标题',\n",
       " '：',\n",
       " '44',\n",
       " '岁',\n",
       " '女子',\n",
       " '跑',\n",
       " '深圳',\n",
       " '约会',\n",
       " '网友',\n",
       " '被',\n",
       " '拒',\n",
       " '，',\n",
       " '暴雨',\n",
       " '中',\n",
       " '裸身',\n",
       " '奔走',\n",
       " '……',\n",
       " '）',\n",
       " '@深圳交警',\n",
       " '微博',\n",
       " '称',\n",
       " '：',\n",
       " '昨日',\n",
       " '清晨',\n",
       " '交警',\n",
       " '发现',\n",
       " '有',\n",
       " '一',\n",
       " '女子',\n",
       " '赤裸',\n",
       " '上身',\n",
       " '，',\n",
       " '行走',\n",
       " '在',\n",
       " '南坪',\n",
       " '快速',\n",
       " '上',\n",
       " '，',\n",
       " '期间',\n",
       " '还',\n",
       " '起',\n",
       " '了',\n",
       " '轻生',\n",
       " '年头',\n",
       " '，',\n",
       " '一',\n",
       " '辅警',\n",
       " '发现',\n",
       " '后',\n",
       " '赶紧',\n",
       " '为',\n",
       " '其',\n",
       " '披',\n",
       " '上',\n",
       " '黄衣',\n",
       " '，',\n",
       " '并',\n",
       " '一路',\n",
       " '劝说',\n",
       " '她',\n",
       " '。',\n",
       " '那么',\n",
       " '事发',\n",
       " '时',\n",
       " '到底',\n",
       " '都',\n",
       " '发生',\n",
       " '了',\n",
       " '些',\n",
       " '什么',\n",
       " '呢',\n",
       " '？',\n",
       " '南都',\n",
       " '记者',\n",
       " '带',\n",
       " '您',\n",
       " '一起',\n",
       " '还原',\n",
       " '现场',\n",
       " '南都',\n",
       " '记者',\n",
       " '在',\n",
       " '龙岗',\n",
       " '大队',\n",
       " '坂田',\n",
       " '中队',\n",
       " '见到',\n",
       " '了',\n",
       " '辅警',\n",
       " '刘青',\n",
       " '（',\n",
       " '发现',\n",
       " '女生',\n",
       " '的',\n",
       " '辅警',\n",
       " '）',\n",
       " '，',\n",
       " '一',\n",
       " '位',\n",
       " '外表',\n",
       " '高大',\n",
       " '帅气',\n",
       " '，',\n",
       " '说话',\n",
       " '略带',\n",
       " '些',\n",
       " '腼腆',\n",
       " '的',\n",
       " '90后',\n",
       " '青年',\n",
       " '。',\n",
       " '刘青',\n",
       " '介绍',\n",
       " '，',\n",
       " '6月',\n",
       " '16日',\n",
       " '早上',\n",
       " '7时',\n",
       " '36分',\n",
       " '，',\n",
       " '他',\n",
       " '正在',\n",
       " '环城南路',\n",
       " '附近',\n",
       " '值勤',\n",
       " '，',\n",
       " '接到',\n",
       " '中队',\n",
       " '关于',\n",
       " '一',\n",
       " '位',\n",
       " '女子',\n",
       " '裸身',\n",
       " '进入',\n",
       " '机动车',\n",
       " '可能',\n",
       " '有',\n",
       " '危险',\n",
       " '的',\n",
       " '警情',\n",
       " '，',\n",
       " '随后',\n",
       " '骑',\n",
       " '着',\n",
       " '小',\n",
       " '铁骑',\n",
       " '开始',\n",
       " '沿',\n",
       " '路',\n",
       " '寻找',\n",
       " '，',\n",
       " '大概',\n",
       " '花',\n",
       " '了',\n",
       " '十',\n",
       " '多',\n",
       " '分钟',\n",
       " '在',\n",
       " '南坪',\n",
       " '大道',\n",
       " '坂田',\n",
       " '出口',\n",
       " '往',\n",
       " '龙岗',\n",
       " '方向',\n",
       " '的',\n",
       " '逆行',\n",
       " '辅道',\n",
       " '上',\n",
       " '发现',\n",
       " '该',\n",
       " '女子',\n",
       " '。',\n",
       " '女子',\n",
       " '身上',\n",
       " '一',\n",
       " '丝',\n",
       " '不',\n",
       " '挂',\n",
       " '地',\n",
       " '逆',\n",
       " '车流',\n",
       " '而',\n",
       " '行',\n",
       " '，',\n",
       " '时',\n",
       " '走',\n",
       " '时',\n",
       " '停',\n",
       " '，',\n",
       " '时',\n",
       " '坐',\n",
       " '时',\n",
       " '躺',\n",
       " '，',\n",
       " '险象环生',\n",
       " '。',\n",
       " '刘青',\n",
       " '停',\n",
       " '好',\n",
       " '小',\n",
       " '铁骑',\n",
       " '，',\n",
       " '和',\n",
       " '另外',\n",
       " '一',\n",
       " '名',\n",
       " '巡防员',\n",
       " '追',\n",
       " '了',\n",
       " '上去',\n",
       " '，',\n",
       " '发现',\n",
       " '女子',\n",
       " '的',\n",
       " '情绪',\n",
       " '很',\n",
       " '低落',\n",
       " '，',\n",
       " '话',\n",
       " '不',\n",
       " '多',\n",
       " '，',\n",
       " '刘青',\n",
       " '尝试',\n",
       " '和',\n",
       " '女子',\n",
       " '交流',\n",
       " '，',\n",
       " '劝说',\n",
       " '女子',\n",
       " '离开',\n",
       " '，',\n",
       " '可',\n",
       " '女子',\n",
       " '并',\n",
       " '不',\n",
       " '愿意',\n",
       " '接受',\n",
       " '，',\n",
       " '继续',\n",
       " '缓慢',\n",
       " '地',\n",
       " '往',\n",
       " '南坪',\n",
       " '快速路',\n",
       " '的',\n",
       " '主干道',\n",
       " '上',\n",
       " '走',\n",
       " '去',\n",
       " '。',\n",
       " '此时路',\n",
       " '边上',\n",
       " '已经',\n",
       " '聚集',\n",
       " '了',\n",
       " '很',\n",
       " '市民',\n",
       " '围观',\n",
       " '，',\n",
       " '为了',\n",
       " '不',\n",
       " '刺激',\n",
       " '女子',\n",
       " '的',\n",
       " '情绪',\n",
       " '，',\n",
       " '刘青',\n",
       " '和',\n",
       " '巡防员',\n",
       " '一边',\n",
       " '盯',\n",
       " '着',\n",
       " '女子',\n",
       " '一边',\n",
       " '驱赶',\n",
       " '着',\n",
       " '围观',\n",
       " '的',\n",
       " '群众',\n",
       " '。',\n",
       " '现场',\n",
       " '还原',\n",
       " '从',\n",
       " '警方',\n",
       " '提供',\n",
       " '的',\n",
       " '一',\n",
       " '份',\n",
       " '视频',\n",
       " '了解',\n",
       " '到',\n",
       " '，',\n",
       " '16日',\n",
       " '早上',\n",
       " '7时',\n",
       " '25分',\n",
       " '，',\n",
       " '女子',\n",
       " '出现',\n",
       " '在',\n",
       " '坂雪岗',\n",
       " '大道',\n",
       " '与',\n",
       " '环城',\n",
       " '南路',\n",
       " '的',\n",
       " '监控',\n",
       " '视频',\n",
       " '中',\n",
       " '，',\n",
       " '此时',\n",
       " '女子',\n",
       " '还',\n",
       " '穿',\n",
       " '着',\n",
       " '白色',\n",
       " '的',\n",
       " '内裤',\n",
       " '，',\n",
       " '正',\n",
       " '沿着',\n",
       " '坂雪岗',\n",
       " '大道',\n",
       " '往',\n",
       " '南坪',\n",
       " '快速',\n",
       " '的',\n",
       " '方向',\n",
       " '缓慢',\n",
       " '地',\n",
       " '走',\n",
       " '着',\n",
       " '。',\n",
       " '当时',\n",
       " '正值',\n",
       " '上班',\n",
       " '高峰期',\n",
       " '，',\n",
       " '十字路口',\n",
       " '的',\n",
       " '车流',\n",
       " '已经',\n",
       " '排',\n",
       " '起',\n",
       " '了',\n",
       " '长',\n",
       " '队',\n",
       " '。',\n",
       " '当',\n",
       " '女子',\n",
       " '出现',\n",
       " '时',\n",
       " '，',\n",
       " '路上',\n",
       " '的',\n",
       " '市民',\n",
       " '纷纷',\n",
       " '驻足',\n",
       " '观望',\n",
       " '，',\n",
       " '不少',\n",
       " '车辆',\n",
       " '也',\n",
       " '放慢',\n",
       " '了',\n",
       " '速度',\n",
       " '，',\n",
       " '但',\n",
       " '女子',\n",
       " '并',\n",
       " '不',\n",
       " '为',\n",
       " '市民',\n",
       " '观望',\n",
       " '停下',\n",
       " '脚步',\n",
       " '，',\n",
       " '依然',\n",
       " '缓慢',\n",
       " '走',\n",
       " '着',\n",
       " '。',\n",
       " '当',\n",
       " '女子',\n",
       " '行进',\n",
       " '到',\n",
       " '十字路口',\n",
       " '中间',\n",
       " '时',\n",
       " '，',\n",
       " '一',\n",
       " '辆',\n",
       " '大',\n",
       " '货车',\n",
       " '挡住',\n",
       " '了',\n",
       " '镜头',\n",
       " '，',\n",
       " '但是',\n",
       " '当',\n",
       " '女子',\n",
       " '再次',\n",
       " '出现',\n",
       " '镜头',\n",
       " '时',\n",
       " '，',\n",
       " '可以',\n",
       " '发现',\n",
       " '女子',\n",
       " '已经',\n",
       " '没',\n",
       " '穿',\n",
       " '内裤',\n",
       " '了',\n",
       " '，',\n",
       " '全身',\n",
       " '裸露',\n",
       " '继续',\n",
       " '朝着',\n",
       " '南坪',\n",
       " '快速',\n",
       " '方向',\n",
       " '走',\n",
       " '去',\n",
       " '。',\n",
       " '记者',\n",
       " '发现',\n",
       " '，',\n",
       " '视频',\n",
       " '中',\n",
       " '女子',\n",
       " '周围',\n",
       " '并',\n",
       " '没有',\n",
       " '人',\n",
       " '尾随',\n",
       " '或者',\n",
       " '上前',\n",
       " '劝止',\n",
       " '的',\n",
       " '市民',\n",
       " '。',\n",
       " '一大',\n",
       " '清早',\n",
       " '路上',\n",
       " '看到',\n",
       " '这样',\n",
       " '的',\n",
       " '情况',\n",
       " '恐怕',\n",
       " '大家',\n",
       " '都',\n",
       " '没',\n",
       " '办法',\n",
       " '淡定',\n",
       " '面对',\n",
       " '这',\n",
       " '一',\n",
       " '情况',\n",
       " '刘青',\n",
       " '表示',\n",
       " '，',\n",
       " '“',\n",
       " '一',\n",
       " '开始',\n",
       " '根本',\n",
       " '不',\n",
       " '敢',\n",
       " '看',\n",
       " '她',\n",
       " '，',\n",
       " '心里',\n",
       " '挺',\n",
       " '别扭',\n",
       " '，',\n",
       " '感觉',\n",
       " '很',\n",
       " '尴尬',\n",
       " '”',\n",
       " '，',\n",
       " '但',\n",
       " '当',\n",
       " '刘青',\n",
       " '跟随',\n",
       " '女子',\n",
       " '上',\n",
       " '了',\n",
       " '南坪',\n",
       " '快速',\n",
       " '路',\n",
       " '主干道',\n",
       " '时',\n",
       " '，',\n",
       " '女子',\n",
       " '作出',\n",
       " '了',\n",
       " '让',\n",
       " '人',\n",
       " '意想不到',\n",
       " '的',\n",
       " '举动',\n",
       " '，',\n",
       " '她',\n",
       " '突然',\n",
       " '靠近',\n",
       " '护栏',\n",
       " '要',\n",
       " '从',\n",
       " '上面',\n",
       " '跳',\n",
       " '下去',\n",
       " '，',\n",
       " '刘青',\n",
       " '赶忙',\n",
       " '冲',\n",
       " '上去',\n",
       " '拉',\n",
       " '住',\n",
       " '了',\n",
       " '女子',\n",
       " '的',\n",
       " '手',\n",
       " '，',\n",
       " '将',\n",
       " '其',\n",
       " '控制',\n",
       " '住',\n",
       " '并',\n",
       " '远离',\n",
       " '护栏',\n",
       " '。碍于',\n",
       " '女子',\n",
       " '没有',\n",
       " '穿',\n",
       " '衣服',\n",
       " '，',\n",
       " '刘青递',\n",
       " '上',\n",
       " '衣服',\n",
       " '，',\n",
       " '女子',\n",
       " '没',\n",
       " '接受',\n",
       " '还',\n",
       " '把',\n",
       " '衣服',\n",
       " '扔',\n",
       " '到',\n",
       " '排水沟',\n",
       " '里',\n",
       " '，',\n",
       " '继续',\n",
       " '往',\n",
       " '前',\n",
       " '走',\n",
       " '，',\n",
       " '没',\n",
       " '办法',\n",
       " '刘青',\n",
       " '只能',\n",
       " '紧紧',\n",
       " '拉',\n",
       " '着',\n",
       " '她',\n",
       " '的',\n",
       " '一',\n",
       " '只',\n",
       " '手',\n",
       " '跟',\n",
       " '在',\n",
       " '后面',\n",
       " '。',\n",
       " '刘青',\n",
       " '一路上',\n",
       " '耐心',\n",
       " '地',\n",
       " '开导',\n",
       " '安慰',\n",
       " '她',\n",
       " '，',\n",
       " '但',\n",
       " '只',\n",
       " '听到',\n",
       " '她',\n",
       " '不断',\n",
       " '地',\n",
       " '重复',\n",
       " '着',\n",
       " '一',\n",
       " '句',\n",
       " '话',\n",
       " '“',\n",
       " '要是',\n",
       " '你',\n",
       " '也',\n",
       " '遭遇',\n",
       " '我',\n",
       " '的',\n",
       " '事',\n",
       " '，',\n",
       " '你',\n",
       " ...]"
      ]
     },
     "execution_count": 21,
     "metadata": {},
     "output_type": "execute_result"
    }
   ],
   "source": [
    "# 将分词后的内容做两两合并，应该是这样\n",
    "reduce(lambda a, b: a + b, pure_content['tokenized_content'].tolist()).split()"
   ]
  },
  {
   "cell_type": "code",
   "execution_count": 22,
   "metadata": {},
   "outputs": [],
   "source": [
    "tokeners = [t for l in pure_content['tokenized_content'].tolist() for t in l.split()]"
   ]
  },
  {
   "cell_type": "code",
   "execution_count": 23,
   "metadata": {},
   "outputs": [
    {
     "data": {
      "text/plain": [
       "['此外', '，', '自', '本周', '（', '6月', '12日', '）', '起', '，']"
      ]
     },
     "execution_count": 23,
     "metadata": {},
     "output_type": "execute_result"
    }
   ],
   "source": [
    "tokeners[:10]  ##['此外', '，', '自', '本周', '（', '6', '月', '12', '日', '）']\n",
    "               ##['此外', '，', '自', '本周', '（', '6月', '12日', '）', '起', '，']"
   ]
  },
  {
   "cell_type": "markdown",
   "metadata": {},
   "source": [
    "## Counts the words occurence"
   ]
  },
  {
   "cell_type": "code",
   "execution_count": 24,
   "metadata": {},
   "outputs": [],
   "source": [
    "from collections import Counter"
   ]
  },
  {
   "cell_type": "code",
   "execution_count": 25,
   "metadata": {},
   "outputs": [],
   "source": [
    "tokener_counter = Counter(tokeners)\n",
    "frequence = {w: count/len(tokeners) for w, count in tokener_counter.items()}\n",
    "occurences_frequences = sorted(list(frequence.values()), reverse=True)\n",
    "X = range(len(occurences_frequences))"
   ]
  },
  {
   "cell_type": "code",
   "execution_count": 26,
   "metadata": {},
   "outputs": [],
   "source": [
    "import matplotlib.pyplot as plt"
   ]
  },
  {
   "cell_type": "code",
   "execution_count": 27,
   "metadata": {
    "scrolled": true
   },
   "outputs": [
    {
     "data": {
      "text/plain": [
       "[<matplotlib.lines.Line2D at 0x7f9855ee13c8>]"
      ]
     },
     "execution_count": 27,
     "metadata": {},
     "output_type": "execute_result"
    },
    {
     "data": {
      "image/png": "[encoded data removed]",
      "text/plain": [
       "<Figure size 432x288 with 1 Axes>"
      ]
     },
     "metadata": {
      "needs_background": "light"
     },
     "output_type": "display_data"
    }
   ],
   "source": [
    "plt.plot(X[:100], occurences_frequences[:100])"
   ]
  },
  {
   "cell_type": "code",
   "execution_count": 129,
   "metadata": {},
   "outputs": [],
   "source": [
    "# tokener_counter"
   ]
  },
  {
   "cell_type": "markdown",
   "metadata": {},
   "source": [
    "## TextRank"
   ]
  },
  {
   "cell_type": "code",
   "execution_count": 29,
   "metadata": {},
   "outputs": [],
   "source": [
    "import networkx\n",
    "import random"
   ]
  },
  {
   "cell_type": "code",
   "execution_count": 30,
   "metadata": {},
   "outputs": [],
   "source": [
    "# 这一段是用来理解如果通过newworkx构造图，计算pagerank\n",
    "# def genrate_name(length=3):  return ''.join(chr(random.randint(65, 73)) for _ in range(length))"
   ]
  },
  {
   "cell_type": "code",
   "execution_count": 123,
   "metadata": {},
   "outputs": [],
   "source": [
    "# genrate_name()"
   ]
  },
  {
   "cell_type": "code",
   "execution_count": 122,
   "metadata": {},
   "outputs": [],
   "source": [
    "# graph = {\n",
    "#     'Yao': ['Guo', 'Wang', 'Tian', 'Tim'] + [genrate_name() for _ in range(6)], \n",
    "#     'Guo': ['Li'] + [genrate_name() for _ in range(5)], \n",
    "#     'Wang': ['Li_2'] + [genrate_name() for _ in range(5)], \n",
    "#     'Li': [genrate_name() for _ in range(3)], \n",
    "#     'Li_2': [genrate_name() for _ in range(1)]\n",
    "# }"
   ]
  },
  {
   "cell_type": "code",
   "execution_count": 124,
   "metadata": {},
   "outputs": [],
   "source": [
    "# graph"
   ]
  },
  {
   "cell_type": "code",
   "execution_count": 125,
   "metadata": {},
   "outputs": [],
   "source": [
    "# social_network = networkx.graph.Graph()"
   ]
  },
  {
   "cell_type": "code",
   "execution_count": 35,
   "metadata": {},
   "outputs": [],
   "source": [
    "# for vertex, edge in graph.items():\n",
    "#     for v in edge:\n",
    "#         social_network.add_edges_from([(vertex, v)])"
   ]
  },
  {
   "cell_type": "code",
   "execution_count": 126,
   "metadata": {},
   "outputs": [],
   "source": [
    "# networkx.draw_networkx(social_network)"
   ]
  },
  {
   "cell_type": "code",
   "execution_count": 127,
   "metadata": {
    "scrolled": true
   },
   "outputs": [],
   "source": [
    "# ranking_result = networkx.pagerank(social_network)\n",
    "# sorted(ranking_result.items(), key=lambda x: x[1], reverse=True)"
   ]
  },
  {
   "cell_type": "code",
   "execution_count": 128,
   "metadata": {
    "scrolled": true
   },
   "outputs": [],
   "source": [
    "# networkx.pagerank(social_network)"
   ]
  },
  {
   "cell_type": "markdown",
   "metadata": {},
   "source": [
    "## TextRank Page"
   ]
  },
  {
   "cell_type": "code",
   "execution_count": 121,
   "metadata": {
    "scrolled": true
   },
   "outputs": [],
   "source": [
    "# pure_content.head()"
   ]
  },
  {
   "cell_type": "code",
   "execution_count": 130,
   "metadata": {},
   "outputs": [],
   "source": [
    "# lengthes_of_text = map(len, pure_content['content'].tolist())"
   ]
  },
  {
   "cell_type": "code",
   "execution_count": 131,
   "metadata": {
    "scrolled": true
   },
   "outputs": [],
   "source": [
    "# list(lengthes_of_text)[:20]"
   ]
  },
  {
   "cell_type": "code",
   "execution_count": 132,
   "metadata": {},
   "outputs": [],
   "source": [
    "# networkx.__path__"
   ]
  },
  {
   "cell_type": "code",
   "execution_count": 133,
   "metadata": {},
   "outputs": [],
   "source": [
    "from scipy.spatial.distance import cosine\n",
    "from functools import partial\n",
    "import re\n",
    "from sklearn.decomposition import PCA\n",
    "from pyltp import SentenceSplitter\n",
    "import matplotlib.font_manager as fm\n",
    "\n",
    "fp1 = fm.FontProperties(fname=\"/Users/mqgao/Downloads/SourceHanSerifSC-Regular.otf\")\n",
    "# how to set chinese display: \n",
    "# https://knowlab.wordpress.com/2016/05/25/networkx-%E7%B9%AA%E5%9C%96%E9%A1%AF%E7%A4%BA%E4%B8%AD%E6%96%87%E7%9A%84%E8%A7%A3%E6%B1%BA%E6%96%B9%E6%B3%95/\n",
    "\n",
    "\n",
    "def split_sentence(sentence):\n",
    "#     用正则分句后，空格也会被断开，导致摘要的结果比较怪异。\n",
    "#     pattern = re.compile('[。，,.]')\n",
    "#     split = pattern.sub(' ', sentence).split()  # split sentence\n",
    "#     return split\n",
    "\n",
    "    sents = SentenceSplitter.split(sentence) \n",
    "    result = [ x for x in sents if x != '']\n",
    "    return result\n",
    "\n",
    "def get_summarization_simple_with_text_rank(text, score_fn_type, constraint, window):\n",
    "    return get_summarization_simple(text, score_fn_type, constraint, window)\n",
    "\n",
    "def sentence_ranking_by_text_ranking(sentence, windows):\n",
    "    '''\n",
    "    根据构造好的图，计算pagerank\n",
    "    '''\n",
    "    sentence_graph = get_connect_graph_by_text_rank(sentence,windows)\n",
    "    ranking_sentence = networkx.pagerank(sentence_graph)\n",
    "    ranking_sentence = sorted(ranking_sentence.items(), key=lambda x: x[1], reverse=True)\n",
    "    return ranking_sentence\n",
    "\n",
    "def get_connect_graph_by_text_rank(split_sentence, window=3):\n",
    "    '''\n",
    "    将文章分句后，构造左右是windows数量的图\n",
    "    '''\n",
    "    keywords_graph = networkx.Graph()\n",
    "    tokeners = split_sentence\n",
    "#     tokeners = tokenized_text\n",
    "    for ii, t in enumerate(tokeners):\n",
    "        word_tuples = [(tokeners[connect], t) \n",
    "                       for connect in range(ii-window, ii+window+1) \n",
    "                       if connect >= 0 and connect < len(tokeners)]\n",
    "        keywords_graph.add_edges_from(word_tuples)\n",
    "\n",
    "    return keywords_graph\n",
    "\n",
    "\n",
    "def get_summarization_simple(text, score_fn_type, constraint, windows=3):\n",
    "    '''\n",
    "    提取摘要内容，这里获取句向量的相似度有两种方式：\n",
    "    1、根据句子构造的图，利用pagerank算出来 -- sentence_ranking_by_text_ranking\n",
    "    2、根据句向量和全文向量的相似度 -- get_corrlations\n",
    "    '''\n",
    "    sub_sentence = split_sentence(text)\n",
    "    if score_fn_type == 'networkx':\n",
    "        ranking_sentence = sentence_ranking_by_text_ranking(sub_sentence,windows)\n",
    "    else:\n",
    "        ranking_sentence = get_corrlations(sub_sentence, cut)\n",
    "                \n",
    "    selected_text = set()\n",
    "    current_text = ''\n",
    "    \n",
    "    for sen, _ in ranking_sentence:\n",
    "        if len(current_text) < constraint:\n",
    "            current_text += sen\n",
    "            selected_text.add(sen)\n",
    "        else:\n",
    "            break\n",
    "\n",
    "    summarized = []\n",
    "    for sen in sub_sentence:  # print the selected sentence by sequent\n",
    "        if sen in selected_text:\n",
    "            summarized.append(sen)\n",
    "    return summarized\n",
    "\n",
    "def get_corrlations(text, cut_fn):\n",
    "    '''\n",
    "    计算句子和全文的余弦相似度\n",
    "    '''\n",
    "    text_ = ''\n",
    "    if isinstance(text, list): \n",
    "        text_ = ' '.join(text)\n",
    "    else:\n",
    "        text_ = text\n",
    "        \n",
    "    sub_sentences = split_sentence(text_)\n",
    "    \n",
    "    sentence_vector = sentence_embedding(text_, cut_fn)\n",
    "        \n",
    "    correlations = {}\n",
    "    \n",
    "    for sub_sentence in sub_sentences:\n",
    "        sub_sen_vec = sentence_embedding(sub_sentence, cut_fn)\n",
    "        correlation = cosine(sentence_vector, sub_sen_vec)\n",
    "        correlations[sub_sentence]= correlation\n",
    "\n",
    "    return sorted(correlations.items(), key=lambda x: x[1], reverse=True)\n",
    "\n",
    "def sentence_embedding(sentence, cut):\n",
    "    # weight = alpah/(alpah + p) \n",
    "    # alpha is a parameter, 1e-3 ~ 1e-5\n",
    "    alpha = 1e-6\n",
    "    \n",
    "    global frequence\n",
    "    \n",
    "    max_fre = max(frequence.values())\n",
    "    \n",
    "    words = cut(sentence).split()\n",
    "    \n",
    "    sentence_vec = np.zeros_like(model.wv.__getitem__('测试'))\n",
    "    \n",
    "    words = [w for w in words if model.wv.__contains__(w)]\n",
    "    \n",
    "    for w in words:\n",
    "        weight = alpha / (alpha + frequence.get(w, max_fre))\n",
    "        sentence_vec += weight * model.wv.__getitem__(w)\n",
    "    \n",
    "    sentence_vec /= len(words)\n",
    "    # Skip the PCA\n",
    "#     estimator = PCA(n_components=1)\n",
    "#     sentence_vec_pca = estimator.fit_transform(sentence_vec.reshape(-1, 5))\n",
    "#     sentence_vec_pca = sentence_vec_pca.reshape(1,-1) \n",
    "    \n",
    "    return sentence_vec"
   ]
  },
  {
   "cell_type": "code",
   "execution_count": 167,
   "metadata": {},
   "outputs": [],
   "source": [
    "index =  2800 # 2496"
   ]
  },
  {
   "cell_type": "code",
   "execution_count": 168,
   "metadata": {},
   "outputs": [
    {
     "data": {
      "text/plain": [
       "'\\u3000\\u3000（原标题：福州首套房贷利率上浮10% 二套房贷利率上调20%）\\r\\n\\u3000\\u3000据福州晚报报道 近期全国多个城市陆续调高房贷利率。记者昨日获悉，在榕银行房贷利率调整步伐加快，近日又有银行上调了首套房贷利率，其中高的上浮比例达到了10%，二套房贷利率也首次从原先的在基准利率基础上上浮10%调整为上浮20%。\\r\\n\\u3000\\u3000二套房贷利率首次上调20%\\r\\n\\u3000\\u3000在榕一家股份制银行支行工作人员表示，该行首套房贷利率已上调至基准利率的1.1倍，即在基准利率基础上上浮10%。与此同时，在榕另一家股份制银行首套房贷利率也从原先的上浮3%调整为上浮10%。\\r\\n\\u3000\\u3000此前在榕银行二套房贷利率按兵不动，为基准利率的1.1倍，随着首套房贷利率上浮10%，二套房贷利率首次调整，上述两家股份制银行二套房贷利率上浮比例已调整为20%。\\r\\n\\u3000\\u3000利率再次上浮，房贷成本支出将增加。以首套房贷为例，贷款100万元，贷款期限20年，执行基准利率（4.9%），月供为6500余元，总利息为57万多元；贷款利率上浮10%（5.39%），月供为6816.89元，总利息为63.6万元。\\r\\n\\u3000\\u3000同样贷款额同样期限，二套房贷利率上浮20%（5.88%），月供为7095.25元，比利率上浮10%增加278元；总利息为70.28万元，比利率上浮10%多出6.68万元。\\r\\n\\u3000\\u3000房贷未暂停 但要排长队\\r\\n\\u3000\\u3000据了解，目前福州房贷现状主要是利率持续上调且贷款额度紧张，客户办理业务要排长队，但未发现银行暂停房贷业务。\\r\\n\\u3000\\u3000业内人士表示，在榕银行主体多是一些全国性股份制银行，房贷额度虽然整体较为紧张，但还是会相应动态调整，不会轻易暂停房贷。\\r\\n\\u3000\\u3000昨日在榕一家股份制银行相关人士表示，现在房贷额度紧张，分行都在排队等总行下发的额度。现在客户需要排队等待放款，放款时间也无法明确，为了提前了解客户申请的情况，分行每周五都要汇总下周拟放款的名单，然后再按顺序放款。\\r\\n'"
      ]
     },
     "execution_count": 168,
     "metadata": {},
     "output_type": "execute_result"
    }
   ],
   "source": [
    "first_content_continous = pure_content.iloc[index]['content']\n",
    "first_content_continous"
   ]
  },
  {
   "cell_type": "code",
   "execution_count": 169,
   "metadata": {
    "scrolled": true
   },
   "outputs": [
    {
     "data": {
      "text/plain": [
       "'\\u3000\\u3000据福州晚报报道 近期全国多个城市陆续调高房贷利率。记者昨日获悉，在榕银行房贷利率调整步伐加快，近日又有银行上调了首套房贷利率，其中高的上浮比例达到了10%，二套房贷利率也首次从原先的在基准利率基础上上浮10%调整为上浮20%。\\u3000\\u3000业内人士表示，在榕银行主体多是一些全国性股份制银行，房贷额度虽然整体较为紧张，但还是会相应动态调整，不会轻易暂停房贷。\\u3000\\u3000昨日在榕一家股份制银行相关人士表示，现在房贷额度紧张，分行都在排队等总行下发的额度。'"
      ]
     },
     "execution_count": 169,
     "metadata": {},
     "output_type": "execute_result"
    }
   ],
   "source": [
    "''.join(get_summarization_simple_with_text_rank(pure_content.iloc[index]['content'],\n",
    "                                                'networkx', \n",
    "                                                constraint=200, \n",
    "                                                window=1))"
   ]
  },
  {
   "cell_type": "code",
   "execution_count": 170,
   "metadata": {
    "scrolled": false
   },
   "outputs": [
    {
     "data": {
      "text/plain": [
       "'\\u3000\\u3000业内人士表示，在榕银行主体多是一些全国性股份制银行，房贷额度虽然整体较为紧张，但还是会相应动态调整，不会轻易暂停房贷。 \\u3000\\u3000昨日在榕一家股份制银行相关人士表示，现在房贷额度紧张，分行都在排队等总行下发的额度。 现在客户需要排队等待放款，放款时间也无法明确，为了提前了解客户申请的情况，分行每周五都要汇总下周拟放款的名单，然后再按顺序放款。'"
      ]
     },
     "execution_count": 170,
     "metadata": {},
     "output_type": "execute_result"
    }
   ],
   "source": [
    "' '.join(get_summarization_simple(pure_content.iloc[index]['content'], \n",
    "                                                 'cosin', \n",
    "                                                 constraint=200, windows=0))"
   ]
  },
  {
   "cell_type": "code",
   "execution_count": 137,
   "metadata": {},
   "outputs": [],
   "source": [
    "# first_content = pure_content.iloc[index]['tokenized_content']"
   ]
  },
  {
   "cell_type": "code",
   "execution_count": 80,
   "metadata": {
    "scrolled": true
   },
   "outputs": [],
   "source": [
    "# first_content_continous.replace(',', ' ').split()"
   ]
  },
  {
   "cell_type": "code",
   "execution_count": 70,
   "metadata": {},
   "outputs": [],
   "source": [
    "# s = first_content_continous\n",
    "# document = '''\n",
    "# '虽然至今夏普智能手机在市场上无法排得上号，已经完全没落，并于 2013 年退出中国市场，但是今年 3 月份官方突然宣布回归中国，预示着很快就有夏普新机在中国登场了。那么，第一款夏普手机什么时候登陆中国呢？又会是怎么样的手机呢？\\r\\n近日，一款型号为 FS8016 的夏普神秘新机悄然出现在 GeekBench 的跑分库上。从其中相关信息了解到，这款机子并非旗舰定位，所搭载的是高通骁龙 660 处理器，配备有 4GB 的内存。骁龙 660 是高通今年最受瞩目的芯片之一，采用 14 纳米工艺，八个 Kryo 260 核心设计，集成 Adreno 512 GPU 和 X12 LTE 调制解调器。\\r\\n当前市面上只有一款机子采用了骁龙 660 处理器，那就是已经上市销售的 OPPO R11。骁龙 660 尽管并非旗舰芯片，但在多核新能上比去年骁龙 820 强，单核改进也很明显，所以放在今年仍可以让很多手机变成高端机。不过，由于 OPPO 与高通签署了排他性协议，可以独占两三个月时间。\\r\\n考虑到夏普既然开始测试新机了，说明只要等独占时期一过，夏普就能发布骁龙 660 新品了。按照之前被曝光的渲染图了解，夏普的新机核心竞争优势还是全面屏，因为从 2013 年推出全球首款全面屏手机 EDGEST 302SH 至今，夏普手机推出了多达 28 款的全面屏手机。\\r\\n在 5 月份的媒体沟通会上，惠普罗忠生表示：“我敢打赌，12 个月之后，在座的各位手机都会换掉。因为全面屏时代的到来，我们怀揣的手机都将成为传统手机。”\\r\\n'\n",
    "# '''\n",
    "# get_corrlations(s, cut)\n",
    "# sentence_embedding(s, cut)"
   ]
  },
  {
   "cell_type": "code",
   "execution_count": 71,
   "metadata": {
    "scrolled": true
   },
   "outputs": [],
   "source": [
    "# pattern = re.compile('[。，,.]')\n",
    "# token_by_sentence_first = pattern.sub(' ', first_content_continous).split()\n",
    "# token_by_sentence_first = split_sentence(first_content)\n",
    "# token_by_sentence_first = split_sentence(first_content)\n",
    "# token_by_sentence_first[:]"
   ]
  },
  {
   "cell_type": "code",
   "execution_count": 72,
   "metadata": {
    "scrolled": true
   },
   "outputs": [],
   "source": [
    "# ranking_sentence = networkx.pagerank(sentence_graph)\n",
    "# ranking_sentence"
   ]
  },
  {
   "cell_type": "code",
   "execution_count": 73,
   "metadata": {},
   "outputs": [],
   "source": [
    "# sentence_graph = get_connect_graph_by_text_rank(token_by_sentence_first, 1)\n",
    "# networkx.draw(sentence_graph)"
   ]
  },
  {
   "cell_type": "code",
   "execution_count": 82,
   "metadata": {},
   "outputs": [],
   "source": [
    "# corrlations_with_global_cut = partial(get_corrlations, cut_fn=cut)\n",
    "# corrlations_with_global_cut = partial(get_corrlations, cut_fn=another_cut)"
   ]
  },
  {
   "cell_type": "code",
   "execution_count": 1197,
   "metadata": {},
   "outputs": [],
   "source": [
    "# pure_content.iloc[2496]['content']"
   ]
  },
  {
   "cell_type": "code",
   "execution_count": 507,
   "metadata": {},
   "outputs": [],
   "source": [
    "# index = 2496\n",
    "# content = pure_content.iloc[index]['content']\n",
    "# if len(content) > 1000:\n",
    "#     print('{}----'.format(index))\n",
    "#     print(' '.join(get_summarization_simple(content, corrlations_with_global_cut)))"
   ]
  },
  {
   "cell_type": "code",
   "execution_count": 508,
   "metadata": {
    "scrolled": true
   },
   "outputs": [],
   "source": [
    "# ''.join(get_summarization_simple_with_text_rank(content, constraint=250))"
   ]
  },
  {
   "cell_type": "code",
   "execution_count": null,
   "metadata": {},
   "outputs": [],
   "source": []
  },
  {
   "cell_type": "code",
   "execution_count": 460,
   "metadata": {},
   "outputs": [],
   "source": [
    "# import networkx as nx\n",
    "# import matplotlib.pyplot as plt\n",
    "# %matplotlib inline"
   ]
  },
  {
   "cell_type": "code",
   "execution_count": 461,
   "metadata": {},
   "outputs": [],
   "source": [
    "# G = nx.petersen_graph()\n",
    "# plt.subplot(121)"
   ]
  },
  {
   "cell_type": "code",
   "execution_count": 139,
   "metadata": {},
   "outputs": [],
   "source": [
    "# nx.draw(G, with_labels=True, font_weight='bold')"
   ]
  },
  {
   "cell_type": "code",
   "execution_count": 463,
   "metadata": {},
   "outputs": [],
   "source": [
    "# plt.subplot(122)"
   ]
  },
  {
   "cell_type": "code",
   "execution_count": 140,
   "metadata": {},
   "outputs": [],
   "source": [
    "# nx.draw_shell(G, nlist=[range(5, 10), range(5)], with_labels=True, font_weight='bold')"
   ]
  },
  {
   "cell_type": "code",
   "execution_count": 141,
   "metadata": {},
   "outputs": [],
   "source": [
    "# import networkx as nx\n",
    "# import matplotlib.pyplot as plt\n",
    "\n",
    "# def build_diGraph(edges):\n",
    "#     \"\"\"\n",
    "#     初始化图\n",
    "#     :param edges: 存储有向边的列表\n",
    "#     :return: 使用有向边构造完毕的有向图\n",
    "#     \"\"\"\n",
    "#     G = nx.DiGraph()   # DiGraph()表示有向图\n",
    "#     for edge in edges:\n",
    "#         G.add_edge(edge[0], edge[1])   # 加入边\n",
    "#     return G"
   ]
  },
  {
   "cell_type": "code",
   "execution_count": 142,
   "metadata": {},
   "outputs": [],
   "source": [
    "# edges = [(\"A\", \"B\"), (\"B\", \"A\"), (\"B\", \"C\"), (\"C\", \"B\"), (\"A\", \"D\"), (\"D\", \"C\")]\n",
    "# # G = nx.petersen_graph()\n",
    "# G = build_diGraph(edges)\n",
    "\n",
    "# # 将图形画出\n",
    "# layout = nx.spring_layout(G)\n",
    "# nx.draw(G, pos=layout, with_labels=True, hold=False)\n",
    "# # for index in G.edges_iter(data=True):\n",
    "# #     print(index)   #输出所有边的节点关系和权重\n",
    "# plt.show()\n",
    "\n",
    "# # 最Naive的pagerank计算，最朴素的方式没有设置随机跳跃的部分，所以alpha=1\n",
    "# pr_value = nx.pagerank(G, alpha=1)\n",
    "# print(\"naive pagerank值是：\", pr_value)\n",
    "\n",
    "# # 改进后的pagerank计算，随机跳跃概率为15%，因此alpha=0.85\n",
    "# pr_impro_value = nx.pagerank(G, alpha=0.85)\n",
    "# print(\"improved pagerank值是：\", pr_impro_value)"
   ]
  },
  {
   "cell_type": "code",
   "execution_count": null,
   "metadata": {},
   "outputs": [],
   "source": []
  }
 ],
 "metadata": {
  "kernelspec": {
   "display_name": "Python 3",
   "language": "python",
   "name": "python3"
  },
  "language_info": {
   "codemirror_mode": {
    "name": "ipython",
    "version": 3
   },
   "file_extension": ".py",
   "mimetype": "text/x-python",
   "name": "python",
   "nbconvert_exporter": "python",
   "pygments_lexer": "ipython3",
   "version": "3.6.5"
  }
 },
 "nbformat": 4,
 "nbformat_minor": 2
}
